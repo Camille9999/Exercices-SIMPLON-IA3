{
 "cells": [
  {
   "cell_type": "code",
   "execution_count": 1,
   "metadata": {},
   "outputs": [],
   "source": [
    "import pandas as pd"
   ]
  },
  {
   "cell_type": "code",
   "execution_count": 5,
   "metadata": {},
   "outputs": [],
   "source": [
    "df_loyers = pd.read_csv(\"loyers.csv\", sep=';')\n",
    "df_prices = pd.read_csv(\"prices.csv\")"
   ]
  },
  {
   "cell_type": "code",
   "execution_count": 8,
   "metadata": {},
   "outputs": [
    {
     "data": {
      "text/html": [
       "<div><div id=a2241692-9385-473f-b081-5831b97d72db style=\"display:none; background-color:#9D6CFF; color:white; width:200px; height:30px; padding-left:5px; border-radius:4px; flex-direction:row; justify-content:space-around; align-items:center;\" onmouseover=\"this.style.backgroundColor='#BA9BF8'\" onmouseout=\"this.style.backgroundColor='#9D6CFF'\" onclick=\"window.commands?.execute('create-mitosheet-from-dataframe-output');\">See Full Dataframe in Mito</div> <script> if (window.commands?.hasCommand('create-mitosheet-from-dataframe-output')) document.getElementById('a2241692-9385-473f-b081-5831b97d72db').style.display = 'flex' </script> <table border=\"1\" class=\"dataframe\">\n",
       "  <thead>\n",
       "    <tr style=\"text-align: right;\">\n",
       "      <th></th>\n",
       "      <th>Code</th>\n",
       "      <th>Libellé</th>\n",
       "      <th>Loyer d'annonce par m² charges comprises pour un appartement type du parc privé locatif 2022</th>\n",
       "    </tr>\n",
       "  </thead>\n",
       "  <tbody>\n",
       "    <tr>\n",
       "      <th>0</th>\n",
       "      <td>1001</td>\n",
       "      <td>L'Abergement-Clémenciat</td>\n",
       "      <td>11.0</td>\n",
       "    </tr>\n",
       "    <tr>\n",
       "      <th>1</th>\n",
       "      <td>1002</td>\n",
       "      <td>L'Abergement-de-Varey</td>\n",
       "      <td>9.3</td>\n",
       "    </tr>\n",
       "    <tr>\n",
       "      <th>2</th>\n",
       "      <td>1004</td>\n",
       "      <td>Ambérieu-en-Bugey</td>\n",
       "      <td>11.2</td>\n",
       "    </tr>\n",
       "    <tr>\n",
       "      <th>3</th>\n",
       "      <td>1005</td>\n",
       "      <td>Ambérieux-en-Dombes</td>\n",
       "      <td>10.8</td>\n",
       "    </tr>\n",
       "    <tr>\n",
       "      <th>4</th>\n",
       "      <td>1006</td>\n",
       "      <td>Ambléon</td>\n",
       "      <td>9.2</td>\n",
       "    </tr>\n",
       "  </tbody>\n",
       "</table></div>"
      ],
      "text/plain": [
       "   Code                  Libellé  \\\n",
       "0  1001  L'Abergement-Clémenciat   \n",
       "1  1002    L'Abergement-de-Varey   \n",
       "2  1004        Ambérieu-en-Bugey   \n",
       "3  1005      Ambérieux-en-Dombes   \n",
       "4  1006                  Ambléon   \n",
       "\n",
       "   Loyer d'annonce par m² charges comprises pour un appartement type du parc privé locatif 2022  \n",
       "0                                               11.0                                             \n",
       "1                                                9.3                                             \n",
       "2                                               11.2                                             \n",
       "3                                               10.8                                             \n",
       "4                                                9.2                                             "
      ]
     },
     "execution_count": 8,
     "metadata": {},
     "output_type": "execute_result"
    }
   ],
   "source": [
    "df_loyers.head()"
   ]
  },
  {
   "cell_type": "code",
   "execution_count": 9,
   "metadata": {},
   "outputs": [
    {
     "data": {
      "text/html": [
       "<div><div id=8aa10022-59c0-4821-9fbc-a34ad2a1fd46 style=\"display:none; background-color:#9D6CFF; color:white; width:200px; height:30px; padding-left:5px; border-radius:4px; flex-direction:row; justify-content:space-around; align-items:center;\" onmouseover=\"this.style.backgroundColor='#BA9BF8'\" onmouseout=\"this.style.backgroundColor='#9D6CFF'\" onclick=\"window.commands?.execute('create-mitosheet-from-dataframe-output');\">See Full Dataframe in Mito</div> <script> if (window.commands?.hasCommand('create-mitosheet-from-dataframe-output')) document.getElementById('8aa10022-59c0-4821-9fbc-a34ad2a1fd46').style.display = 'flex' </script> <table border=\"1\" class=\"dataframe\">\n",
       "  <thead>\n",
       "    <tr style=\"text-align: right;\">\n",
       "      <th></th>\n",
       "      <th>web-scraper-order</th>\n",
       "      <th>web-scraper-start-url</th>\n",
       "      <th>cities</th>\n",
       "      <th>cities-href</th>\n",
       "      <th>price</th>\n",
       "    </tr>\n",
       "  </thead>\n",
       "  <tbody>\n",
       "    <tr>\n",
       "      <th>0</th>\n",
       "      <td>1683113208-151</td>\n",
       "      <td>https://www.efficity.com/prix-immobilier-m2/</td>\n",
       "      <td>Évreux (27)</td>\n",
       "      <td>https://www.efficity.com/prix-immobilier-m2/v_evreux_27000/</td>\n",
       "      <td>1 790 €</td>\n",
       "    </tr>\n",
       "    <tr>\n",
       "      <th>1</th>\n",
       "      <td>1683113210-152</td>\n",
       "      <td>https://www.efficity.com/prix-immobilier-m2/</td>\n",
       "      <td>Villeurbanne (69)</td>\n",
       "      <td>https://www.efficity.com/prix-immobilier-m2/v_villeurbanne_69100/</td>\n",
       "      <td>3 870 €</td>\n",
       "    </tr>\n",
       "    <tr>\n",
       "      <th>2</th>\n",
       "      <td>1683113212-153</td>\n",
       "      <td>https://www.efficity.com/prix-immobilier-m2/</td>\n",
       "      <td>Vannes (56)</td>\n",
       "      <td>https://www.efficity.com/prix-immobilier-m2/v_vannes_56000/</td>\n",
       "      <td>3 970 €</td>\n",
       "    </tr>\n",
       "    <tr>\n",
       "      <th>3</th>\n",
       "      <td>1683113215-154</td>\n",
       "      <td>https://www.efficity.com/prix-immobilier-m2/</td>\n",
       "      <td>Tours (37)</td>\n",
       "      <td>https://www.efficity.com/prix-immobilier-m2/v_tours_37/</td>\n",
       "      <td>3 080 €</td>\n",
       "    </tr>\n",
       "    <tr>\n",
       "      <th>4</th>\n",
       "      <td>1683113217-155</td>\n",
       "      <td>https://www.efficity.com/prix-immobilier-m2/</td>\n",
       "      <td>Tourcoing (59)</td>\n",
       "      <td>https://www.efficity.com/prix-immobilier-m2/v_tourcoing_59200/</td>\n",
       "      <td>1 850 €</td>\n",
       "    </tr>\n",
       "  </tbody>\n",
       "</table></div>"
      ],
      "text/plain": [
       "  web-scraper-order                         web-scraper-start-url  \\\n",
       "0    1683113208-151  https://www.efficity.com/prix-immobilier-m2/   \n",
       "1    1683113210-152  https://www.efficity.com/prix-immobilier-m2/   \n",
       "2    1683113212-153  https://www.efficity.com/prix-immobilier-m2/   \n",
       "3    1683113215-154  https://www.efficity.com/prix-immobilier-m2/   \n",
       "4    1683113217-155  https://www.efficity.com/prix-immobilier-m2/   \n",
       "\n",
       "              cities                                        cities-href  \\\n",
       "0        Évreux (27)  https://www.efficity.com/prix-immobilier-m2/v_...   \n",
       "1  Villeurbanne (69)  https://www.efficity.com/prix-immobilier-m2/v_...   \n",
       "2        Vannes (56)  https://www.efficity.com/prix-immobilier-m2/v_...   \n",
       "3         Tours (37)  https://www.efficity.com/prix-immobilier-m2/v_...   \n",
       "4     Tourcoing (59)  https://www.efficity.com/prix-immobilier-m2/v_...   \n",
       "\n",
       "     price  \n",
       "0  1 790 €  \n",
       "1  3 870 €  \n",
       "2  3 970 €  \n",
       "3  3 080 €  \n",
       "4  1 850 €  "
      ]
     },
     "execution_count": 9,
     "metadata": {},
     "output_type": "execute_result"
    }
   ],
   "source": [
    "df_prices.head()"
   ]
  },
  {
   "cell_type": "code",
   "execution_count": 38,
   "metadata": {},
   "outputs": [],
   "source": [
    "def fix_prices(p):\n",
    "    r = float(p.replace('\\xa0', '')[:-1])\n",
    "    return r\n",
    "\n",
    "df_prices['ville'] = df_prices.cities.apply(lambda x: x.split(' (')[0])\n",
    "df_prices['prix'] = df_prices.price.apply(fix_prices)"
   ]
  },
  {
   "cell_type": "code",
   "execution_count": 39,
   "metadata": {},
   "outputs": [
    {
     "data": {
      "text/html": [
       "<div><div id=adb99f1e-b515-420d-9426-2af37318fc98 style=\"display:none; background-color:#9D6CFF; color:white; width:200px; height:30px; padding-left:5px; border-radius:4px; flex-direction:row; justify-content:space-around; align-items:center;\" onmouseover=\"this.style.backgroundColor='#BA9BF8'\" onmouseout=\"this.style.backgroundColor='#9D6CFF'\" onclick=\"window.commands?.execute('create-mitosheet-from-dataframe-output');\">See Full Dataframe in Mito</div> <script> if (window.commands?.hasCommand('create-mitosheet-from-dataframe-output')) document.getElementById('adb99f1e-b515-420d-9426-2af37318fc98').style.display = 'flex' </script> <table border=\"1\" class=\"dataframe\">\n",
       "  <thead>\n",
       "    <tr style=\"text-align: right;\">\n",
       "      <th></th>\n",
       "      <th>web-scraper-order</th>\n",
       "      <th>web-scraper-start-url</th>\n",
       "      <th>cities</th>\n",
       "      <th>cities-href</th>\n",
       "      <th>price</th>\n",
       "      <th>ville</th>\n",
       "      <th>prix</th>\n",
       "    </tr>\n",
       "  </thead>\n",
       "  <tbody>\n",
       "    <tr>\n",
       "      <th>0</th>\n",
       "      <td>1683113208-151</td>\n",
       "      <td>https://www.efficity.com/prix-immobilier-m2/</td>\n",
       "      <td>Évreux (27)</td>\n",
       "      <td>https://www.efficity.com/prix-immobilier-m2/v_evreux_27000/</td>\n",
       "      <td>1 790 €</td>\n",
       "      <td>Évreux</td>\n",
       "      <td>1790.0</td>\n",
       "    </tr>\n",
       "    <tr>\n",
       "      <th>1</th>\n",
       "      <td>1683113210-152</td>\n",
       "      <td>https://www.efficity.com/prix-immobilier-m2/</td>\n",
       "      <td>Villeurbanne (69)</td>\n",
       "      <td>https://www.efficity.com/prix-immobilier-m2/v_villeurbanne_69100/</td>\n",
       "      <td>3 870 €</td>\n",
       "      <td>Villeurbanne</td>\n",
       "      <td>3870.0</td>\n",
       "    </tr>\n",
       "    <tr>\n",
       "      <th>2</th>\n",
       "      <td>1683113212-153</td>\n",
       "      <td>https://www.efficity.com/prix-immobilier-m2/</td>\n",
       "      <td>Vannes (56)</td>\n",
       "      <td>https://www.efficity.com/prix-immobilier-m2/v_vannes_56000/</td>\n",
       "      <td>3 970 €</td>\n",
       "      <td>Vannes</td>\n",
       "      <td>3970.0</td>\n",
       "    </tr>\n",
       "    <tr>\n",
       "      <th>3</th>\n",
       "      <td>1683113215-154</td>\n",
       "      <td>https://www.efficity.com/prix-immobilier-m2/</td>\n",
       "      <td>Tours (37)</td>\n",
       "      <td>https://www.efficity.com/prix-immobilier-m2/v_tours_37/</td>\n",
       "      <td>3 080 €</td>\n",
       "      <td>Tours</td>\n",
       "      <td>3080.0</td>\n",
       "    </tr>\n",
       "    <tr>\n",
       "      <th>4</th>\n",
       "      <td>1683113217-155</td>\n",
       "      <td>https://www.efficity.com/prix-immobilier-m2/</td>\n",
       "      <td>Tourcoing (59)</td>\n",
       "      <td>https://www.efficity.com/prix-immobilier-m2/v_tourcoing_59200/</td>\n",
       "      <td>1 850 €</td>\n",
       "      <td>Tourcoing</td>\n",
       "      <td>1850.0</td>\n",
       "    </tr>\n",
       "  </tbody>\n",
       "</table></div>"
      ],
      "text/plain": [
       "  web-scraper-order                         web-scraper-start-url  \\\n",
       "0    1683113208-151  https://www.efficity.com/prix-immobilier-m2/   \n",
       "1    1683113210-152  https://www.efficity.com/prix-immobilier-m2/   \n",
       "2    1683113212-153  https://www.efficity.com/prix-immobilier-m2/   \n",
       "3    1683113215-154  https://www.efficity.com/prix-immobilier-m2/   \n",
       "4    1683113217-155  https://www.efficity.com/prix-immobilier-m2/   \n",
       "\n",
       "              cities                                        cities-href  \\\n",
       "0        Évreux (27)  https://www.efficity.com/prix-immobilier-m2/v_...   \n",
       "1  Villeurbanne (69)  https://www.efficity.com/prix-immobilier-m2/v_...   \n",
       "2        Vannes (56)  https://www.efficity.com/prix-immobilier-m2/v_...   \n",
       "3         Tours (37)  https://www.efficity.com/prix-immobilier-m2/v_...   \n",
       "4     Tourcoing (59)  https://www.efficity.com/prix-immobilier-m2/v_...   \n",
       "\n",
       "     price         ville    prix  \n",
       "0  1 790 €        Évreux  1790.0  \n",
       "1  3 870 €  Villeurbanne  3870.0  \n",
       "2  3 970 €        Vannes  3970.0  \n",
       "3  3 080 €         Tours  3080.0  \n",
       "4  1 850 €     Tourcoing  1850.0  "
      ]
     },
     "execution_count": 39,
     "metadata": {},
     "output_type": "execute_result"
    }
   ],
   "source": [
    "df_prices.head()"
   ]
  },
  {
   "cell_type": "code",
   "execution_count": 41,
   "metadata": {},
   "outputs": [],
   "source": [
    "df_loyers.to_csv('loyers_clean.csv', index=False)\n",
    "df_prices.to_csv('prices_clean.csv', index=False)"
   ]
  }
 ],
 "metadata": {
  "kernelspec": {
   "display_name": "Python 3",
   "language": "python",
   "name": "python3"
  },
  "language_info": {
   "codemirror_mode": {
    "name": "ipython",
    "version": 3
   },
   "file_extension": ".py",
   "mimetype": "text/x-python",
   "name": "python",
   "nbconvert_exporter": "python",
   "pygments_lexer": "ipython3",
   "version": "3.8.12"
  },
  "orig_nbformat": 4
 },
 "nbformat": 4,
 "nbformat_minor": 2
}
