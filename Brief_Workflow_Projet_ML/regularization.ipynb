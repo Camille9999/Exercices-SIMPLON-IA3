{
 "cells": [
  {
   "cell_type": "markdown",
   "id": "3cbab2a6",
   "metadata": {
    "slideshow": {
     "slide_type": "slide"
    }
   },
   "source": [
    "# Linear Regression  vs Ridge vs Lasso "
   ]
  },
  {
   "cell_type": "code",
   "execution_count": 1,
   "id": "d385f5f5",
   "metadata": {
    "ExecuteTime": {
     "end_time": "2022-12-19T12:49:24.138730Z",
     "start_time": "2022-12-19T12:49:21.406937Z"
    },
    "slideshow": {
     "slide_type": "skip"
    }
   },
   "outputs": [],
   "source": [
    "import numpy as np\n",
    "import pandas as pd\n",
    "import requests\n",
    "import matplotlib.pyplot as plt\n",
    "import seaborn as sns"
   ]
  },
  {
   "cell_type": "code",
   "execution_count": 3,
   "id": "b037d56a",
   "metadata": {
    "ExecuteTime": {
     "end_time": "2022-12-19T12:50:04.217409Z",
     "start_time": "2022-12-19T12:50:04.063543Z"
    },
    "slideshow": {
     "slide_type": "skip"
    }
   },
   "outputs": [],
   "source": [
    "from sklearn import datasets"
   ]
  },
  {
   "cell_type": "code",
   "execution_count": 4,
   "id": "d4d54cdc",
   "metadata": {
    "ExecuteTime": {
     "end_time": "2022-12-19T12:50:04.785657Z",
     "start_time": "2022-12-19T12:50:04.705238Z"
    },
    "slideshow": {
     "slide_type": "slide"
    }
   },
   "outputs": [
    {
     "data": {
      "text/html": [
       "<div>\n",
       "<style scoped>\n",
       "    .dataframe tbody tr th:only-of-type {\n",
       "        vertical-align: middle;\n",
       "    }\n",
       "\n",
       "    .dataframe tbody tr th {\n",
       "        vertical-align: top;\n",
       "    }\n",
       "\n",
       "    .dataframe thead th {\n",
       "        text-align: right;\n",
       "    }\n",
       "</style>\n",
       "<table border=\"1\" class=\"dataframe\">\n",
       "  <thead>\n",
       "    <tr style=\"text-align: right;\">\n",
       "      <th></th>\n",
       "      <th>age</th>\n",
       "      <th>sex</th>\n",
       "      <th>bmi</th>\n",
       "      <th>bp</th>\n",
       "      <th>s1</th>\n",
       "      <th>s2</th>\n",
       "      <th>s3</th>\n",
       "      <th>s4</th>\n",
       "      <th>s5</th>\n",
       "      <th>s6</th>\n",
       "    </tr>\n",
       "  </thead>\n",
       "  <tbody>\n",
       "    <tr>\n",
       "      <th>0</th>\n",
       "      <td>0.038076</td>\n",
       "      <td>0.050680</td>\n",
       "      <td>0.061696</td>\n",
       "      <td>0.021872</td>\n",
       "      <td>-0.044223</td>\n",
       "      <td>-0.034821</td>\n",
       "      <td>-0.043401</td>\n",
       "      <td>-0.002592</td>\n",
       "      <td>0.019907</td>\n",
       "      <td>-0.017646</td>\n",
       "    </tr>\n",
       "    <tr>\n",
       "      <th>1</th>\n",
       "      <td>-0.001882</td>\n",
       "      <td>-0.044642</td>\n",
       "      <td>-0.051474</td>\n",
       "      <td>-0.026328</td>\n",
       "      <td>-0.008449</td>\n",
       "      <td>-0.019163</td>\n",
       "      <td>0.074412</td>\n",
       "      <td>-0.039493</td>\n",
       "      <td>-0.068332</td>\n",
       "      <td>-0.092204</td>\n",
       "    </tr>\n",
       "    <tr>\n",
       "      <th>2</th>\n",
       "      <td>0.085299</td>\n",
       "      <td>0.050680</td>\n",
       "      <td>0.044451</td>\n",
       "      <td>-0.005670</td>\n",
       "      <td>-0.045599</td>\n",
       "      <td>-0.034194</td>\n",
       "      <td>-0.032356</td>\n",
       "      <td>-0.002592</td>\n",
       "      <td>0.002861</td>\n",
       "      <td>-0.025930</td>\n",
       "    </tr>\n",
       "    <tr>\n",
       "      <th>3</th>\n",
       "      <td>-0.089063</td>\n",
       "      <td>-0.044642</td>\n",
       "      <td>-0.011595</td>\n",
       "      <td>-0.036656</td>\n",
       "      <td>0.012191</td>\n",
       "      <td>0.024991</td>\n",
       "      <td>-0.036038</td>\n",
       "      <td>0.034309</td>\n",
       "      <td>0.022688</td>\n",
       "      <td>-0.009362</td>\n",
       "    </tr>\n",
       "    <tr>\n",
       "      <th>4</th>\n",
       "      <td>0.005383</td>\n",
       "      <td>-0.044642</td>\n",
       "      <td>-0.036385</td>\n",
       "      <td>0.021872</td>\n",
       "      <td>0.003935</td>\n",
       "      <td>0.015596</td>\n",
       "      <td>0.008142</td>\n",
       "      <td>-0.002592</td>\n",
       "      <td>-0.031988</td>\n",
       "      <td>-0.046641</td>\n",
       "    </tr>\n",
       "  </tbody>\n",
       "</table>\n",
       "</div>"
      ],
      "text/plain": [
       "        age       sex       bmi        bp        s1        s2        s3  \\\n",
       "0  0.038076  0.050680  0.061696  0.021872 -0.044223 -0.034821 -0.043401   \n",
       "1 -0.001882 -0.044642 -0.051474 -0.026328 -0.008449 -0.019163  0.074412   \n",
       "2  0.085299  0.050680  0.044451 -0.005670 -0.045599 -0.034194 -0.032356   \n",
       "3 -0.089063 -0.044642 -0.011595 -0.036656  0.012191  0.024991 -0.036038   \n",
       "4  0.005383 -0.044642 -0.036385  0.021872  0.003935  0.015596  0.008142   \n",
       "\n",
       "         s4        s5        s6  \n",
       "0 -0.002592  0.019907 -0.017646  \n",
       "1 -0.039493 -0.068332 -0.092204  \n",
       "2 -0.002592  0.002861 -0.025930  \n",
       "3  0.034309  0.022688 -0.009362  \n",
       "4 -0.002592 -0.031988 -0.046641  "
      ]
     },
     "execution_count": 4,
     "metadata": {},
     "output_type": "execute_result"
    }
   ],
   "source": [
    "X,y = datasets.load_diabetes(return_X_y=True, as_frame=True)\n",
    "X.head()"
   ]
  },
  {
   "cell_type": "code",
   "execution_count": 5,
   "id": "141a3106",
   "metadata": {
    "ExecuteTime": {
     "end_time": "2022-12-19T12:50:19.885744Z",
     "start_time": "2022-12-19T12:50:19.876580Z"
    },
    "slideshow": {
     "slide_type": "fragment"
    }
   },
   "outputs": [
    {
     "data": {
      "text/plain": [
       "0    151.0\n",
       "1     75.0\n",
       "2    141.0\n",
       "3    206.0\n",
       "4    135.0\n",
       "Name: target, dtype: float64"
      ]
     },
     "execution_count": 5,
     "metadata": {},
     "output_type": "execute_result"
    }
   ],
   "source": [
    "y.head()"
   ]
  },
  {
   "cell_type": "code",
   "execution_count": 8,
   "id": "4f7ccaee",
   "metadata": {
    "ExecuteTime": {
     "end_time": "2022-12-19T12:51:22.933398Z",
     "start_time": "2022-12-19T12:51:22.893768Z"
    },
    "slideshow": {
     "slide_type": "subslide"
    }
   },
   "outputs": [
    {
     "data": {
      "text/html": [
       "<style type=\"text/css\">\n",
       "#T_02dde_row0_col0, #T_02dde_row0_col1, #T_02dde_row1_col0, #T_02dde_row1_col1, #T_02dde_row1_col2, #T_02dde_row2_col0, #T_02dde_row2_col1, #T_02dde_row2_col2, #T_02dde_row3_col0, #T_02dde_row3_col1, #T_02dde_row3_col2, #T_02dde_row4_col0, #T_02dde_row4_col1, #T_02dde_row5_col0, #T_02dde_row5_col1, #T_02dde_row6_col0, #T_02dde_row6_col1, #T_02dde_row6_col2, #T_02dde_row7_col0, #T_02dde_row7_col1, #T_02dde_row8_col0, #T_02dde_row8_col1, #T_02dde_row8_col2, #T_02dde_row9_col0, #T_02dde_row9_col1 {\n",
       "  color: black;\n",
       "}\n",
       "#T_02dde_row0_col2, #T_02dde_row4_col2, #T_02dde_row5_col2, #T_02dde_row7_col2, #T_02dde_row9_col2 {\n",
       "  color: red;\n",
       "}\n",
       "</style>\n",
       "<table id=\"T_02dde_\">\n",
       "  <thead>\n",
       "    <tr>\n",
       "      <th class=\"blank level0\" >&nbsp;</th>\n",
       "      <th class=\"col_heading level0 col0\" >coef_linreg</th>\n",
       "      <th class=\"col_heading level0 col1\" >coef_ridge</th>\n",
       "      <th class=\"col_heading level0 col2\" >coef_lasso</th>\n",
       "    </tr>\n",
       "  </thead>\n",
       "  <tbody>\n",
       "    <tr>\n",
       "      <th id=\"T_02dde_level0_row0\" class=\"row_heading level0 row0\" >age</th>\n",
       "      <td id=\"T_02dde_row0_col0\" class=\"data row0 col0\" >-10</td>\n",
       "      <td id=\"T_02dde_row0_col1\" class=\"data row0 col1\" >7</td>\n",
       "      <td id=\"T_02dde_row0_col2\" class=\"data row0 col2\" >0</td>\n",
       "    </tr>\n",
       "    <tr>\n",
       "      <th id=\"T_02dde_level0_row1\" class=\"row_heading level0 row1\" >sex</th>\n",
       "      <td id=\"T_02dde_row1_col0\" class=\"data row1 col0\" >-239</td>\n",
       "      <td id=\"T_02dde_row1_col1\" class=\"data row1 col1\" >-182</td>\n",
       "      <td id=\"T_02dde_row1_col2\" class=\"data row1 col2\" >-75</td>\n",
       "    </tr>\n",
       "    <tr>\n",
       "      <th id=\"T_02dde_level0_row2\" class=\"row_heading level0 row2\" >bmi</th>\n",
       "      <td id=\"T_02dde_row2_col0\" class=\"data row2 col0\" >519</td>\n",
       "      <td id=\"T_02dde_row2_col1\" class=\"data row2 col1\" >457</td>\n",
       "      <td id=\"T_02dde_row2_col2\" class=\"data row2 col2\" >511</td>\n",
       "    </tr>\n",
       "    <tr>\n",
       "      <th id=\"T_02dde_level0_row3\" class=\"row_heading level0 row3\" >bp</th>\n",
       "      <td id=\"T_02dde_row3_col0\" class=\"data row3 col0\" >324</td>\n",
       "      <td id=\"T_02dde_row3_col1\" class=\"data row3 col1\" >284</td>\n",
       "      <td id=\"T_02dde_row3_col2\" class=\"data row3 col2\" >234</td>\n",
       "    </tr>\n",
       "    <tr>\n",
       "      <th id=\"T_02dde_level0_row4\" class=\"row_heading level0 row4\" >s1</th>\n",
       "      <td id=\"T_02dde_row4_col0\" class=\"data row4 col0\" >-792</td>\n",
       "      <td id=\"T_02dde_row4_col1\" class=\"data row4 col1\" >-48</td>\n",
       "      <td id=\"T_02dde_row4_col2\" class=\"data row4 col2\" >0</td>\n",
       "    </tr>\n",
       "    <tr>\n",
       "      <th id=\"T_02dde_level0_row5\" class=\"row_heading level0 row5\" >s2</th>\n",
       "      <td id=\"T_02dde_row5_col0\" class=\"data row5 col0\" >476</td>\n",
       "      <td id=\"T_02dde_row5_col1\" class=\"data row5 col1\" >-78</td>\n",
       "      <td id=\"T_02dde_row5_col2\" class=\"data row5 col2\" >0</td>\n",
       "    </tr>\n",
       "    <tr>\n",
       "      <th id=\"T_02dde_level0_row6\" class=\"row_heading level0 row6\" >s3</th>\n",
       "      <td id=\"T_02dde_row6_col0\" class=\"data row6 col0\" >101</td>\n",
       "      <td id=\"T_02dde_row6_col1\" class=\"data row6 col1\" >-189</td>\n",
       "      <td id=\"T_02dde_row6_col2\" class=\"data row6 col2\" >-170</td>\n",
       "    </tr>\n",
       "    <tr>\n",
       "      <th id=\"T_02dde_level0_row7\" class=\"row_heading level0 row7\" >s4</th>\n",
       "      <td id=\"T_02dde_row7_col0\" class=\"data row7 col0\" >177</td>\n",
       "      <td id=\"T_02dde_row7_col1\" class=\"data row7 col1\" >119</td>\n",
       "      <td id=\"T_02dde_row7_col2\" class=\"data row7 col2\" >0</td>\n",
       "    </tr>\n",
       "    <tr>\n",
       "      <th id=\"T_02dde_level0_row8\" class=\"row_heading level0 row8\" >s5</th>\n",
       "      <td id=\"T_02dde_row8_col0\" class=\"data row8 col0\" >751</td>\n",
       "      <td id=\"T_02dde_row8_col1\" class=\"data row8 col1\" >400</td>\n",
       "      <td id=\"T_02dde_row8_col2\" class=\"data row8 col2\" >450</td>\n",
       "    </tr>\n",
       "    <tr>\n",
       "      <th id=\"T_02dde_level0_row9\" class=\"row_heading level0 row9\" >s6</th>\n",
       "      <td id=\"T_02dde_row9_col0\" class=\"data row9 col0\" >67</td>\n",
       "      <td id=\"T_02dde_row9_col1\" class=\"data row9 col1\" >97</td>\n",
       "      <td id=\"T_02dde_row9_col2\" class=\"data row9 col2\" >0</td>\n",
       "    </tr>\n",
       "  </tbody>\n",
       "</table>\n"
      ],
      "text/plain": [
       "<pandas.io.formats.style.Styler at 0x10e07aeb0>"
      ]
     },
     "execution_count": 8,
     "metadata": {},
     "output_type": "execute_result"
    }
   ],
   "source": [
    "from sklearn.linear_model import Ridge, Lasso, LinearRegression\n",
    "\n",
    "linreg = LinearRegression().fit(X, y)\n",
    "ridge = Ridge(alpha=0.2).fit(X, y)\n",
    "lasso = Lasso(alpha=0.2).fit(X, y)\n",
    "\n",
    "coefs = pd.DataFrame({\n",
    "    \"coef_linreg\": pd.Series(linreg.coef_, index = X.columns),\n",
    "    \"coef_ridge\": pd.Series(ridge.coef_, index = X.columns),\n",
    "    \"coef_lasso\": pd.Series(lasso.coef_, index= X.columns)})\\\n",
    "\n",
    "coefs\\\n",
    "    .applymap(lambda x: int(x))\\\n",
    "    .style.applymap(lambda x: 'color: red' if x == 0 else 'color: black')"
   ]
  },
  {
   "cell_type": "markdown",
   "id": "179a1c28",
   "metadata": {
    "slideshow": {
     "slide_type": "slide"
    }
   },
   "source": [
    "## Ridge vs Lasso "
   ]
  },
  {
   "cell_type": "markdown",
   "id": "e51e58fb",
   "metadata": {
    "slideshow": {
     "slide_type": "notes"
    }
   },
   "source": [
    "source : https://www.analyticsvidhya.com/blog/2022/01/different-types-of-regression-models/"
   ]
  },
  {
   "cell_type": "markdown",
   "id": "01e174b4",
   "metadata": {
    "slideshow": {
     "slide_type": "fragment"
    }
   },
   "source": [
    "<img src=\"rl.png\" >"
   ]
  },
  {
   "cell_type": "markdown",
   "id": "c5687e9c",
   "metadata": {
    "slideshow": {
     "slide_type": "subslide"
    }
   },
   "source": [
    "## Interpretation avec les p-values"
   ]
  },
  {
   "cell_type": "code",
   "execution_count": 9,
   "id": "f0bf748e",
   "metadata": {
    "ExecuteTime": {
     "end_time": "2022-12-19T12:54:56.959515Z",
     "start_time": "2022-12-19T12:54:56.040197Z"
    },
    "slideshow": {
     "slide_type": "fragment"
    }
   },
   "outputs": [
    {
     "data": {
      "text/html": [
       "<table class=\"simpletable\">\n",
       "<caption>OLS Regression Results</caption>\n",
       "<tr>\n",
       "  <th>Dep. Variable:</th>         <td>target</td>      <th>  R-squared:         </th> <td>   0.518</td>\n",
       "</tr>\n",
       "<tr>\n",
       "  <th>Model:</th>                   <td>OLS</td>       <th>  Adj. R-squared:    </th> <td>   0.507</td>\n",
       "</tr>\n",
       "<tr>\n",
       "  <th>Method:</th>             <td>Least Squares</td>  <th>  F-statistic:       </th> <td>   46.27</td>\n",
       "</tr>\n",
       "<tr>\n",
       "  <th>Date:</th>             <td>Mon, 19 Dec 2022</td> <th>  Prob (F-statistic):</th> <td>3.83e-62</td>\n",
       "</tr>\n",
       "<tr>\n",
       "  <th>Time:</th>                 <td>13:54:56</td>     <th>  Log-Likelihood:    </th> <td> -2386.0</td>\n",
       "</tr>\n",
       "<tr>\n",
       "  <th>No. Observations:</th>      <td>   442</td>      <th>  AIC:               </th> <td>   4794.</td>\n",
       "</tr>\n",
       "<tr>\n",
       "  <th>Df Residuals:</th>          <td>   431</td>      <th>  BIC:               </th> <td>   4839.</td>\n",
       "</tr>\n",
       "<tr>\n",
       "  <th>Df Model:</th>              <td>    10</td>      <th>                     </th>     <td> </td>   \n",
       "</tr>\n",
       "<tr>\n",
       "  <th>Covariance Type:</th>      <td>nonrobust</td>    <th>                     </th>     <td> </td>   \n",
       "</tr>\n",
       "</table>\n",
       "<table class=\"simpletable\">\n",
       "<tr>\n",
       "    <td></td>       <th>coef</th>     <th>std err</th>      <th>t</th>      <th>P>|t|</th>  <th>[0.025</th>    <th>0.975]</th>  \n",
       "</tr>\n",
       "<tr>\n",
       "  <th>const</th> <td>  152.1335</td> <td>    2.576</td> <td>   59.061</td> <td> 0.000</td> <td>  147.071</td> <td>  157.196</td>\n",
       "</tr>\n",
       "<tr>\n",
       "  <th>age</th>   <td>  -10.0099</td> <td>   59.749</td> <td>   -0.168</td> <td> 0.867</td> <td> -127.446</td> <td>  107.426</td>\n",
       "</tr>\n",
       "<tr>\n",
       "  <th>sex</th>   <td> -239.8156</td> <td>   61.222</td> <td>   -3.917</td> <td> 0.000</td> <td> -360.147</td> <td> -119.484</td>\n",
       "</tr>\n",
       "<tr>\n",
       "  <th>bmi</th>   <td>  519.8459</td> <td>   66.533</td> <td>    7.813</td> <td> 0.000</td> <td>  389.076</td> <td>  650.616</td>\n",
       "</tr>\n",
       "<tr>\n",
       "  <th>bp</th>    <td>  324.3846</td> <td>   65.422</td> <td>    4.958</td> <td> 0.000</td> <td>  195.799</td> <td>  452.970</td>\n",
       "</tr>\n",
       "<tr>\n",
       "  <th>s1</th>    <td> -792.1756</td> <td>  416.680</td> <td>   -1.901</td> <td> 0.058</td> <td>-1611.153</td> <td>   26.802</td>\n",
       "</tr>\n",
       "<tr>\n",
       "  <th>s2</th>    <td>  476.7390</td> <td>  339.030</td> <td>    1.406</td> <td> 0.160</td> <td> -189.620</td> <td> 1143.098</td>\n",
       "</tr>\n",
       "<tr>\n",
       "  <th>s3</th>    <td>  101.0433</td> <td>  212.531</td> <td>    0.475</td> <td> 0.635</td> <td> -316.684</td> <td>  518.770</td>\n",
       "</tr>\n",
       "<tr>\n",
       "  <th>s4</th>    <td>  177.0632</td> <td>  161.476</td> <td>    1.097</td> <td> 0.273</td> <td> -140.315</td> <td>  494.441</td>\n",
       "</tr>\n",
       "<tr>\n",
       "  <th>s5</th>    <td>  751.2737</td> <td>  171.900</td> <td>    4.370</td> <td> 0.000</td> <td>  413.407</td> <td> 1089.140</td>\n",
       "</tr>\n",
       "<tr>\n",
       "  <th>s6</th>    <td>   67.6267</td> <td>   65.984</td> <td>    1.025</td> <td> 0.306</td> <td>  -62.064</td> <td>  197.318</td>\n",
       "</tr>\n",
       "</table>\n",
       "<table class=\"simpletable\">\n",
       "<tr>\n",
       "  <th>Omnibus:</th>       <td> 1.506</td> <th>  Durbin-Watson:     </th> <td>   2.029</td>\n",
       "</tr>\n",
       "<tr>\n",
       "  <th>Prob(Omnibus):</th> <td> 0.471</td> <th>  Jarque-Bera (JB):  </th> <td>   1.404</td>\n",
       "</tr>\n",
       "<tr>\n",
       "  <th>Skew:</th>          <td> 0.017</td> <th>  Prob(JB):          </th> <td>   0.496</td>\n",
       "</tr>\n",
       "<tr>\n",
       "  <th>Kurtosis:</th>      <td> 2.726</td> <th>  Cond. No.          </th> <td>    227.</td>\n",
       "</tr>\n",
       "</table><br/><br/>Notes:<br/>[1] Standard Errors assume that the covariance matrix of the errors is correctly specified."
      ],
      "text/plain": [
       "<class 'statsmodels.iolib.summary.Summary'>\n",
       "\"\"\"\n",
       "                            OLS Regression Results                            \n",
       "==============================================================================\n",
       "Dep. Variable:                 target   R-squared:                       0.518\n",
       "Model:                            OLS   Adj. R-squared:                  0.507\n",
       "Method:                 Least Squares   F-statistic:                     46.27\n",
       "Date:                Mon, 19 Dec 2022   Prob (F-statistic):           3.83e-62\n",
       "Time:                        13:54:56   Log-Likelihood:                -2386.0\n",
       "No. Observations:                 442   AIC:                             4794.\n",
       "Df Residuals:                     431   BIC:                             4839.\n",
       "Df Model:                          10                                         \n",
       "Covariance Type:            nonrobust                                         \n",
       "==============================================================================\n",
       "                 coef    std err          t      P>|t|      [0.025      0.975]\n",
       "------------------------------------------------------------------------------\n",
       "const        152.1335      2.576     59.061      0.000     147.071     157.196\n",
       "age          -10.0099     59.749     -0.168      0.867    -127.446     107.426\n",
       "sex         -239.8156     61.222     -3.917      0.000    -360.147    -119.484\n",
       "bmi          519.8459     66.533      7.813      0.000     389.076     650.616\n",
       "bp           324.3846     65.422      4.958      0.000     195.799     452.970\n",
       "s1          -792.1756    416.680     -1.901      0.058   -1611.153      26.802\n",
       "s2           476.7390    339.030      1.406      0.160    -189.620    1143.098\n",
       "s3           101.0433    212.531      0.475      0.635    -316.684     518.770\n",
       "s4           177.0632    161.476      1.097      0.273    -140.315     494.441\n",
       "s5           751.2737    171.900      4.370      0.000     413.407    1089.140\n",
       "s6            67.6267     65.984      1.025      0.306     -62.064     197.318\n",
       "==============================================================================\n",
       "Omnibus:                        1.506   Durbin-Watson:                   2.029\n",
       "Prob(Omnibus):                  0.471   Jarque-Bera (JB):                1.404\n",
       "Skew:                           0.017   Prob(JB):                        0.496\n",
       "Kurtosis:                       2.726   Cond. No.                         227.\n",
       "==============================================================================\n",
       "\n",
       "Notes:\n",
       "[1] Standard Errors assume that the covariance matrix of the errors is correctly specified.\n",
       "\"\"\""
      ]
     },
     "execution_count": 9,
     "metadata": {},
     "output_type": "execute_result"
    }
   ],
   "source": [
    "import statsmodels.api as sm\n",
    "ols = sm.OLS(y, sm.add_constant(X)).fit()\n",
    "ols.summary()"
   ]
  },
  {
   "cell_type": "code",
   "execution_count": 37,
   "id": "63690676",
   "metadata": {
    "ExecuteTime": {
     "end_time": "2022-12-19T13:01:37.769916Z",
     "start_time": "2022-12-19T13:01:37.727139Z"
    },
    "slideshow": {
     "slide_type": "subslide"
    }
   },
   "outputs": [
    {
     "data": {
      "text/html": [
       "<style type=\"text/css\">\n",
       "#T_9a5de_row0_col0, #T_9a5de_row0_col1, #T_9a5de_row0_col3, #T_9a5de_row1_col0, #T_9a5de_row1_col1, #T_9a5de_row1_col2, #T_9a5de_row2_col0, #T_9a5de_row2_col1, #T_9a5de_row2_col2, #T_9a5de_row3_col0, #T_9a5de_row3_col1, #T_9a5de_row3_col2, #T_9a5de_row4_col0, #T_9a5de_row4_col1, #T_9a5de_row4_col3, #T_9a5de_row5_col0, #T_9a5de_row5_col1, #T_9a5de_row5_col3, #T_9a5de_row6_col0, #T_9a5de_row6_col1, #T_9a5de_row6_col2, #T_9a5de_row6_col3, #T_9a5de_row7_col0, #T_9a5de_row7_col1, #T_9a5de_row7_col3, #T_9a5de_row8_col0, #T_9a5de_row8_col1, #T_9a5de_row8_col2, #T_9a5de_row9_col0, #T_9a5de_row9_col1, #T_9a5de_row9_col3 {\n",
       "  color: black;\n",
       "}\n",
       "#T_9a5de_row0_col2, #T_9a5de_row1_col3, #T_9a5de_row2_col3, #T_9a5de_row3_col3, #T_9a5de_row4_col2, #T_9a5de_row5_col2, #T_9a5de_row7_col2, #T_9a5de_row8_col3, #T_9a5de_row9_col2 {\n",
       "  color: red;\n",
       "}\n",
       "</style>\n",
       "<table id=\"T_9a5de_\">\n",
       "  <thead>\n",
       "    <tr>\n",
       "      <th class=\"blank level0\" >&nbsp;</th>\n",
       "      <th class=\"col_heading level0 col0\" >coef_linreg</th>\n",
       "      <th class=\"col_heading level0 col1\" >coef_ridge</th>\n",
       "      <th class=\"col_heading level0 col2\" >coef_lasso</th>\n",
       "      <th class=\"col_heading level0 col3\" >p-values</th>\n",
       "    </tr>\n",
       "  </thead>\n",
       "  <tbody>\n",
       "    <tr>\n",
       "      <th id=\"T_9a5de_level0_row0\" class=\"row_heading level0 row0\" >age</th>\n",
       "      <td id=\"T_9a5de_row0_col0\" class=\"data row0 col0\" >-10</td>\n",
       "      <td id=\"T_9a5de_row0_col1\" class=\"data row0 col1\" >7</td>\n",
       "      <td id=\"T_9a5de_row0_col2\" class=\"data row0 col2\" >0</td>\n",
       "      <td id=\"T_9a5de_row0_col3\" class=\"data row0 col3\" >86</td>\n",
       "    </tr>\n",
       "    <tr>\n",
       "      <th id=\"T_9a5de_level0_row1\" class=\"row_heading level0 row1\" >sex</th>\n",
       "      <td id=\"T_9a5de_row1_col0\" class=\"data row1 col0\" >-239</td>\n",
       "      <td id=\"T_9a5de_row1_col1\" class=\"data row1 col1\" >-182</td>\n",
       "      <td id=\"T_9a5de_row1_col2\" class=\"data row1 col2\" >-75</td>\n",
       "      <td id=\"T_9a5de_row1_col3\" class=\"data row1 col3\" >0</td>\n",
       "    </tr>\n",
       "    <tr>\n",
       "      <th id=\"T_9a5de_level0_row2\" class=\"row_heading level0 row2\" >bmi</th>\n",
       "      <td id=\"T_9a5de_row2_col0\" class=\"data row2 col0\" >519</td>\n",
       "      <td id=\"T_9a5de_row2_col1\" class=\"data row2 col1\" >457</td>\n",
       "      <td id=\"T_9a5de_row2_col2\" class=\"data row2 col2\" >511</td>\n",
       "      <td id=\"T_9a5de_row2_col3\" class=\"data row2 col3\" >0</td>\n",
       "    </tr>\n",
       "    <tr>\n",
       "      <th id=\"T_9a5de_level0_row3\" class=\"row_heading level0 row3\" >bp</th>\n",
       "      <td id=\"T_9a5de_row3_col0\" class=\"data row3 col0\" >324</td>\n",
       "      <td id=\"T_9a5de_row3_col1\" class=\"data row3 col1\" >284</td>\n",
       "      <td id=\"T_9a5de_row3_col2\" class=\"data row3 col2\" >234</td>\n",
       "      <td id=\"T_9a5de_row3_col3\" class=\"data row3 col3\" >0</td>\n",
       "    </tr>\n",
       "    <tr>\n",
       "      <th id=\"T_9a5de_level0_row4\" class=\"row_heading level0 row4\" >s1</th>\n",
       "      <td id=\"T_9a5de_row4_col0\" class=\"data row4 col0\" >-792</td>\n",
       "      <td id=\"T_9a5de_row4_col1\" class=\"data row4 col1\" >-48</td>\n",
       "      <td id=\"T_9a5de_row4_col2\" class=\"data row4 col2\" >0</td>\n",
       "      <td id=\"T_9a5de_row4_col3\" class=\"data row4 col3\" >5</td>\n",
       "    </tr>\n",
       "    <tr>\n",
       "      <th id=\"T_9a5de_level0_row5\" class=\"row_heading level0 row5\" >s2</th>\n",
       "      <td id=\"T_9a5de_row5_col0\" class=\"data row5 col0\" >476</td>\n",
       "      <td id=\"T_9a5de_row5_col1\" class=\"data row5 col1\" >-78</td>\n",
       "      <td id=\"T_9a5de_row5_col2\" class=\"data row5 col2\" >0</td>\n",
       "      <td id=\"T_9a5de_row5_col3\" class=\"data row5 col3\" >16</td>\n",
       "    </tr>\n",
       "    <tr>\n",
       "      <th id=\"T_9a5de_level0_row6\" class=\"row_heading level0 row6\" >s3</th>\n",
       "      <td id=\"T_9a5de_row6_col0\" class=\"data row6 col0\" >101</td>\n",
       "      <td id=\"T_9a5de_row6_col1\" class=\"data row6 col1\" >-189</td>\n",
       "      <td id=\"T_9a5de_row6_col2\" class=\"data row6 col2\" >-170</td>\n",
       "      <td id=\"T_9a5de_row6_col3\" class=\"data row6 col3\" >63</td>\n",
       "    </tr>\n",
       "    <tr>\n",
       "      <th id=\"T_9a5de_level0_row7\" class=\"row_heading level0 row7\" >s4</th>\n",
       "      <td id=\"T_9a5de_row7_col0\" class=\"data row7 col0\" >177</td>\n",
       "      <td id=\"T_9a5de_row7_col1\" class=\"data row7 col1\" >119</td>\n",
       "      <td id=\"T_9a5de_row7_col2\" class=\"data row7 col2\" >0</td>\n",
       "      <td id=\"T_9a5de_row7_col3\" class=\"data row7 col3\" >27</td>\n",
       "    </tr>\n",
       "    <tr>\n",
       "      <th id=\"T_9a5de_level0_row8\" class=\"row_heading level0 row8\" >s5</th>\n",
       "      <td id=\"T_9a5de_row8_col0\" class=\"data row8 col0\" >751</td>\n",
       "      <td id=\"T_9a5de_row8_col1\" class=\"data row8 col1\" >400</td>\n",
       "      <td id=\"T_9a5de_row8_col2\" class=\"data row8 col2\" >450</td>\n",
       "      <td id=\"T_9a5de_row8_col3\" class=\"data row8 col3\" >0</td>\n",
       "    </tr>\n",
       "    <tr>\n",
       "      <th id=\"T_9a5de_level0_row9\" class=\"row_heading level0 row9\" >s6</th>\n",
       "      <td id=\"T_9a5de_row9_col0\" class=\"data row9 col0\" >67</td>\n",
       "      <td id=\"T_9a5de_row9_col1\" class=\"data row9 col1\" >97</td>\n",
       "      <td id=\"T_9a5de_row9_col2\" class=\"data row9 col2\" >0</td>\n",
       "      <td id=\"T_9a5de_row9_col3\" class=\"data row9 col3\" >30</td>\n",
       "    </tr>\n",
       "  </tbody>\n",
       "</table>\n"
      ],
      "text/plain": [
       "<pandas.io.formats.style.Styler at 0x14bb45970>"
      ]
     },
     "execution_count": 37,
     "metadata": {},
     "output_type": "execute_result"
    }
   ],
   "source": [
    "linreg = LinearRegression().fit(X, y)\n",
    "ridge = Ridge(alpha=0.2).fit(X, y)\n",
    "lasso = Lasso(alpha=0.2).fit(X, y)\n",
    "\n",
    "coefs = pd.DataFrame({\n",
    "    \"coef_linreg\": pd.Series(linreg.coef_, index = X.columns),\n",
    "    \"coef_ridge\": pd.Series(ridge.coef_, index = X.columns),\n",
    "    \"coef_lasso\": pd.Series(lasso.coef_, index = X.columns),\n",
    "    \"p-values\":  pd.Series(ols.pvalues*100, index = ols.pvalues.index[1:])})\n",
    "\n",
    "coefs\\\n",
    "    .applymap(lambda x: int(x))\\\n",
    "    .style.applymap(lambda x: 'color: red' if x == 0 else 'color: black')"
   ]
  }
 ],
 "metadata": {
  "celltoolbar": "Diaporama",
  "hide_input": false,
  "kernelspec": {
   "display_name": "simplon",
   "language": "python",
   "name": "python3"
  },
  "language_info": {
   "codemirror_mode": {
    "name": "ipython",
    "version": 3
   },
   "file_extension": ".py",
   "mimetype": "text/x-python",
   "name": "python",
   "nbconvert_exporter": "python",
   "pygments_lexer": "ipython3",
   "version": "3.8.12 (default, Sep 28 2022, 10:43:30) \n[GCC 11.2.0]"
  },
  "toc": {
   "base_numbering": 1,
   "nav_menu": {},
   "number_sections": true,
   "sideBar": true,
   "skip_h1_title": false,
   "title_cell": "Table of Contents",
   "title_sidebar": "Contents",
   "toc_cell": false,
   "toc_position": {},
   "toc_section_display": true,
   "toc_window_display": false
  },
  "vscode": {
   "interpreter": {
    "hash": "503123401f496096e0f028585efad06d42166f80d999c13f687c901dac905c09"
   }
  }
 },
 "nbformat": 4,
 "nbformat_minor": 5
}
