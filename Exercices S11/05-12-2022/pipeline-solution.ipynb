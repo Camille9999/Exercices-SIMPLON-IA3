{
 "cells": [
  {
   "cell_type": "code",
   "execution_count": 1,
   "id": "400d2bf5",
   "metadata": {
    "ExecuteTime": {
     "end_time": "2022-12-05T16:04:02.675819Z",
     "start_time": "2022-12-05T16:04:00.700299Z"
    }
   },
   "outputs": [],
   "source": [
    "import numpy as np\n",
    "import pandas as pd\n",
    "import requests\n",
    "import matplotlib.pyplot as plt\n",
    "import seaborn as sns\n",
    "import warnings\n",
    "warnings.filterwarnings('ignore')"
   ]
  },
  {
   "cell_type": "markdown",
   "id": "990c7f01",
   "metadata": {},
   "source": [
    "# Pipeline"
   ]
  },
  {
   "cell_type": "code",
   "execution_count": 2,
   "id": "b7259fa9",
   "metadata": {
    "ExecuteTime": {
     "end_time": "2022-12-05T16:04:02.861462Z",
     "start_time": "2022-12-05T16:04:02.678195Z"
    }
   },
   "outputs": [],
   "source": [
    "from sklearn.model_selection import train_test_split"
   ]
  },
  {
   "cell_type": "code",
   "execution_count": 3,
   "id": "2954554b",
   "metadata": {
    "ExecuteTime": {
     "end_time": "2022-12-05T16:04:02.873145Z",
     "start_time": "2022-12-05T16:04:02.864109Z"
    }
   },
   "outputs": [],
   "source": [
    "data = sns.load_dataset(\"tips\")"
   ]
  },
  {
   "cell_type": "code",
   "execution_count": 4,
   "id": "a0c7fbcc",
   "metadata": {
    "ExecuteTime": {
     "end_time": "2022-12-05T16:04:02.879965Z",
     "start_time": "2022-12-05T16:04:02.875192Z"
    }
   },
   "outputs": [],
   "source": [
    "y = data['tip']\n",
    "\n",
    "X = data.drop(columns=['tip'])"
   ]
  },
  {
   "cell_type": "code",
   "execution_count": 5,
   "id": "cf9fc85e",
   "metadata": {
    "ExecuteTime": {
     "end_time": "2022-12-05T16:04:02.888322Z",
     "start_time": "2022-12-05T16:04:02.882654Z"
    }
   },
   "outputs": [],
   "source": [
    "X_train_3,X_test_3, y_train_3, y_test_3 = train_test_split(X, y, test_size=0.3, random_state=60)"
   ]
  },
  {
   "cell_type": "code",
   "execution_count": 6,
   "id": "b5ba95de",
   "metadata": {
    "ExecuteTime": {
     "end_time": "2022-12-05T16:04:02.997320Z",
     "start_time": "2022-12-05T16:04:02.890509Z"
    }
   },
   "outputs": [],
   "source": [
    "from sklearn.pipeline import Pipeline\n",
    "from sklearn.preprocessing import MinMaxScaler\n",
    "from sklearn.preprocessing import OneHotEncoder\n",
    "from sklearn.impute import SimpleImputer"
   ]
  },
  {
   "cell_type": "code",
   "execution_count": 7,
   "id": "89270db8",
   "metadata": {
    "ExecuteTime": {
     "end_time": "2022-12-05T16:04:03.003599Z",
     "start_time": "2022-12-05T16:04:03.000192Z"
    }
   },
   "outputs": [],
   "source": [
    "num_pipeline = Pipeline([\n",
    "    ('imputer', SimpleImputer(strategy=\"median\")),\n",
    "    ('minmax_scaler', MinMaxScaler())\n",
    "])"
   ]
  },
  {
   "cell_type": "code",
   "execution_count": 8,
   "id": "c1aff130",
   "metadata": {
    "ExecuteTime": {
     "end_time": "2022-12-05T16:04:03.009717Z",
     "start_time": "2022-12-05T16:04:03.005798Z"
    }
   },
   "outputs": [],
   "source": [
    "cat_transformer = OneHotEncoder(handle_unknown='ignore', drop='first')"
   ]
  },
  {
   "cell_type": "code",
   "execution_count": 9,
   "id": "137fe0ba",
   "metadata": {
    "ExecuteTime": {
     "end_time": "2022-12-05T16:04:03.023579Z",
     "start_time": "2022-12-05T16:04:03.015279Z"
    }
   },
   "outputs": [],
   "source": [
    "from sklearn.compose import ColumnTransformer"
   ]
  },
  {
   "cell_type": "code",
   "execution_count": 10,
   "id": "bcc6f96a",
   "metadata": {
    "ExecuteTime": {
     "end_time": "2022-12-05T16:04:03.029204Z",
     "start_time": "2022-12-05T16:04:03.025753Z"
    }
   },
   "outputs": [],
   "source": [
    "preprocessor = ColumnTransformer([\n",
    "    ('num_transformer', num_pipeline, [\"size\",\"total_bill\"]),\n",
    "    ('cat_transformer', cat_transformer, [\"sex\",\"smoker\",\"day\",\"time\"])\n",
    "])"
   ]
  },
  {
   "cell_type": "code",
   "execution_count": 11,
   "id": "0e80dda0",
   "metadata": {
    "ExecuteTime": {
     "end_time": "2022-12-05T16:04:03.034221Z",
     "start_time": "2022-12-05T16:04:03.031385Z"
    }
   },
   "outputs": [],
   "source": [
    "from sklearn.pipeline import make_pipeline\n"
   ]
  },
  {
   "cell_type": "code",
   "execution_count": 12,
   "id": "441322d4",
   "metadata": {
    "ExecuteTime": {
     "end_time": "2022-12-05T16:04:03.040698Z",
     "start_time": "2022-12-05T16:04:03.037092Z"
    }
   },
   "outputs": [],
   "source": [
    "from sklearn import set_config\n",
    "set_config(display=\"diagram\")"
   ]
  },
  {
   "cell_type": "code",
   "execution_count": 13,
   "id": "3a74c23f",
   "metadata": {
    "ExecuteTime": {
     "end_time": "2022-12-05T16:04:03.053477Z",
     "start_time": "2022-12-05T16:04:03.042792Z"
    }
   },
   "outputs": [],
   "source": [
    "from sklearn.linear_model import LinearRegression"
   ]
  },
  {
   "cell_type": "code",
   "execution_count": 14,
   "id": "8fa06233",
   "metadata": {
    "ExecuteTime": {
     "end_time": "2022-12-05T16:04:03.059579Z",
     "start_time": "2022-12-05T16:04:03.056384Z"
    }
   },
   "outputs": [],
   "source": [
    "pipeline_workflow = make_pipeline(preprocessor, LinearRegression())"
   ]
  },
  {
   "cell_type": "code",
   "execution_count": 15,
   "id": "a2f1a49c",
   "metadata": {
    "ExecuteTime": {
     "end_time": "2022-12-05T16:04:03.109431Z",
     "start_time": "2022-12-05T16:04:03.061952Z"
    }
   },
   "outputs": [
    {
     "data": {
      "text/html": [
       "<style>#sk-7a1c2a95-be2f-4ade-a0bf-c2fa4db1f031 {color: black;background-color: white;}#sk-7a1c2a95-be2f-4ade-a0bf-c2fa4db1f031 pre{padding: 0;}#sk-7a1c2a95-be2f-4ade-a0bf-c2fa4db1f031 div.sk-toggleable {background-color: white;}#sk-7a1c2a95-be2f-4ade-a0bf-c2fa4db1f031 label.sk-toggleable__label {cursor: pointer;display: block;width: 100%;margin-bottom: 0;padding: 0.3em;box-sizing: border-box;text-align: center;}#sk-7a1c2a95-be2f-4ade-a0bf-c2fa4db1f031 label.sk-toggleable__label-arrow:before {content: \"▸\";float: left;margin-right: 0.25em;color: #696969;}#sk-7a1c2a95-be2f-4ade-a0bf-c2fa4db1f031 label.sk-toggleable__label-arrow:hover:before {color: black;}#sk-7a1c2a95-be2f-4ade-a0bf-c2fa4db1f031 div.sk-estimator:hover label.sk-toggleable__label-arrow:before {color: black;}#sk-7a1c2a95-be2f-4ade-a0bf-c2fa4db1f031 div.sk-toggleable__content {max-height: 0;max-width: 0;overflow: hidden;text-align: left;background-color: #f0f8ff;}#sk-7a1c2a95-be2f-4ade-a0bf-c2fa4db1f031 div.sk-toggleable__content pre {margin: 0.2em;color: black;border-radius: 0.25em;background-color: #f0f8ff;}#sk-7a1c2a95-be2f-4ade-a0bf-c2fa4db1f031 input.sk-toggleable__control:checked~div.sk-toggleable__content {max-height: 200px;max-width: 100%;overflow: auto;}#sk-7a1c2a95-be2f-4ade-a0bf-c2fa4db1f031 input.sk-toggleable__control:checked~label.sk-toggleable__label-arrow:before {content: \"▾\";}#sk-7a1c2a95-be2f-4ade-a0bf-c2fa4db1f031 div.sk-estimator input.sk-toggleable__control:checked~label.sk-toggleable__label {background-color: #d4ebff;}#sk-7a1c2a95-be2f-4ade-a0bf-c2fa4db1f031 div.sk-label input.sk-toggleable__control:checked~label.sk-toggleable__label {background-color: #d4ebff;}#sk-7a1c2a95-be2f-4ade-a0bf-c2fa4db1f031 input.sk-hidden--visually {border: 0;clip: rect(1px 1px 1px 1px);clip: rect(1px, 1px, 1px, 1px);height: 1px;margin: -1px;overflow: hidden;padding: 0;position: absolute;width: 1px;}#sk-7a1c2a95-be2f-4ade-a0bf-c2fa4db1f031 div.sk-estimator {font-family: monospace;background-color: #f0f8ff;border: 1px dotted black;border-radius: 0.25em;box-sizing: border-box;margin-bottom: 0.5em;}#sk-7a1c2a95-be2f-4ade-a0bf-c2fa4db1f031 div.sk-estimator:hover {background-color: #d4ebff;}#sk-7a1c2a95-be2f-4ade-a0bf-c2fa4db1f031 div.sk-parallel-item::after {content: \"\";width: 100%;border-bottom: 1px solid gray;flex-grow: 1;}#sk-7a1c2a95-be2f-4ade-a0bf-c2fa4db1f031 div.sk-label:hover label.sk-toggleable__label {background-color: #d4ebff;}#sk-7a1c2a95-be2f-4ade-a0bf-c2fa4db1f031 div.sk-serial::before {content: \"\";position: absolute;border-left: 1px solid gray;box-sizing: border-box;top: 2em;bottom: 0;left: 50%;}#sk-7a1c2a95-be2f-4ade-a0bf-c2fa4db1f031 div.sk-serial {display: flex;flex-direction: column;align-items: center;background-color: white;padding-right: 0.2em;padding-left: 0.2em;}#sk-7a1c2a95-be2f-4ade-a0bf-c2fa4db1f031 div.sk-item {z-index: 1;}#sk-7a1c2a95-be2f-4ade-a0bf-c2fa4db1f031 div.sk-parallel {display: flex;align-items: stretch;justify-content: center;background-color: white;}#sk-7a1c2a95-be2f-4ade-a0bf-c2fa4db1f031 div.sk-parallel::before {content: \"\";position: absolute;border-left: 1px solid gray;box-sizing: border-box;top: 2em;bottom: 0;left: 50%;}#sk-7a1c2a95-be2f-4ade-a0bf-c2fa4db1f031 div.sk-parallel-item {display: flex;flex-direction: column;position: relative;background-color: white;}#sk-7a1c2a95-be2f-4ade-a0bf-c2fa4db1f031 div.sk-parallel-item:first-child::after {align-self: flex-end;width: 50%;}#sk-7a1c2a95-be2f-4ade-a0bf-c2fa4db1f031 div.sk-parallel-item:last-child::after {align-self: flex-start;width: 50%;}#sk-7a1c2a95-be2f-4ade-a0bf-c2fa4db1f031 div.sk-parallel-item:only-child::after {width: 0;}#sk-7a1c2a95-be2f-4ade-a0bf-c2fa4db1f031 div.sk-dashed-wrapped {border: 1px dashed gray;margin: 0 0.4em 0.5em 0.4em;box-sizing: border-box;padding-bottom: 0.4em;background-color: white;position: relative;}#sk-7a1c2a95-be2f-4ade-a0bf-c2fa4db1f031 div.sk-label label {font-family: monospace;font-weight: bold;background-color: white;display: inline-block;line-height: 1.2em;}#sk-7a1c2a95-be2f-4ade-a0bf-c2fa4db1f031 div.sk-label-container {position: relative;z-index: 2;text-align: center;}#sk-7a1c2a95-be2f-4ade-a0bf-c2fa4db1f031 div.sk-container {/* jupyter's `normalize.less` sets `[hidden] { display: none; }` but bootstrap.min.css set `[hidden] { display: none !important; }` so we also need the `!important` here to be able to override the default hidden behavior on the sphinx rendered scikit-learn.org. See: https://github.com/scikit-learn/scikit-learn/issues/21755 */display: inline-block !important;position: relative;}#sk-7a1c2a95-be2f-4ade-a0bf-c2fa4db1f031 div.sk-text-repr-fallback {display: none;}</style><div id=\"sk-7a1c2a95-be2f-4ade-a0bf-c2fa4db1f031\" class=\"sk-top-container\"><div class=\"sk-text-repr-fallback\"><pre>Pipeline(steps=[(&#x27;columntransformer&#x27;,\n",
       "                 ColumnTransformer(transformers=[(&#x27;num_transformer&#x27;,\n",
       "                                                  Pipeline(steps=[(&#x27;imputer&#x27;,\n",
       "                                                                   SimpleImputer(strategy=&#x27;median&#x27;)),\n",
       "                                                                  (&#x27;minmax_scaler&#x27;,\n",
       "                                                                   MinMaxScaler())]),\n",
       "                                                  [&#x27;size&#x27;, &#x27;total_bill&#x27;]),\n",
       "                                                 (&#x27;cat_transformer&#x27;,\n",
       "                                                  OneHotEncoder(drop=&#x27;first&#x27;,\n",
       "                                                                handle_unknown=&#x27;ignore&#x27;),\n",
       "                                                  [&#x27;sex&#x27;, &#x27;smoker&#x27;, &#x27;day&#x27;,\n",
       "                                                   &#x27;time&#x27;])])),\n",
       "                (&#x27;linearregression&#x27;, LinearRegression())])</pre><b>Please rerun this cell to show the HTML repr or trust the notebook.</b></div><div class=\"sk-container\" hidden><div class=\"sk-item sk-dashed-wrapped\"><div class=\"sk-label-container\"><div class=\"sk-label sk-toggleable\"><input class=\"sk-toggleable__control sk-hidden--visually\" id=\"e695cf18-b2bd-49eb-a043-5915b187d684\" type=\"checkbox\" ><label for=\"e695cf18-b2bd-49eb-a043-5915b187d684\" class=\"sk-toggleable__label sk-toggleable__label-arrow\">Pipeline</label><div class=\"sk-toggleable__content\"><pre>Pipeline(steps=[(&#x27;columntransformer&#x27;,\n",
       "                 ColumnTransformer(transformers=[(&#x27;num_transformer&#x27;,\n",
       "                                                  Pipeline(steps=[(&#x27;imputer&#x27;,\n",
       "                                                                   SimpleImputer(strategy=&#x27;median&#x27;)),\n",
       "                                                                  (&#x27;minmax_scaler&#x27;,\n",
       "                                                                   MinMaxScaler())]),\n",
       "                                                  [&#x27;size&#x27;, &#x27;total_bill&#x27;]),\n",
       "                                                 (&#x27;cat_transformer&#x27;,\n",
       "                                                  OneHotEncoder(drop=&#x27;first&#x27;,\n",
       "                                                                handle_unknown=&#x27;ignore&#x27;),\n",
       "                                                  [&#x27;sex&#x27;, &#x27;smoker&#x27;, &#x27;day&#x27;,\n",
       "                                                   &#x27;time&#x27;])])),\n",
       "                (&#x27;linearregression&#x27;, LinearRegression())])</pre></div></div></div><div class=\"sk-serial\"><div class=\"sk-item sk-dashed-wrapped\"><div class=\"sk-label-container\"><div class=\"sk-label sk-toggleable\"><input class=\"sk-toggleable__control sk-hidden--visually\" id=\"c396b14f-27af-4a73-844a-e90c30bcf6ea\" type=\"checkbox\" ><label for=\"c396b14f-27af-4a73-844a-e90c30bcf6ea\" class=\"sk-toggleable__label sk-toggleable__label-arrow\">columntransformer: ColumnTransformer</label><div class=\"sk-toggleable__content\"><pre>ColumnTransformer(transformers=[(&#x27;num_transformer&#x27;,\n",
       "                                 Pipeline(steps=[(&#x27;imputer&#x27;,\n",
       "                                                  SimpleImputer(strategy=&#x27;median&#x27;)),\n",
       "                                                 (&#x27;minmax_scaler&#x27;,\n",
       "                                                  MinMaxScaler())]),\n",
       "                                 [&#x27;size&#x27;, &#x27;total_bill&#x27;]),\n",
       "                                (&#x27;cat_transformer&#x27;,\n",
       "                                 OneHotEncoder(drop=&#x27;first&#x27;,\n",
       "                                               handle_unknown=&#x27;ignore&#x27;),\n",
       "                                 [&#x27;sex&#x27;, &#x27;smoker&#x27;, &#x27;day&#x27;, &#x27;time&#x27;])])</pre></div></div></div><div class=\"sk-parallel\"><div class=\"sk-parallel-item\"><div class=\"sk-item\"><div class=\"sk-label-container\"><div class=\"sk-label sk-toggleable\"><input class=\"sk-toggleable__control sk-hidden--visually\" id=\"9e75c151-1630-40e2-b5b7-95b6bd2a3968\" type=\"checkbox\" ><label for=\"9e75c151-1630-40e2-b5b7-95b6bd2a3968\" class=\"sk-toggleable__label sk-toggleable__label-arrow\">num_transformer</label><div class=\"sk-toggleable__content\"><pre>[&#x27;size&#x27;, &#x27;total_bill&#x27;]</pre></div></div></div><div class=\"sk-serial\"><div class=\"sk-item\"><div class=\"sk-serial\"><div class=\"sk-item\"><div class=\"sk-estimator sk-toggleable\"><input class=\"sk-toggleable__control sk-hidden--visually\" id=\"ac998611-0090-4248-b99c-b3bd6e16bfc8\" type=\"checkbox\" ><label for=\"ac998611-0090-4248-b99c-b3bd6e16bfc8\" class=\"sk-toggleable__label sk-toggleable__label-arrow\">SimpleImputer</label><div class=\"sk-toggleable__content\"><pre>SimpleImputer(strategy=&#x27;median&#x27;)</pre></div></div></div><div class=\"sk-item\"><div class=\"sk-estimator sk-toggleable\"><input class=\"sk-toggleable__control sk-hidden--visually\" id=\"61a450f4-b0a0-4c53-b82c-539d98c204c6\" type=\"checkbox\" ><label for=\"61a450f4-b0a0-4c53-b82c-539d98c204c6\" class=\"sk-toggleable__label sk-toggleable__label-arrow\">MinMaxScaler</label><div class=\"sk-toggleable__content\"><pre>MinMaxScaler()</pre></div></div></div></div></div></div></div></div><div class=\"sk-parallel-item\"><div class=\"sk-item\"><div class=\"sk-label-container\"><div class=\"sk-label sk-toggleable\"><input class=\"sk-toggleable__control sk-hidden--visually\" id=\"b624610c-8a9f-44bb-b26b-0bf9acf631d3\" type=\"checkbox\" ><label for=\"b624610c-8a9f-44bb-b26b-0bf9acf631d3\" class=\"sk-toggleable__label sk-toggleable__label-arrow\">cat_transformer</label><div class=\"sk-toggleable__content\"><pre>[&#x27;sex&#x27;, &#x27;smoker&#x27;, &#x27;day&#x27;, &#x27;time&#x27;]</pre></div></div></div><div class=\"sk-serial\"><div class=\"sk-item\"><div class=\"sk-estimator sk-toggleable\"><input class=\"sk-toggleable__control sk-hidden--visually\" id=\"97f01e2d-bf28-4fb7-b087-6b22fb345bd2\" type=\"checkbox\" ><label for=\"97f01e2d-bf28-4fb7-b087-6b22fb345bd2\" class=\"sk-toggleable__label sk-toggleable__label-arrow\">OneHotEncoder</label><div class=\"sk-toggleable__content\"><pre>OneHotEncoder(drop=&#x27;first&#x27;, handle_unknown=&#x27;ignore&#x27;)</pre></div></div></div></div></div></div></div></div><div class=\"sk-item\"><div class=\"sk-estimator sk-toggleable\"><input class=\"sk-toggleable__control sk-hidden--visually\" id=\"5a8dc523-8dc4-4696-8c1f-c64aac88ad3b\" type=\"checkbox\" ><label for=\"5a8dc523-8dc4-4696-8c1f-c64aac88ad3b\" class=\"sk-toggleable__label sk-toggleable__label-arrow\">LinearRegression</label><div class=\"sk-toggleable__content\"><pre>LinearRegression()</pre></div></div></div></div></div></div></div>"
      ],
      "text/plain": [
       "Pipeline(steps=[('columntransformer',\n",
       "                 ColumnTransformer(transformers=[('num_transformer',\n",
       "                                                  Pipeline(steps=[('imputer',\n",
       "                                                                   SimpleImputer(strategy='median')),\n",
       "                                                                  ('minmax_scaler',\n",
       "                                                                   MinMaxScaler())]),\n",
       "                                                  ['size', 'total_bill']),\n",
       "                                                 ('cat_transformer',\n",
       "                                                  OneHotEncoder(drop='first',\n",
       "                                                                handle_unknown='ignore'),\n",
       "                                                  ['sex', 'smoker', 'day',\n",
       "                                                   'time'])])),\n",
       "                ('linearregression', LinearRegression())])"
      ]
     },
     "execution_count": 15,
     "metadata": {},
     "output_type": "execute_result"
    }
   ],
   "source": [
    "pipeline_workflow"
   ]
  },
  {
   "cell_type": "code",
   "execution_count": 16,
   "id": "001cfece",
   "metadata": {
    "ExecuteTime": {
     "end_time": "2022-12-05T16:04:03.115032Z",
     "start_time": "2022-12-05T16:04:03.111767Z"
    }
   },
   "outputs": [],
   "source": [
    "from sklearn.linear_model import Ridge"
   ]
  },
  {
   "cell_type": "code",
   "execution_count": 17,
   "id": "97ba7114",
   "metadata": {
    "ExecuteTime": {
     "end_time": "2022-12-05T16:04:03.121207Z",
     "start_time": "2022-12-05T16:04:03.117155Z"
    }
   },
   "outputs": [],
   "source": [
    "pipeline_workflow_ridge = make_pipeline(preprocessor, Ridge())"
   ]
  },
  {
   "cell_type": "code",
   "execution_count": 18,
   "id": "33ebef9b",
   "metadata": {
    "ExecuteTime": {
     "end_time": "2022-12-05T16:04:03.163714Z",
     "start_time": "2022-12-05T16:04:03.123266Z"
    }
   },
   "outputs": [
    {
     "data": {
      "text/html": [
       "<style>#sk-4f791d27-32e5-4bd8-b68f-1e4088764ad9 {color: black;background-color: white;}#sk-4f791d27-32e5-4bd8-b68f-1e4088764ad9 pre{padding: 0;}#sk-4f791d27-32e5-4bd8-b68f-1e4088764ad9 div.sk-toggleable {background-color: white;}#sk-4f791d27-32e5-4bd8-b68f-1e4088764ad9 label.sk-toggleable__label {cursor: pointer;display: block;width: 100%;margin-bottom: 0;padding: 0.3em;box-sizing: border-box;text-align: center;}#sk-4f791d27-32e5-4bd8-b68f-1e4088764ad9 label.sk-toggleable__label-arrow:before {content: \"▸\";float: left;margin-right: 0.25em;color: #696969;}#sk-4f791d27-32e5-4bd8-b68f-1e4088764ad9 label.sk-toggleable__label-arrow:hover:before {color: black;}#sk-4f791d27-32e5-4bd8-b68f-1e4088764ad9 div.sk-estimator:hover label.sk-toggleable__label-arrow:before {color: black;}#sk-4f791d27-32e5-4bd8-b68f-1e4088764ad9 div.sk-toggleable__content {max-height: 0;max-width: 0;overflow: hidden;text-align: left;background-color: #f0f8ff;}#sk-4f791d27-32e5-4bd8-b68f-1e4088764ad9 div.sk-toggleable__content pre {margin: 0.2em;color: black;border-radius: 0.25em;background-color: #f0f8ff;}#sk-4f791d27-32e5-4bd8-b68f-1e4088764ad9 input.sk-toggleable__control:checked~div.sk-toggleable__content {max-height: 200px;max-width: 100%;overflow: auto;}#sk-4f791d27-32e5-4bd8-b68f-1e4088764ad9 input.sk-toggleable__control:checked~label.sk-toggleable__label-arrow:before {content: \"▾\";}#sk-4f791d27-32e5-4bd8-b68f-1e4088764ad9 div.sk-estimator input.sk-toggleable__control:checked~label.sk-toggleable__label {background-color: #d4ebff;}#sk-4f791d27-32e5-4bd8-b68f-1e4088764ad9 div.sk-label input.sk-toggleable__control:checked~label.sk-toggleable__label {background-color: #d4ebff;}#sk-4f791d27-32e5-4bd8-b68f-1e4088764ad9 input.sk-hidden--visually {border: 0;clip: rect(1px 1px 1px 1px);clip: rect(1px, 1px, 1px, 1px);height: 1px;margin: -1px;overflow: hidden;padding: 0;position: absolute;width: 1px;}#sk-4f791d27-32e5-4bd8-b68f-1e4088764ad9 div.sk-estimator {font-family: monospace;background-color: #f0f8ff;border: 1px dotted black;border-radius: 0.25em;box-sizing: border-box;margin-bottom: 0.5em;}#sk-4f791d27-32e5-4bd8-b68f-1e4088764ad9 div.sk-estimator:hover {background-color: #d4ebff;}#sk-4f791d27-32e5-4bd8-b68f-1e4088764ad9 div.sk-parallel-item::after {content: \"\";width: 100%;border-bottom: 1px solid gray;flex-grow: 1;}#sk-4f791d27-32e5-4bd8-b68f-1e4088764ad9 div.sk-label:hover label.sk-toggleable__label {background-color: #d4ebff;}#sk-4f791d27-32e5-4bd8-b68f-1e4088764ad9 div.sk-serial::before {content: \"\";position: absolute;border-left: 1px solid gray;box-sizing: border-box;top: 2em;bottom: 0;left: 50%;}#sk-4f791d27-32e5-4bd8-b68f-1e4088764ad9 div.sk-serial {display: flex;flex-direction: column;align-items: center;background-color: white;padding-right: 0.2em;padding-left: 0.2em;}#sk-4f791d27-32e5-4bd8-b68f-1e4088764ad9 div.sk-item {z-index: 1;}#sk-4f791d27-32e5-4bd8-b68f-1e4088764ad9 div.sk-parallel {display: flex;align-items: stretch;justify-content: center;background-color: white;}#sk-4f791d27-32e5-4bd8-b68f-1e4088764ad9 div.sk-parallel::before {content: \"\";position: absolute;border-left: 1px solid gray;box-sizing: border-box;top: 2em;bottom: 0;left: 50%;}#sk-4f791d27-32e5-4bd8-b68f-1e4088764ad9 div.sk-parallel-item {display: flex;flex-direction: column;position: relative;background-color: white;}#sk-4f791d27-32e5-4bd8-b68f-1e4088764ad9 div.sk-parallel-item:first-child::after {align-self: flex-end;width: 50%;}#sk-4f791d27-32e5-4bd8-b68f-1e4088764ad9 div.sk-parallel-item:last-child::after {align-self: flex-start;width: 50%;}#sk-4f791d27-32e5-4bd8-b68f-1e4088764ad9 div.sk-parallel-item:only-child::after {width: 0;}#sk-4f791d27-32e5-4bd8-b68f-1e4088764ad9 div.sk-dashed-wrapped {border: 1px dashed gray;margin: 0 0.4em 0.5em 0.4em;box-sizing: border-box;padding-bottom: 0.4em;background-color: white;position: relative;}#sk-4f791d27-32e5-4bd8-b68f-1e4088764ad9 div.sk-label label {font-family: monospace;font-weight: bold;background-color: white;display: inline-block;line-height: 1.2em;}#sk-4f791d27-32e5-4bd8-b68f-1e4088764ad9 div.sk-label-container {position: relative;z-index: 2;text-align: center;}#sk-4f791d27-32e5-4bd8-b68f-1e4088764ad9 div.sk-container {/* jupyter's `normalize.less` sets `[hidden] { display: none; }` but bootstrap.min.css set `[hidden] { display: none !important; }` so we also need the `!important` here to be able to override the default hidden behavior on the sphinx rendered scikit-learn.org. See: https://github.com/scikit-learn/scikit-learn/issues/21755 */display: inline-block !important;position: relative;}#sk-4f791d27-32e5-4bd8-b68f-1e4088764ad9 div.sk-text-repr-fallback {display: none;}</style><div id=\"sk-4f791d27-32e5-4bd8-b68f-1e4088764ad9\" class=\"sk-top-container\"><div class=\"sk-text-repr-fallback\"><pre>Pipeline(steps=[(&#x27;columntransformer&#x27;,\n",
       "                 ColumnTransformer(transformers=[(&#x27;num_transformer&#x27;,\n",
       "                                                  Pipeline(steps=[(&#x27;imputer&#x27;,\n",
       "                                                                   SimpleImputer(strategy=&#x27;median&#x27;)),\n",
       "                                                                  (&#x27;minmax_scaler&#x27;,\n",
       "                                                                   MinMaxScaler())]),\n",
       "                                                  [&#x27;size&#x27;, &#x27;total_bill&#x27;]),\n",
       "                                                 (&#x27;cat_transformer&#x27;,\n",
       "                                                  OneHotEncoder(drop=&#x27;first&#x27;,\n",
       "                                                                handle_unknown=&#x27;ignore&#x27;),\n",
       "                                                  [&#x27;sex&#x27;, &#x27;smoker&#x27;, &#x27;day&#x27;,\n",
       "                                                   &#x27;time&#x27;])])),\n",
       "                (&#x27;ridge&#x27;, Ridge())])</pre><b>Please rerun this cell to show the HTML repr or trust the notebook.</b></div><div class=\"sk-container\" hidden><div class=\"sk-item sk-dashed-wrapped\"><div class=\"sk-label-container\"><div class=\"sk-label sk-toggleable\"><input class=\"sk-toggleable__control sk-hidden--visually\" id=\"d89d28d1-4cda-49b8-9730-336d680d4074\" type=\"checkbox\" ><label for=\"d89d28d1-4cda-49b8-9730-336d680d4074\" class=\"sk-toggleable__label sk-toggleable__label-arrow\">Pipeline</label><div class=\"sk-toggleable__content\"><pre>Pipeline(steps=[(&#x27;columntransformer&#x27;,\n",
       "                 ColumnTransformer(transformers=[(&#x27;num_transformer&#x27;,\n",
       "                                                  Pipeline(steps=[(&#x27;imputer&#x27;,\n",
       "                                                                   SimpleImputer(strategy=&#x27;median&#x27;)),\n",
       "                                                                  (&#x27;minmax_scaler&#x27;,\n",
       "                                                                   MinMaxScaler())]),\n",
       "                                                  [&#x27;size&#x27;, &#x27;total_bill&#x27;]),\n",
       "                                                 (&#x27;cat_transformer&#x27;,\n",
       "                                                  OneHotEncoder(drop=&#x27;first&#x27;,\n",
       "                                                                handle_unknown=&#x27;ignore&#x27;),\n",
       "                                                  [&#x27;sex&#x27;, &#x27;smoker&#x27;, &#x27;day&#x27;,\n",
       "                                                   &#x27;time&#x27;])])),\n",
       "                (&#x27;ridge&#x27;, Ridge())])</pre></div></div></div><div class=\"sk-serial\"><div class=\"sk-item sk-dashed-wrapped\"><div class=\"sk-label-container\"><div class=\"sk-label sk-toggleable\"><input class=\"sk-toggleable__control sk-hidden--visually\" id=\"8ed840f6-3752-4c87-9669-11fa3042f97c\" type=\"checkbox\" ><label for=\"8ed840f6-3752-4c87-9669-11fa3042f97c\" class=\"sk-toggleable__label sk-toggleable__label-arrow\">columntransformer: ColumnTransformer</label><div class=\"sk-toggleable__content\"><pre>ColumnTransformer(transformers=[(&#x27;num_transformer&#x27;,\n",
       "                                 Pipeline(steps=[(&#x27;imputer&#x27;,\n",
       "                                                  SimpleImputer(strategy=&#x27;median&#x27;)),\n",
       "                                                 (&#x27;minmax_scaler&#x27;,\n",
       "                                                  MinMaxScaler())]),\n",
       "                                 [&#x27;size&#x27;, &#x27;total_bill&#x27;]),\n",
       "                                (&#x27;cat_transformer&#x27;,\n",
       "                                 OneHotEncoder(drop=&#x27;first&#x27;,\n",
       "                                               handle_unknown=&#x27;ignore&#x27;),\n",
       "                                 [&#x27;sex&#x27;, &#x27;smoker&#x27;, &#x27;day&#x27;, &#x27;time&#x27;])])</pre></div></div></div><div class=\"sk-parallel\"><div class=\"sk-parallel-item\"><div class=\"sk-item\"><div class=\"sk-label-container\"><div class=\"sk-label sk-toggleable\"><input class=\"sk-toggleable__control sk-hidden--visually\" id=\"394df8d5-b763-421d-a157-ce68f38f6e0a\" type=\"checkbox\" ><label for=\"394df8d5-b763-421d-a157-ce68f38f6e0a\" class=\"sk-toggleable__label sk-toggleable__label-arrow\">num_transformer</label><div class=\"sk-toggleable__content\"><pre>[&#x27;size&#x27;, &#x27;total_bill&#x27;]</pre></div></div></div><div class=\"sk-serial\"><div class=\"sk-item\"><div class=\"sk-serial\"><div class=\"sk-item\"><div class=\"sk-estimator sk-toggleable\"><input class=\"sk-toggleable__control sk-hidden--visually\" id=\"26aa5d0b-d660-4edf-907b-7ec1a5506402\" type=\"checkbox\" ><label for=\"26aa5d0b-d660-4edf-907b-7ec1a5506402\" class=\"sk-toggleable__label sk-toggleable__label-arrow\">SimpleImputer</label><div class=\"sk-toggleable__content\"><pre>SimpleImputer(strategy=&#x27;median&#x27;)</pre></div></div></div><div class=\"sk-item\"><div class=\"sk-estimator sk-toggleable\"><input class=\"sk-toggleable__control sk-hidden--visually\" id=\"308d187c-45c9-4136-9113-0342cf8a028b\" type=\"checkbox\" ><label for=\"308d187c-45c9-4136-9113-0342cf8a028b\" class=\"sk-toggleable__label sk-toggleable__label-arrow\">MinMaxScaler</label><div class=\"sk-toggleable__content\"><pre>MinMaxScaler()</pre></div></div></div></div></div></div></div></div><div class=\"sk-parallel-item\"><div class=\"sk-item\"><div class=\"sk-label-container\"><div class=\"sk-label sk-toggleable\"><input class=\"sk-toggleable__control sk-hidden--visually\" id=\"30922205-9e1a-4e4e-a4f2-1569bba5c61a\" type=\"checkbox\" ><label for=\"30922205-9e1a-4e4e-a4f2-1569bba5c61a\" class=\"sk-toggleable__label sk-toggleable__label-arrow\">cat_transformer</label><div class=\"sk-toggleable__content\"><pre>[&#x27;sex&#x27;, &#x27;smoker&#x27;, &#x27;day&#x27;, &#x27;time&#x27;]</pre></div></div></div><div class=\"sk-serial\"><div class=\"sk-item\"><div class=\"sk-estimator sk-toggleable\"><input class=\"sk-toggleable__control sk-hidden--visually\" id=\"bd8defe5-872c-4a87-84e5-e183e05a2078\" type=\"checkbox\" ><label for=\"bd8defe5-872c-4a87-84e5-e183e05a2078\" class=\"sk-toggleable__label sk-toggleable__label-arrow\">OneHotEncoder</label><div class=\"sk-toggleable__content\"><pre>OneHotEncoder(drop=&#x27;first&#x27;, handle_unknown=&#x27;ignore&#x27;)</pre></div></div></div></div></div></div></div></div><div class=\"sk-item\"><div class=\"sk-estimator sk-toggleable\"><input class=\"sk-toggleable__control sk-hidden--visually\" id=\"dea67888-9f16-438c-aded-657d206e7343\" type=\"checkbox\" ><label for=\"dea67888-9f16-438c-aded-657d206e7343\" class=\"sk-toggleable__label sk-toggleable__label-arrow\">Ridge</label><div class=\"sk-toggleable__content\"><pre>Ridge()</pre></div></div></div></div></div></div></div>"
      ],
      "text/plain": [
       "Pipeline(steps=[('columntransformer',\n",
       "                 ColumnTransformer(transformers=[('num_transformer',\n",
       "                                                  Pipeline(steps=[('imputer',\n",
       "                                                                   SimpleImputer(strategy='median')),\n",
       "                                                                  ('minmax_scaler',\n",
       "                                                                   MinMaxScaler())]),\n",
       "                                                  ['size', 'total_bill']),\n",
       "                                                 ('cat_transformer',\n",
       "                                                  OneHotEncoder(drop='first',\n",
       "                                                                handle_unknown='ignore'),\n",
       "                                                  ['sex', 'smoker', 'day',\n",
       "                                                   'time'])])),\n",
       "                ('ridge', Ridge())])"
      ]
     },
     "execution_count": 18,
     "metadata": {},
     "output_type": "execute_result"
    }
   ],
   "source": [
    "pipeline_workflow_ridge"
   ]
  },
  {
   "cell_type": "code",
   "execution_count": 19,
   "id": "1f4d1cad",
   "metadata": {
    "ExecuteTime": {
     "end_time": "2022-12-05T16:04:03.221316Z",
     "start_time": "2022-12-05T16:04:03.165762Z"
    }
   },
   "outputs": [
    {
     "data": {
      "text/html": [
       "<style>#sk-62e4fc21-e6b6-4bb0-bc6f-ae385e84e965 {color: black;background-color: white;}#sk-62e4fc21-e6b6-4bb0-bc6f-ae385e84e965 pre{padding: 0;}#sk-62e4fc21-e6b6-4bb0-bc6f-ae385e84e965 div.sk-toggleable {background-color: white;}#sk-62e4fc21-e6b6-4bb0-bc6f-ae385e84e965 label.sk-toggleable__label {cursor: pointer;display: block;width: 100%;margin-bottom: 0;padding: 0.3em;box-sizing: border-box;text-align: center;}#sk-62e4fc21-e6b6-4bb0-bc6f-ae385e84e965 label.sk-toggleable__label-arrow:before {content: \"▸\";float: left;margin-right: 0.25em;color: #696969;}#sk-62e4fc21-e6b6-4bb0-bc6f-ae385e84e965 label.sk-toggleable__label-arrow:hover:before {color: black;}#sk-62e4fc21-e6b6-4bb0-bc6f-ae385e84e965 div.sk-estimator:hover label.sk-toggleable__label-arrow:before {color: black;}#sk-62e4fc21-e6b6-4bb0-bc6f-ae385e84e965 div.sk-toggleable__content {max-height: 0;max-width: 0;overflow: hidden;text-align: left;background-color: #f0f8ff;}#sk-62e4fc21-e6b6-4bb0-bc6f-ae385e84e965 div.sk-toggleable__content pre {margin: 0.2em;color: black;border-radius: 0.25em;background-color: #f0f8ff;}#sk-62e4fc21-e6b6-4bb0-bc6f-ae385e84e965 input.sk-toggleable__control:checked~div.sk-toggleable__content {max-height: 200px;max-width: 100%;overflow: auto;}#sk-62e4fc21-e6b6-4bb0-bc6f-ae385e84e965 input.sk-toggleable__control:checked~label.sk-toggleable__label-arrow:before {content: \"▾\";}#sk-62e4fc21-e6b6-4bb0-bc6f-ae385e84e965 div.sk-estimator input.sk-toggleable__control:checked~label.sk-toggleable__label {background-color: #d4ebff;}#sk-62e4fc21-e6b6-4bb0-bc6f-ae385e84e965 div.sk-label input.sk-toggleable__control:checked~label.sk-toggleable__label {background-color: #d4ebff;}#sk-62e4fc21-e6b6-4bb0-bc6f-ae385e84e965 input.sk-hidden--visually {border: 0;clip: rect(1px 1px 1px 1px);clip: rect(1px, 1px, 1px, 1px);height: 1px;margin: -1px;overflow: hidden;padding: 0;position: absolute;width: 1px;}#sk-62e4fc21-e6b6-4bb0-bc6f-ae385e84e965 div.sk-estimator {font-family: monospace;background-color: #f0f8ff;border: 1px dotted black;border-radius: 0.25em;box-sizing: border-box;margin-bottom: 0.5em;}#sk-62e4fc21-e6b6-4bb0-bc6f-ae385e84e965 div.sk-estimator:hover {background-color: #d4ebff;}#sk-62e4fc21-e6b6-4bb0-bc6f-ae385e84e965 div.sk-parallel-item::after {content: \"\";width: 100%;border-bottom: 1px solid gray;flex-grow: 1;}#sk-62e4fc21-e6b6-4bb0-bc6f-ae385e84e965 div.sk-label:hover label.sk-toggleable__label {background-color: #d4ebff;}#sk-62e4fc21-e6b6-4bb0-bc6f-ae385e84e965 div.sk-serial::before {content: \"\";position: absolute;border-left: 1px solid gray;box-sizing: border-box;top: 2em;bottom: 0;left: 50%;}#sk-62e4fc21-e6b6-4bb0-bc6f-ae385e84e965 div.sk-serial {display: flex;flex-direction: column;align-items: center;background-color: white;padding-right: 0.2em;padding-left: 0.2em;}#sk-62e4fc21-e6b6-4bb0-bc6f-ae385e84e965 div.sk-item {z-index: 1;}#sk-62e4fc21-e6b6-4bb0-bc6f-ae385e84e965 div.sk-parallel {display: flex;align-items: stretch;justify-content: center;background-color: white;}#sk-62e4fc21-e6b6-4bb0-bc6f-ae385e84e965 div.sk-parallel::before {content: \"\";position: absolute;border-left: 1px solid gray;box-sizing: border-box;top: 2em;bottom: 0;left: 50%;}#sk-62e4fc21-e6b6-4bb0-bc6f-ae385e84e965 div.sk-parallel-item {display: flex;flex-direction: column;position: relative;background-color: white;}#sk-62e4fc21-e6b6-4bb0-bc6f-ae385e84e965 div.sk-parallel-item:first-child::after {align-self: flex-end;width: 50%;}#sk-62e4fc21-e6b6-4bb0-bc6f-ae385e84e965 div.sk-parallel-item:last-child::after {align-self: flex-start;width: 50%;}#sk-62e4fc21-e6b6-4bb0-bc6f-ae385e84e965 div.sk-parallel-item:only-child::after {width: 0;}#sk-62e4fc21-e6b6-4bb0-bc6f-ae385e84e965 div.sk-dashed-wrapped {border: 1px dashed gray;margin: 0 0.4em 0.5em 0.4em;box-sizing: border-box;padding-bottom: 0.4em;background-color: white;position: relative;}#sk-62e4fc21-e6b6-4bb0-bc6f-ae385e84e965 div.sk-label label {font-family: monospace;font-weight: bold;background-color: white;display: inline-block;line-height: 1.2em;}#sk-62e4fc21-e6b6-4bb0-bc6f-ae385e84e965 div.sk-label-container {position: relative;z-index: 2;text-align: center;}#sk-62e4fc21-e6b6-4bb0-bc6f-ae385e84e965 div.sk-container {/* jupyter's `normalize.less` sets `[hidden] { display: none; }` but bootstrap.min.css set `[hidden] { display: none !important; }` so we also need the `!important` here to be able to override the default hidden behavior on the sphinx rendered scikit-learn.org. See: https://github.com/scikit-learn/scikit-learn/issues/21755 */display: inline-block !important;position: relative;}#sk-62e4fc21-e6b6-4bb0-bc6f-ae385e84e965 div.sk-text-repr-fallback {display: none;}</style><div id=\"sk-62e4fc21-e6b6-4bb0-bc6f-ae385e84e965\" class=\"sk-top-container\"><div class=\"sk-text-repr-fallback\"><pre>Pipeline(steps=[(&#x27;columntransformer&#x27;,\n",
       "                 ColumnTransformer(transformers=[(&#x27;num_transformer&#x27;,\n",
       "                                                  Pipeline(steps=[(&#x27;imputer&#x27;,\n",
       "                                                                   SimpleImputer(strategy=&#x27;median&#x27;)),\n",
       "                                                                  (&#x27;minmax_scaler&#x27;,\n",
       "                                                                   MinMaxScaler())]),\n",
       "                                                  [&#x27;size&#x27;, &#x27;total_bill&#x27;]),\n",
       "                                                 (&#x27;cat_transformer&#x27;,\n",
       "                                                  OneHotEncoder(drop=&#x27;first&#x27;,\n",
       "                                                                handle_unknown=&#x27;ignore&#x27;),\n",
       "                                                  [&#x27;sex&#x27;, &#x27;smoker&#x27;, &#x27;day&#x27;,\n",
       "                                                   &#x27;time&#x27;])])),\n",
       "                (&#x27;linearregression&#x27;, LinearRegression())])</pre><b>Please rerun this cell to show the HTML repr or trust the notebook.</b></div><div class=\"sk-container\" hidden><div class=\"sk-item sk-dashed-wrapped\"><div class=\"sk-label-container\"><div class=\"sk-label sk-toggleable\"><input class=\"sk-toggleable__control sk-hidden--visually\" id=\"3261b067-8b5f-4404-a55b-7a5fd65413e4\" type=\"checkbox\" ><label for=\"3261b067-8b5f-4404-a55b-7a5fd65413e4\" class=\"sk-toggleable__label sk-toggleable__label-arrow\">Pipeline</label><div class=\"sk-toggleable__content\"><pre>Pipeline(steps=[(&#x27;columntransformer&#x27;,\n",
       "                 ColumnTransformer(transformers=[(&#x27;num_transformer&#x27;,\n",
       "                                                  Pipeline(steps=[(&#x27;imputer&#x27;,\n",
       "                                                                   SimpleImputer(strategy=&#x27;median&#x27;)),\n",
       "                                                                  (&#x27;minmax_scaler&#x27;,\n",
       "                                                                   MinMaxScaler())]),\n",
       "                                                  [&#x27;size&#x27;, &#x27;total_bill&#x27;]),\n",
       "                                                 (&#x27;cat_transformer&#x27;,\n",
       "                                                  OneHotEncoder(drop=&#x27;first&#x27;,\n",
       "                                                                handle_unknown=&#x27;ignore&#x27;),\n",
       "                                                  [&#x27;sex&#x27;, &#x27;smoker&#x27;, &#x27;day&#x27;,\n",
       "                                                   &#x27;time&#x27;])])),\n",
       "                (&#x27;linearregression&#x27;, LinearRegression())])</pre></div></div></div><div class=\"sk-serial\"><div class=\"sk-item sk-dashed-wrapped\"><div class=\"sk-label-container\"><div class=\"sk-label sk-toggleable\"><input class=\"sk-toggleable__control sk-hidden--visually\" id=\"01153450-7db6-4898-ae51-e2c93f8ab669\" type=\"checkbox\" ><label for=\"01153450-7db6-4898-ae51-e2c93f8ab669\" class=\"sk-toggleable__label sk-toggleable__label-arrow\">columntransformer: ColumnTransformer</label><div class=\"sk-toggleable__content\"><pre>ColumnTransformer(transformers=[(&#x27;num_transformer&#x27;,\n",
       "                                 Pipeline(steps=[(&#x27;imputer&#x27;,\n",
       "                                                  SimpleImputer(strategy=&#x27;median&#x27;)),\n",
       "                                                 (&#x27;minmax_scaler&#x27;,\n",
       "                                                  MinMaxScaler())]),\n",
       "                                 [&#x27;size&#x27;, &#x27;total_bill&#x27;]),\n",
       "                                (&#x27;cat_transformer&#x27;,\n",
       "                                 OneHotEncoder(drop=&#x27;first&#x27;,\n",
       "                                               handle_unknown=&#x27;ignore&#x27;),\n",
       "                                 [&#x27;sex&#x27;, &#x27;smoker&#x27;, &#x27;day&#x27;, &#x27;time&#x27;])])</pre></div></div></div><div class=\"sk-parallel\"><div class=\"sk-parallel-item\"><div class=\"sk-item\"><div class=\"sk-label-container\"><div class=\"sk-label sk-toggleable\"><input class=\"sk-toggleable__control sk-hidden--visually\" id=\"02207faa-f91c-4aa1-b6f6-c55f453d8748\" type=\"checkbox\" ><label for=\"02207faa-f91c-4aa1-b6f6-c55f453d8748\" class=\"sk-toggleable__label sk-toggleable__label-arrow\">num_transformer</label><div class=\"sk-toggleable__content\"><pre>[&#x27;size&#x27;, &#x27;total_bill&#x27;]</pre></div></div></div><div class=\"sk-serial\"><div class=\"sk-item\"><div class=\"sk-serial\"><div class=\"sk-item\"><div class=\"sk-estimator sk-toggleable\"><input class=\"sk-toggleable__control sk-hidden--visually\" id=\"0a890898-0392-4ce8-96c4-62ecca362685\" type=\"checkbox\" ><label for=\"0a890898-0392-4ce8-96c4-62ecca362685\" class=\"sk-toggleable__label sk-toggleable__label-arrow\">SimpleImputer</label><div class=\"sk-toggleable__content\"><pre>SimpleImputer(strategy=&#x27;median&#x27;)</pre></div></div></div><div class=\"sk-item\"><div class=\"sk-estimator sk-toggleable\"><input class=\"sk-toggleable__control sk-hidden--visually\" id=\"014d79b2-538e-4613-bf3e-64aa380e2f38\" type=\"checkbox\" ><label for=\"014d79b2-538e-4613-bf3e-64aa380e2f38\" class=\"sk-toggleable__label sk-toggleable__label-arrow\">MinMaxScaler</label><div class=\"sk-toggleable__content\"><pre>MinMaxScaler()</pre></div></div></div></div></div></div></div></div><div class=\"sk-parallel-item\"><div class=\"sk-item\"><div class=\"sk-label-container\"><div class=\"sk-label sk-toggleable\"><input class=\"sk-toggleable__control sk-hidden--visually\" id=\"8f78ec45-2731-40d7-bd41-419ae8a934d0\" type=\"checkbox\" ><label for=\"8f78ec45-2731-40d7-bd41-419ae8a934d0\" class=\"sk-toggleable__label sk-toggleable__label-arrow\">cat_transformer</label><div class=\"sk-toggleable__content\"><pre>[&#x27;sex&#x27;, &#x27;smoker&#x27;, &#x27;day&#x27;, &#x27;time&#x27;]</pre></div></div></div><div class=\"sk-serial\"><div class=\"sk-item\"><div class=\"sk-estimator sk-toggleable\"><input class=\"sk-toggleable__control sk-hidden--visually\" id=\"bbf76eb5-5d14-449f-84c3-1d8340f1b280\" type=\"checkbox\" ><label for=\"bbf76eb5-5d14-449f-84c3-1d8340f1b280\" class=\"sk-toggleable__label sk-toggleable__label-arrow\">OneHotEncoder</label><div class=\"sk-toggleable__content\"><pre>OneHotEncoder(drop=&#x27;first&#x27;, handle_unknown=&#x27;ignore&#x27;)</pre></div></div></div></div></div></div></div></div><div class=\"sk-item\"><div class=\"sk-estimator sk-toggleable\"><input class=\"sk-toggleable__control sk-hidden--visually\" id=\"10a3d3e6-8a47-4867-a5b4-5d0e4d8fd80e\" type=\"checkbox\" ><label for=\"10a3d3e6-8a47-4867-a5b4-5d0e4d8fd80e\" class=\"sk-toggleable__label sk-toggleable__label-arrow\">LinearRegression</label><div class=\"sk-toggleable__content\"><pre>LinearRegression()</pre></div></div></div></div></div></div></div>"
      ],
      "text/plain": [
       "Pipeline(steps=[('columntransformer',\n",
       "                 ColumnTransformer(transformers=[('num_transformer',\n",
       "                                                  Pipeline(steps=[('imputer',\n",
       "                                                                   SimpleImputer(strategy='median')),\n",
       "                                                                  ('minmax_scaler',\n",
       "                                                                   MinMaxScaler())]),\n",
       "                                                  ['size', 'total_bill']),\n",
       "                                                 ('cat_transformer',\n",
       "                                                  OneHotEncoder(drop='first',\n",
       "                                                                handle_unknown='ignore'),\n",
       "                                                  ['sex', 'smoker', 'day',\n",
       "                                                   'time'])])),\n",
       "                ('linearregression', LinearRegression())])"
      ]
     },
     "execution_count": 19,
     "metadata": {},
     "output_type": "execute_result"
    }
   ],
   "source": [
    "pipeline_workflow.fit(X_train_3,y_train_3)"
   ]
  },
  {
   "cell_type": "code",
   "execution_count": 20,
   "id": "018cc2cc",
   "metadata": {
    "ExecuteTime": {
     "end_time": "2022-12-05T16:04:03.235817Z",
     "start_time": "2022-12-05T16:04:03.223145Z"
    }
   },
   "outputs": [
    {
     "data": {
      "text/plain": [
       "0.3484015613334338"
      ]
     },
     "execution_count": 20,
     "metadata": {},
     "output_type": "execute_result"
    }
   ],
   "source": [
    "pipeline_workflow.score(X_test_3, y_test_3)"
   ]
  },
  {
   "cell_type": "code",
   "execution_count": 21,
   "id": "85b002d6",
   "metadata": {
    "ExecuteTime": {
     "end_time": "2022-12-05T16:04:03.248027Z",
     "start_time": "2022-12-05T16:04:03.238589Z"
    }
   },
   "outputs": [],
   "source": [
    "y_pred = pipeline_workflow.predict(X_test_3)"
   ]
  },
  {
   "cell_type": "code",
   "execution_count": 22,
   "id": "2a840455",
   "metadata": {
    "ExecuteTime": {
     "end_time": "2022-12-05T16:04:03.256817Z",
     "start_time": "2022-12-05T16:04:03.249824Z"
    }
   },
   "outputs": [],
   "source": [
    "import pickle\n",
    "\n",
    "pickle.dump(pipeline_workflow, open('pipline.pkl', 'wb'))"
   ]
  },
  {
   "cell_type": "code",
   "execution_count": 23,
   "id": "b27c471f",
   "metadata": {
    "ExecuteTime": {
     "end_time": "2022-12-05T16:04:03.262176Z",
     "start_time": "2022-12-05T16:04:03.258783Z"
    }
   },
   "outputs": [],
   "source": [
    "pickled_model = pickle.load(open('pipline.pkl', 'rb'))"
   ]
  },
  {
   "cell_type": "code",
   "execution_count": 24,
   "id": "904f158a",
   "metadata": {
    "ExecuteTime": {
     "end_time": "2022-12-05T16:04:03.276710Z",
     "start_time": "2022-12-05T16:04:03.264091Z"
    }
   },
   "outputs": [
    {
     "data": {
      "text/plain": [
       "0.3484015613334338"
      ]
     },
     "execution_count": 24,
     "metadata": {},
     "output_type": "execute_result"
    }
   ],
   "source": [
    "pickled_model.score(X_test_3, y_test_3)"
   ]
  },
  {
   "cell_type": "code",
   "execution_count": 25,
   "id": "a3d953d3",
   "metadata": {
    "ExecuteTime": {
     "end_time": "2022-12-05T16:04:03.378881Z",
     "start_time": "2022-12-05T16:04:03.278361Z"
    }
   },
   "outputs": [
    {
     "data": {
      "text/plain": [
       "0.3660585021016723"
      ]
     },
     "execution_count": 25,
     "metadata": {},
     "output_type": "execute_result"
    }
   ],
   "source": [
    "from sklearn.model_selection import cross_val_score\n",
    "\n",
    "# Cross-validate Pipeline\n",
    "cross_val_score(pipeline_workflow, X_train_3, y_train_3, cv=5, scoring='r2').mean()"
   ]
  },
  {
   "cell_type": "code",
   "execution_count": 26,
   "id": "b03ec743",
   "metadata": {
    "ExecuteTime": {
     "end_time": "2022-12-05T16:04:03.385663Z",
     "start_time": "2022-12-05T16:04:03.382250Z"
    }
   },
   "outputs": [],
   "source": [
    "residus = y_pred - y_test_3"
   ]
  },
  {
   "cell_type": "code",
   "execution_count": 27,
   "id": "89ac468b",
   "metadata": {
    "ExecuteTime": {
     "end_time": "2022-12-05T16:04:03.399878Z",
     "start_time": "2022-12-05T16:04:03.396471Z"
    }
   },
   "outputs": [],
   "source": [
    "def remove_spine(axe):\n",
    "    axe.spines.right.set_visible(False)\n",
    "    axe.spines.top.set_visible(False)"
   ]
  },
  {
   "cell_type": "code",
   "execution_count": 28,
   "id": "a3203e56",
   "metadata": {
    "ExecuteTime": {
     "end_time": "2022-12-05T16:04:03.568642Z",
     "start_time": "2022-12-05T16:04:03.402590Z"
    },
    "scrolled": true
   },
   "outputs": [],
   "source": [
    "import statsmodels.stats.api as sms\n",
    "from statsmodels.compat import lzip\n",
    "\n",
    "def test_homo():\n",
    "    names = ['Lagrange multiplier statistic', 'p-value',\n",
    "            'f-value', 'f p-value']\n",
    "    test = sms.het_breuschpagan(residus, preprocessor.fit_transform(X_test_3))\n",
    "    p_value = lzip(names, test)[1][1]\n",
    "    if p_value > 0.5:\n",
    "        interprete = f\"p-value = {p_value} > 0.5: Nous ne pouvons pas rejeter l'hyptohese nulle sur l'homoscedasticité. C'est homoscedasticité\"\n",
    "    else:\n",
    "        interprete = f\"p-value = {p_value} < 0.5: Nous pouvons rejeter l'hyptohese nulle. C'est hétéroscadastique\"\n",
    "\n",
    "    interprete = f\"p-value = {round(p_value,2)} > 0.5.\\n Nous ne pouvons pas rejecter l'hyptohese nulle\"\n",
    "    return interprete\n"
   ]
  },
  {
   "cell_type": "code",
   "execution_count": 29,
   "id": "cdd053e2",
   "metadata": {
    "ExecuteTime": {
     "end_time": "2022-12-05T16:04:03.573500Z",
     "start_time": "2022-12-05T16:04:03.570638Z"
    }
   },
   "outputs": [],
   "source": [
    "def set_title():\n",
    "    fontdict =  {'fontsize': '16',\n",
    "        'fontweight': 'bold',\n",
    "        'color': \"black\"}\n",
    "    return fontdict"
   ]
  },
  {
   "cell_type": "code",
   "execution_count": 30,
   "id": "9af472c1",
   "metadata": {
    "ExecuteTime": {
     "end_time": "2022-12-05T16:04:04.663817Z",
     "start_time": "2022-12-05T16:04:03.576417Z"
    },
    "scrolled": false
   },
   "outputs": [
    {
     "data": {
      "image/png": "[encoded data removed]",
      "text/plain": [
       "<Figure size 1080x720 with 4 Axes>"
      ]
     },
     "metadata": {
      "needs_background": "light"
     },
     "output_type": "display_data"
    }
   ],
   "source": [
    "import statsmodels.api as sm\n",
    "fig, ((ax1,ax2),\n",
    "      (ax3,ax4)) = plt.subplots(figsize=(15, 10),nrows=2, ncols=2)\n",
    "\n",
    "ax1.set_title('Condition de normalité des erreurs', set_title())\n",
    "sns.histplot(residus, ax = ax1, kde = True)\n",
    "ax1.set_xlabel('Résidus')\n",
    "remove_spine(ax1)\n",
    "\n",
    "ax2.set_title(\"Visualisation de l'homoscedasticité\", set_title())\n",
    "ax2.scatter(y_test_3, residus, c=\"red\")\n",
    "ax2.plot(np.array(range(0,10)),np.zeros(10), c=\"black\")\n",
    "ax2.set_xlabel('y observé')\n",
    "ax2.set_ylabel('Résidus')\n",
    "remove_spine(ax2)\n",
    "\n",
    "sentence = test_homo()\n",
    "ax2.annotate(sentence,ha='center',fontsize=10,fontstyle='italic', xy=(6, 1.3),\n",
    "             xytext=(9, -3.5),color='black',fontweight=\"extra bold\", bbox=dict(color=\"white\"),\n",
    "            arrowprops=dict(color=\"#1d2d35\",linewidth=\"2\",arrowstyle=\"->\", connectionstyle=\"angle3\")\n",
    "            )\n",
    "\n",
    "ax3.set_title('QQ plot', set_title())\n",
    "sm.qqplot(residus, line='45', ax= ax3)\n",
    "remove_spine(ax3)\n",
    "\n",
    "ax4.set_visible(False)\n",
    "\n",
    "plt.show();"
   ]
  },
  {
   "cell_type": "code",
   "execution_count": null,
   "id": "531372d2",
   "metadata": {},
   "outputs": [],
   "source": []
  }
 ],
 "metadata": {
  "hide_input": false,
  "kernelspec": {
   "display_name": "Python 3.8.12 64-bit ('simplon')",
   "language": "python",
   "name": "python3"
  },
  "language_info": {
   "codemirror_mode": {
    "name": "ipython",
    "version": 3
   },
   "file_extension": ".py",
   "mimetype": "text/x-python",
   "name": "python",
   "nbconvert_exporter": "python",
   "pygments_lexer": "ipython3",
   "version": "3.8.12"
  },
  "toc": {
   "base_numbering": 1,
   "nav_menu": {},
   "number_sections": true,
   "sideBar": true,
   "skip_h1_title": false,
   "title_cell": "Table of Contents",
   "title_sidebar": "Contents",
   "toc_cell": false,
   "toc_position": {},
   "toc_section_display": true,
   "toc_window_display": false
  },
  "vscode": {
   "interpreter": {
    "hash": "503123401f496096e0f028585efad06d42166f80d999c13f687c901dac905c09"
   }
  }
 },
 "nbformat": 4,
 "nbformat_minor": 5
}
