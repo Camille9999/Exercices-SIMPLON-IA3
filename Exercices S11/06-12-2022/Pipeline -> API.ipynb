{
 "cells": [
  {
   "cell_type": "code",
   "execution_count": 25,
   "metadata": {},
   "outputs": [],
   "source": [
    "import numpy as np\n",
    "import pandas as pd\n",
    "import seaborn as sns\n",
    "import matplotlib.pyplot as plt"
   ]
  },
  {
   "cell_type": "code",
   "execution_count": 26,
   "metadata": {},
   "outputs": [],
   "source": [
    "from sklearn.linear_model import LinearRegression\n",
    "from sklearn.model_selection import train_test_split, cross_val_score\n",
    "from sklearn.preprocessing import OneHotEncoder, MinMaxScaler\n",
    "from sklearn.pipeline import Pipeline, make_pipeline\n",
    "from sklearn.impute import SimpleImputer\n",
    "from sklearn.compose import ColumnTransformer\n",
    "from sklearn import set_config\n",
    "set_config(display=\"diagram\")"
   ]
  },
  {
   "cell_type": "code",
   "execution_count": 27,
   "metadata": {},
   "outputs": [],
   "source": [
    "import warnings\n",
    "warnings.filterwarnings('ignore')"
   ]
  },
  {
   "cell_type": "code",
   "execution_count": 28,
   "metadata": {},
   "outputs": [],
   "source": [
    "import pickle"
   ]
  },
  {
   "cell_type": "markdown",
   "metadata": {},
   "source": [
    "-----------------------------------"
   ]
  },
  {
   "cell_type": "code",
   "execution_count": 29,
   "metadata": {},
   "outputs": [],
   "source": [
    "data = sns.load_dataset(\"tips\")"
   ]
  },
  {
   "cell_type": "code",
   "execution_count": 30,
   "metadata": {},
   "outputs": [],
   "source": [
    "y = data['tip']\n",
    "X = data.drop(columns=['tip'])"
   ]
  },
  {
   "cell_type": "code",
   "execution_count": 31,
   "metadata": {},
   "outputs": [],
   "source": [
    "X_train, X_test, y_train, y_test = train_test_split(X, y, test_size=0.3, random_state=60)"
   ]
  },
  {
   "cell_type": "code",
   "execution_count": 32,
   "metadata": {},
   "outputs": [],
   "source": [
    "num_pipeline = Pipeline([\n",
    "    ('imputer', SimpleImputer(strategy=\"median\")),\n",
    "    ('minmax_scaler', MinMaxScaler())\n",
    "])"
   ]
  },
  {
   "cell_type": "code",
   "execution_count": 33,
   "metadata": {},
   "outputs": [],
   "source": [
    "cat_transformer = OneHotEncoder(handle_unknown='ignore', drop='first')"
   ]
  },
  {
   "cell_type": "code",
   "execution_count": 34,
   "metadata": {},
   "outputs": [],
   "source": [
    "preprocessor = ColumnTransformer([\n",
    "    ('num_transformer', num_pipeline, [\"size\",\"total_bill\"]),\n",
    "    ('cat_transformer', cat_transformer, [\"sex\",\"smoker\",\"day\",\"time\"])\n",
    "])"
   ]
  },
  {
   "cell_type": "code",
   "execution_count": 35,
   "metadata": {},
   "outputs": [],
   "source": [
    "pipeline_workflow = make_pipeline(preprocessor, LinearRegression())"
   ]
  },
  {
   "cell_type": "code",
   "execution_count": 36,
   "metadata": {},
   "outputs": [
    {
     "data": {
      "text/html": [
       "<style>#sk-8cae68f9-8293-4d29-bb81-4bdf24e671e5 {color: black;background-color: white;}#sk-8cae68f9-8293-4d29-bb81-4bdf24e671e5 pre{padding: 0;}#sk-8cae68f9-8293-4d29-bb81-4bdf24e671e5 div.sk-toggleable {background-color: white;}#sk-8cae68f9-8293-4d29-bb81-4bdf24e671e5 label.sk-toggleable__label {cursor: pointer;display: block;width: 100%;margin-bottom: 0;padding: 0.3em;box-sizing: border-box;text-align: center;}#sk-8cae68f9-8293-4d29-bb81-4bdf24e671e5 label.sk-toggleable__label-arrow:before {content: \"▸\";float: left;margin-right: 0.25em;color: #696969;}#sk-8cae68f9-8293-4d29-bb81-4bdf24e671e5 label.sk-toggleable__label-arrow:hover:before {color: black;}#sk-8cae68f9-8293-4d29-bb81-4bdf24e671e5 div.sk-estimator:hover label.sk-toggleable__label-arrow:before {color: black;}#sk-8cae68f9-8293-4d29-bb81-4bdf24e671e5 div.sk-toggleable__content {max-height: 0;max-width: 0;overflow: hidden;text-align: left;background-color: #f0f8ff;}#sk-8cae68f9-8293-4d29-bb81-4bdf24e671e5 div.sk-toggleable__content pre {margin: 0.2em;color: black;border-radius: 0.25em;background-color: #f0f8ff;}#sk-8cae68f9-8293-4d29-bb81-4bdf24e671e5 input.sk-toggleable__control:checked~div.sk-toggleable__content {max-height: 200px;max-width: 100%;overflow: auto;}#sk-8cae68f9-8293-4d29-bb81-4bdf24e671e5 input.sk-toggleable__control:checked~label.sk-toggleable__label-arrow:before {content: \"▾\";}#sk-8cae68f9-8293-4d29-bb81-4bdf24e671e5 div.sk-estimator input.sk-toggleable__control:checked~label.sk-toggleable__label {background-color: #d4ebff;}#sk-8cae68f9-8293-4d29-bb81-4bdf24e671e5 div.sk-label input.sk-toggleable__control:checked~label.sk-toggleable__label {background-color: #d4ebff;}#sk-8cae68f9-8293-4d29-bb81-4bdf24e671e5 input.sk-hidden--visually {border: 0;clip: rect(1px 1px 1px 1px);clip: rect(1px, 1px, 1px, 1px);height: 1px;margin: -1px;overflow: hidden;padding: 0;position: absolute;width: 1px;}#sk-8cae68f9-8293-4d29-bb81-4bdf24e671e5 div.sk-estimator {font-family: monospace;background-color: #f0f8ff;border: 1px dotted black;border-radius: 0.25em;box-sizing: border-box;margin-bottom: 0.5em;}#sk-8cae68f9-8293-4d29-bb81-4bdf24e671e5 div.sk-estimator:hover {background-color: #d4ebff;}#sk-8cae68f9-8293-4d29-bb81-4bdf24e671e5 div.sk-parallel-item::after {content: \"\";width: 100%;border-bottom: 1px solid gray;flex-grow: 1;}#sk-8cae68f9-8293-4d29-bb81-4bdf24e671e5 div.sk-label:hover label.sk-toggleable__label {background-color: #d4ebff;}#sk-8cae68f9-8293-4d29-bb81-4bdf24e671e5 div.sk-serial::before {content: \"\";position: absolute;border-left: 1px solid gray;box-sizing: border-box;top: 2em;bottom: 0;left: 50%;}#sk-8cae68f9-8293-4d29-bb81-4bdf24e671e5 div.sk-serial {display: flex;flex-direction: column;align-items: center;background-color: white;padding-right: 0.2em;padding-left: 0.2em;}#sk-8cae68f9-8293-4d29-bb81-4bdf24e671e5 div.sk-item {z-index: 1;}#sk-8cae68f9-8293-4d29-bb81-4bdf24e671e5 div.sk-parallel {display: flex;align-items: stretch;justify-content: center;background-color: white;}#sk-8cae68f9-8293-4d29-bb81-4bdf24e671e5 div.sk-parallel::before {content: \"\";position: absolute;border-left: 1px solid gray;box-sizing: border-box;top: 2em;bottom: 0;left: 50%;}#sk-8cae68f9-8293-4d29-bb81-4bdf24e671e5 div.sk-parallel-item {display: flex;flex-direction: column;position: relative;background-color: white;}#sk-8cae68f9-8293-4d29-bb81-4bdf24e671e5 div.sk-parallel-item:first-child::after {align-self: flex-end;width: 50%;}#sk-8cae68f9-8293-4d29-bb81-4bdf24e671e5 div.sk-parallel-item:last-child::after {align-self: flex-start;width: 50%;}#sk-8cae68f9-8293-4d29-bb81-4bdf24e671e5 div.sk-parallel-item:only-child::after {width: 0;}#sk-8cae68f9-8293-4d29-bb81-4bdf24e671e5 div.sk-dashed-wrapped {border: 1px dashed gray;margin: 0 0.4em 0.5em 0.4em;box-sizing: border-box;padding-bottom: 0.4em;background-color: white;position: relative;}#sk-8cae68f9-8293-4d29-bb81-4bdf24e671e5 div.sk-label label {font-family: monospace;font-weight: bold;background-color: white;display: inline-block;line-height: 1.2em;}#sk-8cae68f9-8293-4d29-bb81-4bdf24e671e5 div.sk-label-container {position: relative;z-index: 2;text-align: center;}#sk-8cae68f9-8293-4d29-bb81-4bdf24e671e5 div.sk-container {/* jupyter's `normalize.less` sets `[hidden] { display: none; }` but bootstrap.min.css set `[hidden] { display: none !important; }` so we also need the `!important` here to be able to override the default hidden behavior on the sphinx rendered scikit-learn.org. See: https://github.com/scikit-learn/scikit-learn/issues/21755 */display: inline-block !important;position: relative;}#sk-8cae68f9-8293-4d29-bb81-4bdf24e671e5 div.sk-text-repr-fallback {display: none;}</style><div id=\"sk-8cae68f9-8293-4d29-bb81-4bdf24e671e5\" class=\"sk-top-container\"><div class=\"sk-text-repr-fallback\"><pre>Pipeline(steps=[(&#x27;columntransformer&#x27;,\n",
       "                 ColumnTransformer(transformers=[(&#x27;num_transformer&#x27;,\n",
       "                                                  Pipeline(steps=[(&#x27;imputer&#x27;,\n",
       "                                                                   SimpleImputer(strategy=&#x27;median&#x27;)),\n",
       "                                                                  (&#x27;minmax_scaler&#x27;,\n",
       "                                                                   MinMaxScaler())]),\n",
       "                                                  [&#x27;size&#x27;, &#x27;total_bill&#x27;]),\n",
       "                                                 (&#x27;cat_transformer&#x27;,\n",
       "                                                  OneHotEncoder(drop=&#x27;first&#x27;,\n",
       "                                                                handle_unknown=&#x27;ignore&#x27;),\n",
       "                                                  [&#x27;sex&#x27;, &#x27;smoker&#x27;, &#x27;day&#x27;,\n",
       "                                                   &#x27;time&#x27;])])),\n",
       "                (&#x27;linearregression&#x27;, LinearRegression())])</pre><b>Please rerun this cell to show the HTML repr or trust the notebook.</b></div><div class=\"sk-container\" hidden><div class=\"sk-item sk-dashed-wrapped\"><div class=\"sk-label-container\"><div class=\"sk-label sk-toggleable\"><input class=\"sk-toggleable__control sk-hidden--visually\" id=\"cc62ecf6-f2cc-4014-ab10-69c46d22cb73\" type=\"checkbox\" ><label for=\"cc62ecf6-f2cc-4014-ab10-69c46d22cb73\" class=\"sk-toggleable__label sk-toggleable__label-arrow\">Pipeline</label><div class=\"sk-toggleable__content\"><pre>Pipeline(steps=[(&#x27;columntransformer&#x27;,\n",
       "                 ColumnTransformer(transformers=[(&#x27;num_transformer&#x27;,\n",
       "                                                  Pipeline(steps=[(&#x27;imputer&#x27;,\n",
       "                                                                   SimpleImputer(strategy=&#x27;median&#x27;)),\n",
       "                                                                  (&#x27;minmax_scaler&#x27;,\n",
       "                                                                   MinMaxScaler())]),\n",
       "                                                  [&#x27;size&#x27;, &#x27;total_bill&#x27;]),\n",
       "                                                 (&#x27;cat_transformer&#x27;,\n",
       "                                                  OneHotEncoder(drop=&#x27;first&#x27;,\n",
       "                                                                handle_unknown=&#x27;ignore&#x27;),\n",
       "                                                  [&#x27;sex&#x27;, &#x27;smoker&#x27;, &#x27;day&#x27;,\n",
       "                                                   &#x27;time&#x27;])])),\n",
       "                (&#x27;linearregression&#x27;, LinearRegression())])</pre></div></div></div><div class=\"sk-serial\"><div class=\"sk-item sk-dashed-wrapped\"><div class=\"sk-label-container\"><div class=\"sk-label sk-toggleable\"><input class=\"sk-toggleable__control sk-hidden--visually\" id=\"618cd401-fac5-4dbf-8538-9b75f7810a52\" type=\"checkbox\" ><label for=\"618cd401-fac5-4dbf-8538-9b75f7810a52\" class=\"sk-toggleable__label sk-toggleable__label-arrow\">columntransformer: ColumnTransformer</label><div class=\"sk-toggleable__content\"><pre>ColumnTransformer(transformers=[(&#x27;num_transformer&#x27;,\n",
       "                                 Pipeline(steps=[(&#x27;imputer&#x27;,\n",
       "                                                  SimpleImputer(strategy=&#x27;median&#x27;)),\n",
       "                                                 (&#x27;minmax_scaler&#x27;,\n",
       "                                                  MinMaxScaler())]),\n",
       "                                 [&#x27;size&#x27;, &#x27;total_bill&#x27;]),\n",
       "                                (&#x27;cat_transformer&#x27;,\n",
       "                                 OneHotEncoder(drop=&#x27;first&#x27;,\n",
       "                                               handle_unknown=&#x27;ignore&#x27;),\n",
       "                                 [&#x27;sex&#x27;, &#x27;smoker&#x27;, &#x27;day&#x27;, &#x27;time&#x27;])])</pre></div></div></div><div class=\"sk-parallel\"><div class=\"sk-parallel-item\"><div class=\"sk-item\"><div class=\"sk-label-container\"><div class=\"sk-label sk-toggleable\"><input class=\"sk-toggleable__control sk-hidden--visually\" id=\"13847e41-f1c9-4c22-995f-d6c863093d9b\" type=\"checkbox\" ><label for=\"13847e41-f1c9-4c22-995f-d6c863093d9b\" class=\"sk-toggleable__label sk-toggleable__label-arrow\">num_transformer</label><div class=\"sk-toggleable__content\"><pre>[&#x27;size&#x27;, &#x27;total_bill&#x27;]</pre></div></div></div><div class=\"sk-serial\"><div class=\"sk-item\"><div class=\"sk-serial\"><div class=\"sk-item\"><div class=\"sk-estimator sk-toggleable\"><input class=\"sk-toggleable__control sk-hidden--visually\" id=\"58f585cf-bdf3-47f7-b175-c41820dd3416\" type=\"checkbox\" ><label for=\"58f585cf-bdf3-47f7-b175-c41820dd3416\" class=\"sk-toggleable__label sk-toggleable__label-arrow\">SimpleImputer</label><div class=\"sk-toggleable__content\"><pre>SimpleImputer(strategy=&#x27;median&#x27;)</pre></div></div></div><div class=\"sk-item\"><div class=\"sk-estimator sk-toggleable\"><input class=\"sk-toggleable__control sk-hidden--visually\" id=\"e161fc53-44e8-43ca-8bc1-3ae6e9a557e5\" type=\"checkbox\" ><label for=\"e161fc53-44e8-43ca-8bc1-3ae6e9a557e5\" class=\"sk-toggleable__label sk-toggleable__label-arrow\">MinMaxScaler</label><div class=\"sk-toggleable__content\"><pre>MinMaxScaler()</pre></div></div></div></div></div></div></div></div><div class=\"sk-parallel-item\"><div class=\"sk-item\"><div class=\"sk-label-container\"><div class=\"sk-label sk-toggleable\"><input class=\"sk-toggleable__control sk-hidden--visually\" id=\"2ed50778-162a-49ce-8eb8-caba5fa16145\" type=\"checkbox\" ><label for=\"2ed50778-162a-49ce-8eb8-caba5fa16145\" class=\"sk-toggleable__label sk-toggleable__label-arrow\">cat_transformer</label><div class=\"sk-toggleable__content\"><pre>[&#x27;sex&#x27;, &#x27;smoker&#x27;, &#x27;day&#x27;, &#x27;time&#x27;]</pre></div></div></div><div class=\"sk-serial\"><div class=\"sk-item\"><div class=\"sk-estimator sk-toggleable\"><input class=\"sk-toggleable__control sk-hidden--visually\" id=\"a4833627-f0f7-46fa-b10c-9343b99686e5\" type=\"checkbox\" ><label for=\"a4833627-f0f7-46fa-b10c-9343b99686e5\" class=\"sk-toggleable__label sk-toggleable__label-arrow\">OneHotEncoder</label><div class=\"sk-toggleable__content\"><pre>OneHotEncoder(drop=&#x27;first&#x27;, handle_unknown=&#x27;ignore&#x27;)</pre></div></div></div></div></div></div></div></div><div class=\"sk-item\"><div class=\"sk-estimator sk-toggleable\"><input class=\"sk-toggleable__control sk-hidden--visually\" id=\"957e56ca-e1e9-46d8-919f-85955acb7641\" type=\"checkbox\" ><label for=\"957e56ca-e1e9-46d8-919f-85955acb7641\" class=\"sk-toggleable__label sk-toggleable__label-arrow\">LinearRegression</label><div class=\"sk-toggleable__content\"><pre>LinearRegression()</pre></div></div></div></div></div></div></div>"
      ],
      "text/plain": [
       "Pipeline(steps=[('columntransformer',\n",
       "                 ColumnTransformer(transformers=[('num_transformer',\n",
       "                                                  Pipeline(steps=[('imputer',\n",
       "                                                                   SimpleImputer(strategy='median')),\n",
       "                                                                  ('minmax_scaler',\n",
       "                                                                   MinMaxScaler())]),\n",
       "                                                  ['size', 'total_bill']),\n",
       "                                                 ('cat_transformer',\n",
       "                                                  OneHotEncoder(drop='first',\n",
       "                                                                handle_unknown='ignore'),\n",
       "                                                  ['sex', 'smoker', 'day',\n",
       "                                                   'time'])])),\n",
       "                ('linearregression', LinearRegression())])"
      ]
     },
     "execution_count": 36,
     "metadata": {},
     "output_type": "execute_result"
    }
   ],
   "source": [
    "pipeline_workflow.fit(X_train, y_train)"
   ]
  },
  {
   "cell_type": "code",
   "execution_count": 37,
   "metadata": {},
   "outputs": [
    {
     "data": {
      "text/plain": [
       "0.3484015613334338"
      ]
     },
     "execution_count": 37,
     "metadata": {},
     "output_type": "execute_result"
    }
   ],
   "source": [
    "pipeline_workflow.score(X_test, y_test)"
   ]
  },
  {
   "cell_type": "code",
   "execution_count": 38,
   "metadata": {},
   "outputs": [
    {
     "data": {
      "text/plain": [
       "0.3660585021016723"
      ]
     },
     "execution_count": 38,
     "metadata": {},
     "output_type": "execute_result"
    }
   ],
   "source": [
    "cross_val_score(pipeline_workflow, X_train, y_train, cv=5, scoring='r2').mean()"
   ]
  },
  {
   "cell_type": "code",
   "execution_count": 39,
   "metadata": {},
   "outputs": [
    {
     "data": {
      "text/html": [
       "<style>#sk-cecf4e62-9a46-44e1-abef-84f61a0bf736 {color: black;background-color: white;}#sk-cecf4e62-9a46-44e1-abef-84f61a0bf736 pre{padding: 0;}#sk-cecf4e62-9a46-44e1-abef-84f61a0bf736 div.sk-toggleable {background-color: white;}#sk-cecf4e62-9a46-44e1-abef-84f61a0bf736 label.sk-toggleable__label {cursor: pointer;display: block;width: 100%;margin-bottom: 0;padding: 0.3em;box-sizing: border-box;text-align: center;}#sk-cecf4e62-9a46-44e1-abef-84f61a0bf736 label.sk-toggleable__label-arrow:before {content: \"▸\";float: left;margin-right: 0.25em;color: #696969;}#sk-cecf4e62-9a46-44e1-abef-84f61a0bf736 label.sk-toggleable__label-arrow:hover:before {color: black;}#sk-cecf4e62-9a46-44e1-abef-84f61a0bf736 div.sk-estimator:hover label.sk-toggleable__label-arrow:before {color: black;}#sk-cecf4e62-9a46-44e1-abef-84f61a0bf736 div.sk-toggleable__content {max-height: 0;max-width: 0;overflow: hidden;text-align: left;background-color: #f0f8ff;}#sk-cecf4e62-9a46-44e1-abef-84f61a0bf736 div.sk-toggleable__content pre {margin: 0.2em;color: black;border-radius: 0.25em;background-color: #f0f8ff;}#sk-cecf4e62-9a46-44e1-abef-84f61a0bf736 input.sk-toggleable__control:checked~div.sk-toggleable__content {max-height: 200px;max-width: 100%;overflow: auto;}#sk-cecf4e62-9a46-44e1-abef-84f61a0bf736 input.sk-toggleable__control:checked~label.sk-toggleable__label-arrow:before {content: \"▾\";}#sk-cecf4e62-9a46-44e1-abef-84f61a0bf736 div.sk-estimator input.sk-toggleable__control:checked~label.sk-toggleable__label {background-color: #d4ebff;}#sk-cecf4e62-9a46-44e1-abef-84f61a0bf736 div.sk-label input.sk-toggleable__control:checked~label.sk-toggleable__label {background-color: #d4ebff;}#sk-cecf4e62-9a46-44e1-abef-84f61a0bf736 input.sk-hidden--visually {border: 0;clip: rect(1px 1px 1px 1px);clip: rect(1px, 1px, 1px, 1px);height: 1px;margin: -1px;overflow: hidden;padding: 0;position: absolute;width: 1px;}#sk-cecf4e62-9a46-44e1-abef-84f61a0bf736 div.sk-estimator {font-family: monospace;background-color: #f0f8ff;border: 1px dotted black;border-radius: 0.25em;box-sizing: border-box;margin-bottom: 0.5em;}#sk-cecf4e62-9a46-44e1-abef-84f61a0bf736 div.sk-estimator:hover {background-color: #d4ebff;}#sk-cecf4e62-9a46-44e1-abef-84f61a0bf736 div.sk-parallel-item::after {content: \"\";width: 100%;border-bottom: 1px solid gray;flex-grow: 1;}#sk-cecf4e62-9a46-44e1-abef-84f61a0bf736 div.sk-label:hover label.sk-toggleable__label {background-color: #d4ebff;}#sk-cecf4e62-9a46-44e1-abef-84f61a0bf736 div.sk-serial::before {content: \"\";position: absolute;border-left: 1px solid gray;box-sizing: border-box;top: 2em;bottom: 0;left: 50%;}#sk-cecf4e62-9a46-44e1-abef-84f61a0bf736 div.sk-serial {display: flex;flex-direction: column;align-items: center;background-color: white;padding-right: 0.2em;padding-left: 0.2em;}#sk-cecf4e62-9a46-44e1-abef-84f61a0bf736 div.sk-item {z-index: 1;}#sk-cecf4e62-9a46-44e1-abef-84f61a0bf736 div.sk-parallel {display: flex;align-items: stretch;justify-content: center;background-color: white;}#sk-cecf4e62-9a46-44e1-abef-84f61a0bf736 div.sk-parallel::before {content: \"\";position: absolute;border-left: 1px solid gray;box-sizing: border-box;top: 2em;bottom: 0;left: 50%;}#sk-cecf4e62-9a46-44e1-abef-84f61a0bf736 div.sk-parallel-item {display: flex;flex-direction: column;position: relative;background-color: white;}#sk-cecf4e62-9a46-44e1-abef-84f61a0bf736 div.sk-parallel-item:first-child::after {align-self: flex-end;width: 50%;}#sk-cecf4e62-9a46-44e1-abef-84f61a0bf736 div.sk-parallel-item:last-child::after {align-self: flex-start;width: 50%;}#sk-cecf4e62-9a46-44e1-abef-84f61a0bf736 div.sk-parallel-item:only-child::after {width: 0;}#sk-cecf4e62-9a46-44e1-abef-84f61a0bf736 div.sk-dashed-wrapped {border: 1px dashed gray;margin: 0 0.4em 0.5em 0.4em;box-sizing: border-box;padding-bottom: 0.4em;background-color: white;position: relative;}#sk-cecf4e62-9a46-44e1-abef-84f61a0bf736 div.sk-label label {font-family: monospace;font-weight: bold;background-color: white;display: inline-block;line-height: 1.2em;}#sk-cecf4e62-9a46-44e1-abef-84f61a0bf736 div.sk-label-container {position: relative;z-index: 2;text-align: center;}#sk-cecf4e62-9a46-44e1-abef-84f61a0bf736 div.sk-container {/* jupyter's `normalize.less` sets `[hidden] { display: none; }` but bootstrap.min.css set `[hidden] { display: none !important; }` so we also need the `!important` here to be able to override the default hidden behavior on the sphinx rendered scikit-learn.org. See: https://github.com/scikit-learn/scikit-learn/issues/21755 */display: inline-block !important;position: relative;}#sk-cecf4e62-9a46-44e1-abef-84f61a0bf736 div.sk-text-repr-fallback {display: none;}</style><div id=\"sk-cecf4e62-9a46-44e1-abef-84f61a0bf736\" class=\"sk-top-container\"><div class=\"sk-text-repr-fallback\"><pre>Pipeline(steps=[(&#x27;columntransformer&#x27;,\n",
       "                 ColumnTransformer(transformers=[(&#x27;num_transformer&#x27;,\n",
       "                                                  Pipeline(steps=[(&#x27;imputer&#x27;,\n",
       "                                                                   SimpleImputer(strategy=&#x27;median&#x27;)),\n",
       "                                                                  (&#x27;minmax_scaler&#x27;,\n",
       "                                                                   MinMaxScaler())]),\n",
       "                                                  [&#x27;size&#x27;, &#x27;total_bill&#x27;]),\n",
       "                                                 (&#x27;cat_transformer&#x27;,\n",
       "                                                  OneHotEncoder(drop=&#x27;first&#x27;,\n",
       "                                                                handle_unknown=&#x27;ignore&#x27;),\n",
       "                                                  [&#x27;sex&#x27;, &#x27;smoker&#x27;, &#x27;day&#x27;,\n",
       "                                                   &#x27;time&#x27;])])),\n",
       "                (&#x27;linearregression&#x27;, LinearRegression())])</pre><b>Please rerun this cell to show the HTML repr or trust the notebook.</b></div><div class=\"sk-container\" hidden><div class=\"sk-item sk-dashed-wrapped\"><div class=\"sk-label-container\"><div class=\"sk-label sk-toggleable\"><input class=\"sk-toggleable__control sk-hidden--visually\" id=\"da046166-218d-4898-8ca1-63a03315bdd1\" type=\"checkbox\" ><label for=\"da046166-218d-4898-8ca1-63a03315bdd1\" class=\"sk-toggleable__label sk-toggleable__label-arrow\">Pipeline</label><div class=\"sk-toggleable__content\"><pre>Pipeline(steps=[(&#x27;columntransformer&#x27;,\n",
       "                 ColumnTransformer(transformers=[(&#x27;num_transformer&#x27;,\n",
       "                                                  Pipeline(steps=[(&#x27;imputer&#x27;,\n",
       "                                                                   SimpleImputer(strategy=&#x27;median&#x27;)),\n",
       "                                                                  (&#x27;minmax_scaler&#x27;,\n",
       "                                                                   MinMaxScaler())]),\n",
       "                                                  [&#x27;size&#x27;, &#x27;total_bill&#x27;]),\n",
       "                                                 (&#x27;cat_transformer&#x27;,\n",
       "                                                  OneHotEncoder(drop=&#x27;first&#x27;,\n",
       "                                                                handle_unknown=&#x27;ignore&#x27;),\n",
       "                                                  [&#x27;sex&#x27;, &#x27;smoker&#x27;, &#x27;day&#x27;,\n",
       "                                                   &#x27;time&#x27;])])),\n",
       "                (&#x27;linearregression&#x27;, LinearRegression())])</pre></div></div></div><div class=\"sk-serial\"><div class=\"sk-item sk-dashed-wrapped\"><div class=\"sk-label-container\"><div class=\"sk-label sk-toggleable\"><input class=\"sk-toggleable__control sk-hidden--visually\" id=\"6941be6a-66ad-4771-a218-c1d9ae9bbbb9\" type=\"checkbox\" ><label for=\"6941be6a-66ad-4771-a218-c1d9ae9bbbb9\" class=\"sk-toggleable__label sk-toggleable__label-arrow\">columntransformer: ColumnTransformer</label><div class=\"sk-toggleable__content\"><pre>ColumnTransformer(transformers=[(&#x27;num_transformer&#x27;,\n",
       "                                 Pipeline(steps=[(&#x27;imputer&#x27;,\n",
       "                                                  SimpleImputer(strategy=&#x27;median&#x27;)),\n",
       "                                                 (&#x27;minmax_scaler&#x27;,\n",
       "                                                  MinMaxScaler())]),\n",
       "                                 [&#x27;size&#x27;, &#x27;total_bill&#x27;]),\n",
       "                                (&#x27;cat_transformer&#x27;,\n",
       "                                 OneHotEncoder(drop=&#x27;first&#x27;,\n",
       "                                               handle_unknown=&#x27;ignore&#x27;),\n",
       "                                 [&#x27;sex&#x27;, &#x27;smoker&#x27;, &#x27;day&#x27;, &#x27;time&#x27;])])</pre></div></div></div><div class=\"sk-parallel\"><div class=\"sk-parallel-item\"><div class=\"sk-item\"><div class=\"sk-label-container\"><div class=\"sk-label sk-toggleable\"><input class=\"sk-toggleable__control sk-hidden--visually\" id=\"cd8c8e51-03d1-4bf5-af7b-f7948ea27bdd\" type=\"checkbox\" ><label for=\"cd8c8e51-03d1-4bf5-af7b-f7948ea27bdd\" class=\"sk-toggleable__label sk-toggleable__label-arrow\">num_transformer</label><div class=\"sk-toggleable__content\"><pre>[&#x27;size&#x27;, &#x27;total_bill&#x27;]</pre></div></div></div><div class=\"sk-serial\"><div class=\"sk-item\"><div class=\"sk-serial\"><div class=\"sk-item\"><div class=\"sk-estimator sk-toggleable\"><input class=\"sk-toggleable__control sk-hidden--visually\" id=\"d1b9e3ae-a07f-4b10-9c91-5cb6faca62e8\" type=\"checkbox\" ><label for=\"d1b9e3ae-a07f-4b10-9c91-5cb6faca62e8\" class=\"sk-toggleable__label sk-toggleable__label-arrow\">SimpleImputer</label><div class=\"sk-toggleable__content\"><pre>SimpleImputer(strategy=&#x27;median&#x27;)</pre></div></div></div><div class=\"sk-item\"><div class=\"sk-estimator sk-toggleable\"><input class=\"sk-toggleable__control sk-hidden--visually\" id=\"0e38fb70-f8d7-43c3-9167-72a8c018ecff\" type=\"checkbox\" ><label for=\"0e38fb70-f8d7-43c3-9167-72a8c018ecff\" class=\"sk-toggleable__label sk-toggleable__label-arrow\">MinMaxScaler</label><div class=\"sk-toggleable__content\"><pre>MinMaxScaler()</pre></div></div></div></div></div></div></div></div><div class=\"sk-parallel-item\"><div class=\"sk-item\"><div class=\"sk-label-container\"><div class=\"sk-label sk-toggleable\"><input class=\"sk-toggleable__control sk-hidden--visually\" id=\"a5b5e960-d644-4543-9124-5d39dbb0c34c\" type=\"checkbox\" ><label for=\"a5b5e960-d644-4543-9124-5d39dbb0c34c\" class=\"sk-toggleable__label sk-toggleable__label-arrow\">cat_transformer</label><div class=\"sk-toggleable__content\"><pre>[&#x27;sex&#x27;, &#x27;smoker&#x27;, &#x27;day&#x27;, &#x27;time&#x27;]</pre></div></div></div><div class=\"sk-serial\"><div class=\"sk-item\"><div class=\"sk-estimator sk-toggleable\"><input class=\"sk-toggleable__control sk-hidden--visually\" id=\"85b3a78d-15ca-4731-8361-7002731eb516\" type=\"checkbox\" ><label for=\"85b3a78d-15ca-4731-8361-7002731eb516\" class=\"sk-toggleable__label sk-toggleable__label-arrow\">OneHotEncoder</label><div class=\"sk-toggleable__content\"><pre>OneHotEncoder(drop=&#x27;first&#x27;, handle_unknown=&#x27;ignore&#x27;)</pre></div></div></div></div></div></div></div></div><div class=\"sk-item\"><div class=\"sk-estimator sk-toggleable\"><input class=\"sk-toggleable__control sk-hidden--visually\" id=\"5c362594-c515-4e93-8576-06fc22cc5106\" type=\"checkbox\" ><label for=\"5c362594-c515-4e93-8576-06fc22cc5106\" class=\"sk-toggleable__label sk-toggleable__label-arrow\">LinearRegression</label><div class=\"sk-toggleable__content\"><pre>LinearRegression()</pre></div></div></div></div></div></div></div>"
      ],
      "text/plain": [
       "Pipeline(steps=[('columntransformer',\n",
       "                 ColumnTransformer(transformers=[('num_transformer',\n",
       "                                                  Pipeline(steps=[('imputer',\n",
       "                                                                   SimpleImputer(strategy='median')),\n",
       "                                                                  ('minmax_scaler',\n",
       "                                                                   MinMaxScaler())]),\n",
       "                                                  ['size', 'total_bill']),\n",
       "                                                 ('cat_transformer',\n",
       "                                                  OneHotEncoder(drop='first',\n",
       "                                                                handle_unknown='ignore'),\n",
       "                                                  ['sex', 'smoker', 'day',\n",
       "                                                   'time'])])),\n",
       "                ('linearregression', LinearRegression())])"
      ]
     },
     "execution_count": 39,
     "metadata": {},
     "output_type": "execute_result"
    }
   ],
   "source": [
    "pipeline_workflow.fit(X, y)"
   ]
  },
  {
   "cell_type": "code",
   "execution_count": 40,
   "metadata": {},
   "outputs": [],
   "source": [
    "pickle.dump(pipeline_workflow, open('pipeline.pkl', 'wb'))"
   ]
  },
  {
   "cell_type": "code",
   "execution_count": 41,
   "metadata": {},
   "outputs": [],
   "source": [
    "pickled_model = pickle.load(open('pipeline.pkl', 'rb'))"
   ]
  },
  {
   "cell_type": "code",
   "execution_count": 48,
   "metadata": {},
   "outputs": [],
   "source": [
    "dtf = pd.DataFrame({\"size\" : [5], \"total_bill\" : [None], \"sex\" : ['Male'], \"smoker\" : ['Yes'], \"day\" : ['Sun'], \"time\" : ['Lunch']})"
   ]
  },
  {
   "cell_type": "code",
   "execution_count": 49,
   "metadata": {},
   "outputs": [
    {
     "data": {
      "text/plain": [
       "2.74"
      ]
     },
     "execution_count": 49,
     "metadata": {},
     "output_type": "execute_result"
    }
   ],
   "source": [
    "round(pickled_model.predict(X)[0],2)"
   ]
  }
 ],
 "metadata": {
  "kernelspec": {
   "display_name": "Python 3.8.12 64-bit ('simplon')",
   "language": "python",
   "name": "python3"
  },
  "language_info": {
   "codemirror_mode": {
    "name": "ipython",
    "version": 3
   },
   "file_extension": ".py",
   "mimetype": "text/x-python",
   "name": "python",
   "nbconvert_exporter": "python",
   "pygments_lexer": "ipython3",
   "version": "3.8.12 (default, Sep 28 2022, 10:43:30) \n[GCC 11.2.0]"
  },
  "orig_nbformat": 4,
  "vscode": {
   "interpreter": {
    "hash": "503123401f496096e0f028585efad06d42166f80d999c13f687c901dac905c09"
   }
  }
 },
 "nbformat": 4,
 "nbformat_minor": 2
}
