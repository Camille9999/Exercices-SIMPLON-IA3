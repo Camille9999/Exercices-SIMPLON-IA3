{
 "cells": [
  {
   "cell_type": "markdown",
   "metadata": {},
   "source": [
    "# Consigne\n",
    "Question 1 : Please review the quality of the data, describe the data you are working on and present any issues\n",
    "\t- To do for artworks.csv\n",
    "\n",
    "Question 2 : Draw a graph that would help us to understand more clearly the dataset\n",
    "\n",
    "Question 3 : Let suppose you are a data scientist. You might consider cluster this dataset to get for example different clusters.\n",
    "Which relevant transformations / data cleaning operations would you do before ?\n",
    "\n",
    "Indications:\n",
    "1. Are all the columns useful ?\n",
    "2. What you are going to do on elements from artists table is called feature engineering:\n",
    "\t- get actual age or death age\n",
    "\t- is the artist alived : create a new column and sets 1 if it'is alived otherwise 0.\n",
    "\t- if possible, calculate the volumes of the artwork\n",
    "\t- Count number of elements inside 'Name_caller' and print the result inside a new column\n",
    "\n",
    "\n",
    "3. On artworks table:\n",
    "\t- Acquisition date : transformed in another format\n",
    "\t- delete lines/columns ?\n",
    "\t- fill missing info ?\n",
    "\n",
    "\n",
    "Bonus:\n",
    "- Draw 2 easy other graphs that are useful to understand the dataset\n",
    "- Is it possible to create a unify dataset, from the two files mentioned above ? If possible, do it and create a .csv file\n",
    "- Clean artists.csv\n",
    "\n",
    "NB:\n",
    "You have to use the following methods:\n",
    ".describe()\n",
    ".unique()\n",
    ".fillna()\n",
    ".dropna()\n",
    ".apply()"
   ]
  },
  {
   "cell_type": "code",
   "execution_count": 15,
   "metadata": {},
   "outputs": [],
   "source": [
    "import pandas as pd\n",
    "import numpy as np"
   ]
  },
  {
   "cell_type": "code",
   "execution_count": 16,
   "metadata": {},
   "outputs": [],
   "source": [
    "df = pd.read_csv('artworks.csv')"
   ]
  },
  {
   "cell_type": "code",
   "execution_count": 17,
   "metadata": {},
   "outputs": [],
   "source": [
    "df.to_csv('art.csv', sep=';', index=False)"
   ]
  },
  {
   "cell_type": "code",
   "execution_count": 18,
   "metadata": {},
   "outputs": [
    {
     "data": {
      "text/plain": [
       "Artwork ID            100.000000\n",
       "Title                  99.960080\n",
       "Artist ID              98.879182\n",
       "Name                   98.879182\n",
       "Date                   98.225116\n",
       "Medium                 90.849979\n",
       "Dimensions             91.200043\n",
       "Acquisition Date       95.806145\n",
       "Credit                 97.643211\n",
       "Catalogue             100.000000\n",
       "Department            100.000000\n",
       "Classification        100.000000\n",
       "Object Number         100.000000\n",
       "Diameter (cm)           1.073989\n",
       "Circumference (cm)      0.007677\n",
       "Height (cm)            85.898420\n",
       "Length (cm)             0.565015\n",
       "Width (cm)             85.215182\n",
       "Depth (cm)              8.784603\n",
       "Weight (kg)             0.228770\n",
       "Duration (s)            2.367536\n",
       "dtype: float64"
      ]
     },
     "execution_count": 18,
     "metadata": {},
     "output_type": "execute_result"
    }
   ],
   "source": [
    "df.count()/df.shape[0]*100"
   ]
  },
  {
   "cell_type": "code",
   "execution_count": null,
   "metadata": {},
   "outputs": [],
   "source": [
    "df_dep = df[\"Department\"]\n",
    "df_dep.value_counts().plot(kind='bar', figsize=[20, 8], title=\"Nombres d'oeuvre d'art par Catégorie\", rot=45, legend=True, ylabel=\"Nombre d'oeuvre d'Art\", xlabel=\"Catégorie\", fontsize='large')"
   ]
  },
  {
   "cell_type": "code",
   "execution_count": null,
   "metadata": {},
   "outputs": [],
   "source": [
    "df.loc[[129661], ['Acquisition Date']] = np.nan\n",
    "df['acquisition_year'] = pd.DatetimeIndex(df['Acquisition Date']).year\n"
   ]
  }
 ],
 "metadata": {
  "kernelspec": {
   "display_name": "Python 3.8.12 64-bit ('shims')",
   "language": "python",
   "name": "python3"
  },
  "language_info": {
   "codemirror_mode": {
    "name": "ipython",
    "version": 3
   },
   "file_extension": ".py",
   "mimetype": "text/x-python",
   "name": "python",
   "nbconvert_exporter": "python",
   "pygments_lexer": "ipython3",
   "version": "3.8.12"
  },
  "orig_nbformat": 4,
  "vscode": {
   "interpreter": {
    "hash": "e588d92b224e11b16adbbadd39936dea13a6488171770263a646fc57f44563d8"
   }
  }
 },
 "nbformat": 4,
 "nbformat_minor": 2
}
