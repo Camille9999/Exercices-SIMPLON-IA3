{
 "cells": [
  {
   "cell_type": "markdown",
   "id": "experienced-richardson",
   "metadata": {},
   "source": [
    "# Valeur moyenne des lancés de pièces sur une ligne à 3m"
   ]
  },
  {
   "cell_type": "markdown",
   "id": "hollow-simple",
   "metadata": {},
   "source": [
    "## Preprocessing"
   ]
  },
  {
   "cell_type": "code",
   "execution_count": 26,
   "id": "understood-spectacular",
   "metadata": {},
   "outputs": [],
   "source": [
    "import pandas as pd\n",
    "import numpy as np\n",
    "import matplotlib.pyplot as plt"
   ]
  },
  {
   "cell_type": "code",
   "execution_count": 27,
   "id": "miniature-ireland",
   "metadata": {},
   "outputs": [
    {
     "data": {
      "text/plain": [
       "pandas.core.frame.DataFrame"
      ]
     },
     "execution_count": 27,
     "metadata": {},
     "output_type": "execute_result"
    }
   ],
   "source": [
    "df = pd.read_csv(\"akinatorIA3F3.csv\")\n",
    "type(df)"
   ]
  },
  {
   "cell_type": "code",
   "execution_count": 28,
   "id": "noble-curve",
   "metadata": {},
   "outputs": [],
   "source": [
    "cols = df.columns[1:].to_list()"
   ]
  },
  {
   "cell_type": "code",
   "execution_count": 29,
   "id": "worst-structure",
   "metadata": {},
   "outputs": [],
   "source": [
    "df = df[cols].applymap(str)\n",
    "dftot = df.unstack().str.replace(\",\",\".\")"
   ]
  },
  {
   "cell_type": "code",
   "execution_count": 30,
   "id": "abstract-arkansas",
   "metadata": {},
   "outputs": [],
   "source": [
    "dftot = dftot.astype(float)"
   ]
  },
  {
   "cell_type": "code",
   "execution_count": 31,
   "id": "noticed-madness",
   "metadata": {},
   "outputs": [
    {
     "data": {
      "text/plain": [
       "array([False])"
      ]
     },
     "execution_count": 31,
     "metadata": {},
     "output_type": "execute_result"
    }
   ],
   "source": [
    "dftot.isna().unique()"
   ]
  },
  {
   "cell_type": "code",
   "execution_count": 32,
   "id": "handy-accident",
   "metadata": {},
   "outputs": [],
   "source": [
    "dftot = pd.DataFrame(dftot)"
   ]
  },
  {
   "cell_type": "code",
   "execution_count": 33,
   "id": "confident-assistant",
   "metadata": {},
   "outputs": [
    {
     "data": {
      "text/html": [
       "<div>\n",
       "<style scoped>\n",
       "    .dataframe tbody tr th:only-of-type {\n",
       "        vertical-align: middle;\n",
       "    }\n",
       "\n",
       "    .dataframe tbody tr th {\n",
       "        vertical-align: top;\n",
       "    }\n",
       "\n",
       "    .dataframe thead th {\n",
       "        text-align: right;\n",
       "    }\n",
       "</style>\n",
       "<table border=\"1\" class=\"dataframe\">\n",
       "  <thead>\n",
       "    <tr style=\"text-align: right;\">\n",
       "      <th></th>\n",
       "      <th></th>\n",
       "      <th>0</th>\n",
       "    </tr>\n",
       "  </thead>\n",
       "  <tbody>\n",
       "    <tr>\n",
       "      <th rowspan=\"5\" valign=\"top\">Groupe 1</th>\n",
       "      <th>0</th>\n",
       "      <td>-51.0</td>\n",
       "    </tr>\n",
       "    <tr>\n",
       "      <th>1</th>\n",
       "      <td>-107.0</td>\n",
       "    </tr>\n",
       "    <tr>\n",
       "      <th>2</th>\n",
       "      <td>-59.0</td>\n",
       "    </tr>\n",
       "    <tr>\n",
       "      <th>3</th>\n",
       "      <td>-94.5</td>\n",
       "    </tr>\n",
       "    <tr>\n",
       "      <th>4</th>\n",
       "      <td>-64.0</td>\n",
       "    </tr>\n",
       "    <tr>\n",
       "      <th>...</th>\n",
       "      <th>...</th>\n",
       "      <td>...</td>\n",
       "    </tr>\n",
       "    <tr>\n",
       "      <th rowspan=\"5\" valign=\"top\">Groupe 7</th>\n",
       "      <th>25</th>\n",
       "      <td>27.0</td>\n",
       "    </tr>\n",
       "    <tr>\n",
       "      <th>26</th>\n",
       "      <td>-1.0</td>\n",
       "    </tr>\n",
       "    <tr>\n",
       "      <th>27</th>\n",
       "      <td>-22.0</td>\n",
       "    </tr>\n",
       "    <tr>\n",
       "      <th>28</th>\n",
       "      <td>135.5</td>\n",
       "    </tr>\n",
       "    <tr>\n",
       "      <th>29</th>\n",
       "      <td>-5.5</td>\n",
       "    </tr>\n",
       "  </tbody>\n",
       "</table>\n",
       "<p>210 rows × 1 columns</p>\n",
       "</div>"
      ],
      "text/plain": [
       "                 0\n",
       "Groupe 1 0   -51.0\n",
       "         1  -107.0\n",
       "         2   -59.0\n",
       "         3   -94.5\n",
       "         4   -64.0\n",
       "...            ...\n",
       "Groupe 7 25   27.0\n",
       "         26   -1.0\n",
       "         27  -22.0\n",
       "         28  135.5\n",
       "         29   -5.5\n",
       "\n",
       "[210 rows x 1 columns]"
      ]
     },
     "execution_count": 33,
     "metadata": {},
     "output_type": "execute_result"
    }
   ],
   "source": [
    "dftot"
   ]
  },
  {
   "cell_type": "markdown",
   "id": "recent-general",
   "metadata": {},
   "source": [
    " ## Plot de la distribution\n",
    "     \n",
    "     Une distribution normale est paramétrée par sa moyenne est son écart type\n",
    "     "
   ]
  },
  {
   "cell_type": "code",
   "execution_count": 34,
   "id": "victorian-perfume",
   "metadata": {},
   "outputs": [
    {
     "data": {
      "text/plain": [
       "(array([ 1.,  1.,  2.,  2.,  8., 10., 13., 21., 32., 30., 24., 27., 10.,\n",
       "         8., 10.,  2.,  1.,  5.,  1.,  2.]),\n",
       " array([-160.  , -143.05, -126.1 , -109.15,  -92.2 ,  -75.25,  -58.3 ,\n",
       "         -41.35,  -24.4 ,   -7.45,    9.5 ,   26.45,   43.4 ,   60.35,\n",
       "          77.3 ,   94.25,  111.2 ,  128.15,  145.1 ,  162.05,  179.  ]),\n",
       " <BarContainer object of 20 artists>)"
      ]
     },
     "execution_count": 34,
     "metadata": {},
     "output_type": "execute_result"
    },
    {
     "data": {
      "image/png": "[encoded data removed]",
      "text/plain": [
       "<Figure size 432x288 with 1 Axes>"
      ]
     },
     "metadata": {
      "needs_background": "light"
     },
     "output_type": "display_data"
    }
   ],
   "source": [
    "plt.hist(dftot, bins=20)"
   ]
  },
  {
   "cell_type": "markdown",
   "id": "certain-robert",
   "metadata": {},
   "source": [
    "## Moyenne et et écart type de l'echantillon"
   ]
  },
  {
   "cell_type": "markdown",
   "id": "focal-glasgow",
   "metadata": {},
   "source": [
    "### Moyenne"
   ]
  },
  {
   "cell_type": "code",
   "execution_count": 35,
   "id": "deluxe-robert",
   "metadata": {},
   "outputs": [
    {
     "data": {
      "text/plain": [
       "0    3.968095\n",
       "dtype: float64"
      ]
     },
     "execution_count": 35,
     "metadata": {},
     "output_type": "execute_result"
    }
   ],
   "source": [
    "dftot.sum() / len(dftot)"
   ]
  },
  {
   "cell_type": "code",
   "execution_count": 36,
   "id": "dramatic-collect",
   "metadata": {},
   "outputs": [
    {
     "data": {
      "text/plain": [
       "0    3.968095\n",
       "dtype: float64"
      ]
     },
     "execution_count": 36,
     "metadata": {},
     "output_type": "execute_result"
    }
   ],
   "source": [
    "dftot.mean()"
   ]
  },
  {
   "cell_type": "markdown",
   "id": "stuck-reproduction",
   "metadata": {},
   "source": [
    "### Ecart type"
   ]
  },
  {
   "cell_type": "code",
   "execution_count": 37,
   "id": "clinical-score",
   "metadata": {},
   "outputs": [
    {
     "data": {
      "text/plain": [
       "0    55.618435\n",
       "dtype: float64"
      ]
     },
     "execution_count": 37,
     "metadata": {},
     "output_type": "execute_result"
    }
   ],
   "source": [
    "dftot.std()"
   ]
  },
  {
   "cell_type": "code",
   "execution_count": 38,
   "id": "veterinary-heather",
   "metadata": {},
   "outputs": [
    {
     "data": {
      "text/plain": [
       "0    55.618435\n",
       "dtype: float64"
      ]
     },
     "execution_count": 38,
     "metadata": {},
     "output_type": "execute_result"
    }
   ],
   "source": [
    "np.sqrt(((dftot - dftot.mean())**2).sum()/(len(dftot) - 1))"
   ]
  },
  {
   "cell_type": "markdown",
   "id": "extreme-constitutional",
   "metadata": {},
   "source": [
    "## Intervalles de confiance\n",
    "<img src=\"https://openelectiondata.net/assets/images/academy/a-gentle-introduction-to-summarizing-data/image6.png\">"
   ]
  },
  {
   "cell_type": "code",
   "execution_count": 39,
   "id": "explicit-citation",
   "metadata": {},
   "outputs": [
    {
     "data": {
      "text/plain": [
       "3.9680952380952377"
      ]
     },
     "execution_count": 39,
     "metadata": {},
     "output_type": "execute_result"
    }
   ],
   "source": [
    "np.array(dftot).mean()"
   ]
  },
  {
   "cell_type": "code",
   "execution_count": 45,
   "id": "physical-healthcare",
   "metadata": {
    "scrolled": true
   },
   "outputs": [
    {
     "data": {
      "text/plain": [
       "'Les lancés sont centrés autour de 3.97 cm +- 111.24 cm  dans un intervalle de confiance de 95%'"
      ]
     },
     "execution_count": 45,
     "metadata": {},
     "output_type": "execute_result"
    }
   ],
   "source": [
    "f\"Les lancés sont centrés autour de {round(np.array(dftot).mean(), 2)} cm +- {round(dftot[0].std() * 2, 2)} cm  dans un intervalle de confiance de 95%\""
   ]
  },
  {
   "cell_type": "markdown",
   "id": "fitting-occupation",
   "metadata": {},
   "source": [
    "## La standard Error\n",
    "Issue du théoreme central au limites"
   ]
  },
  {
   "cell_type": "code",
   "execution_count": 50,
   "id": "essential-continuity",
   "metadata": {},
   "outputs": [
    {
     "data": {
      "text/plain": [
       "0    3.838037\n",
       "dtype: float64"
      ]
     },
     "execution_count": 50,
     "metadata": {},
     "output_type": "execute_result"
    }
   ],
   "source": [
    "ste = dftot.std() / np.sqrt(len(dftot))\n",
    "ste"
   ]
  },
  {
   "cell_type": "code",
   "execution_count": 53,
   "id": "proud-extreme",
   "metadata": {},
   "outputs": [
    {
     "data": {
      "text/plain": [
       "'La moyenne des lancés de la population totale est de 3.97 cm +- 7.68 cm  dans un intervalle de confiance de 95%'"
      ]
     },
     "execution_count": 53,
     "metadata": {},
     "output_type": "execute_result"
    }
   ],
   "source": [
    "f\"La moyenne des lancés de la population totale est de {round(np.array(dftot).mean(), 2)} cm +- {round(float(ste) * 2, 2)} cm  dans un intervalle de confiance de 95%\""
   ]
  }
 ],
 "metadata": {
  "kernelspec": {
   "display_name": "Python 3.8.12 64-bit ('shims')",
   "language": "python",
   "name": "python3"
  },
  "language_info": {
   "codemirror_mode": {
    "name": "ipython",
    "version": 3
   },
   "file_extension": ".py",
   "mimetype": "text/x-python",
   "name": "python",
   "nbconvert_exporter": "python",
   "pygments_lexer": "ipython3",
   "version": "3.8.12"
  },
  "toc": {
   "base_numbering": 1,
   "nav_menu": {},
   "number_sections": true,
   "sideBar": true,
   "skip_h1_title": false,
   "title_cell": "Table of Contents",
   "title_sidebar": "Contents",
   "toc_cell": false,
   "toc_position": {},
   "toc_section_display": true,
   "toc_window_display": false
  },
  "vscode": {
   "interpreter": {
    "hash": "e588d92b224e11b16adbbadd39936dea13a6488171770263a646fc57f44563d8"
   }
  }
 },
 "nbformat": 4,
 "nbformat_minor": 5
}
