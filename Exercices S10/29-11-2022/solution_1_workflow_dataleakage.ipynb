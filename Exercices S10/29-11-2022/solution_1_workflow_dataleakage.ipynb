{
 "cells": [
  {
   "cell_type": "markdown",
   "id": "7c495abb",
   "metadata": {},
   "source": [
    "Consigne :\n",
    "- Identifier et résoudre le probleme de data leakeage. \n",
    "- Créer un package avec l'architecture en pièce jointe.\n",
    "- Réaliser un pip install . au bonne endroit, pour installer le package. \n",
    "- tester le package et les scripts créée"
   ]
  },
  {
   "cell_type": "markdown",
   "id": "af841f65",
   "metadata": {},
   "source": [
    "## Scaler"
   ]
  },
  {
   "cell_type": "markdown",
   "id": "cd04af75",
   "metadata": {},
   "source": [
    "### Numerical features & Categorical Features"
   ]
  },
  {
   "cell_type": "code",
   "execution_count": 18,
   "id": "569a6ea7",
   "metadata": {},
   "outputs": [],
   "source": [
    "from sklearn.preprocessing import MinMaxScaler, OneHotEncoder\n",
    "from sklearn.linear_model import LinearRegression\n",
    "import pandas as pd \n",
    "import seaborn as sns\n",
    "from sklearn.model_selection import train_test_split\n",
    "from sklearn.model_selection import cross_validate"
   ]
  },
  {
   "cell_type": "code",
   "execution_count": 19,
   "id": "9c9041bd",
   "metadata": {
    "ExecuteTime": {
     "end_time": "2022-12-01T11:00:38.156034Z",
     "start_time": "2022-12-01T11:00:36.055022Z"
    }
   },
   "outputs": [],
   "source": [
    "def scaler_cat(X_train, X_test):\n",
    "    ohe = OneHotEncoder(sparse=False)\n",
    "    ohe.fit(X_train)\n",
    "    return pd.DataFrame(ohe.transform(X_test))\n",
    "\n",
    "def scaler_num(X_train, X_test, scaler=MinMaxScaler()):\n",
    "    scaler.fit(X_train)\n",
    "    return pd.DataFrame(scaler.transform(X_test))\n",
    "\n",
    "def scaler_features(X_train, X_test):\n",
    "    X_train_cat = X_train.select_dtypes(include=['category'])\n",
    "    X_test_cat = X_test.select_dtypes(include=['category'])\n",
    "    X_test_cat_scaled_df = scaler_cat(X_train_cat, X_test_cat)\n",
    "    \n",
    "    X_train_num = X_train.select_dtypes(include=['float64','int64'])\n",
    "    X_test_num = X_test.select_dtypes(include=['float64','int64'])\n",
    "    X_test_num_scaled_df = scaler_num(X_train_num, X_test_num)\n",
    "    \n",
    "    return pd.concat([X_test_cat_scaled_df, X_test_num_scaled_df], axis=1)"
   ]
  },
  {
   "cell_type": "code",
   "execution_count": 20,
   "id": "147f5b0e",
   "metadata": {
    "ExecuteTime": {
     "end_time": "2022-12-01T11:00:38.169336Z",
     "start_time": "2022-12-01T11:00:38.157893Z"
    }
   },
   "outputs": [],
   "source": [
    "data = sns.load_dataset('tips')"
   ]
  },
  {
   "cell_type": "code",
   "execution_count": 21,
   "id": "0fa89d36",
   "metadata": {
    "ExecuteTime": {
     "end_time": "2022-12-01T11:00:38.176446Z",
     "start_time": "2022-12-01T11:00:38.172506Z"
    }
   },
   "outputs": [],
   "source": [
    "y = data['tip']\n",
    "X = data.drop(columns=['tip'])"
   ]
  },
  {
   "cell_type": "code",
   "execution_count": 22,
   "id": "5557efd4",
   "metadata": {
    "ExecuteTime": {
     "end_time": "2022-12-01T11:00:38.184824Z",
     "start_time": "2022-12-01T11:00:38.178649Z"
    }
   },
   "outputs": [],
   "source": [
    "X_train, X_test, y_train, y_test = train_test_split(X, y, test_size=0.3, random_state=60)"
   ]
  },
  {
   "cell_type": "code",
   "execution_count": 23,
   "id": "f761708f",
   "metadata": {
    "ExecuteTime": {
     "end_time": "2022-12-01T11:00:38.202070Z",
     "start_time": "2022-12-01T11:00:38.186884Z"
    }
   },
   "outputs": [],
   "source": [
    "X_train_prep_df = scaler_features(X_train, X_train)"
   ]
  },
  {
   "cell_type": "code",
   "execution_count": 24,
   "id": "c1cd7f3c",
   "metadata": {
    "ExecuteTime": {
     "end_time": "2022-12-01T11:00:38.206627Z",
     "start_time": "2022-12-01T11:00:38.204024Z"
    }
   },
   "outputs": [],
   "source": [
    "lr = LinearRegression()"
   ]
  },
  {
   "cell_type": "code",
   "execution_count": 25,
   "id": "ad2b7c7c",
   "metadata": {
    "ExecuteTime": {
     "end_time": "2022-12-01T11:00:38.223086Z",
     "start_time": "2022-12-01T11:00:38.209373Z"
    }
   },
   "outputs": [
    {
     "data": {
      "text/plain": [
       "LinearRegression()"
      ]
     },
     "execution_count": 25,
     "metadata": {},
     "output_type": "execute_result"
    }
   ],
   "source": [
    "lr.fit(X_train_prep_df,y_train)"
   ]
  },
  {
   "cell_type": "code",
   "execution_count": 26,
   "id": "4d55a3cd",
   "metadata": {
    "ExecuteTime": {
     "end_time": "2022-12-01T11:00:38.276426Z",
     "start_time": "2022-12-01T11:00:38.233734Z"
    }
   },
   "outputs": [
    {
     "data": {
      "text/plain": [
       "0.36088812105245377"
      ]
     },
     "execution_count": 26,
     "metadata": {},
     "output_type": "execute_result"
    }
   ],
   "source": [
    "cross_validate(lr, X_train_prep_df, y_train, cv=5)['test_score'].mean()"
   ]
  },
  {
   "cell_type": "code",
   "execution_count": 27,
   "id": "c5a0989a",
   "metadata": {
    "ExecuteTime": {
     "end_time": "2022-12-01T11:00:38.296756Z",
     "start_time": "2022-12-01T11:00:38.278569Z"
    }
   },
   "outputs": [],
   "source": [
    "X_test_prep_df = scaler_features(X_train, X_test)"
   ]
  },
  {
   "cell_type": "code",
   "execution_count": 28,
   "id": "63454072",
   "metadata": {
    "ExecuteTime": {
     "end_time": "2022-12-01T11:00:38.314322Z",
     "start_time": "2022-12-01T11:00:38.299399Z"
    }
   },
   "outputs": [
    {
     "data": {
      "text/plain": [
       "0.34840156133343403"
      ]
     },
     "execution_count": 28,
     "metadata": {},
     "output_type": "execute_result"
    }
   ],
   "source": [
    "lr.score(X_test_prep_df,y_test)"
   ]
  }
 ],
 "metadata": {
  "hide_input": false,
  "kernelspec": {
   "display_name": "Python 3.8.12 64-bit ('simplon')",
   "language": "python",
   "name": "python3"
  },
  "language_info": {
   "codemirror_mode": {
    "name": "ipython",
    "version": 3
   },
   "file_extension": ".py",
   "mimetype": "text/x-python",
   "name": "python",
   "nbconvert_exporter": "python",
   "pygments_lexer": "ipython3",
   "version": "3.8.12"
  },
  "toc": {
   "base_numbering": 1,
   "nav_menu": {},
   "number_sections": true,
   "sideBar": true,
   "skip_h1_title": false,
   "title_cell": "Table of Contents",
   "title_sidebar": "Contents",
   "toc_cell": false,
   "toc_position": {
    "height": "calc(100% - 180px)",
    "left": "10px",
    "top": "150px",
    "width": "288px"
   },
   "toc_section_display": true,
   "toc_window_display": true
  },
  "vscode": {
   "interpreter": {
    "hash": "503123401f496096e0f028585efad06d42166f80d999c13f687c901dac905c09"
   }
  }
 },
 "nbformat": 4,
 "nbformat_minor": 5
}
