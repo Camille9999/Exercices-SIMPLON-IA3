{
 "cells": [
  {
   "cell_type": "markdown",
   "metadata": {},
   "source": [
    "# Longueur des poissons d'un lac"
   ]
  },
  {
   "cell_type": "code",
   "execution_count": null,
   "metadata": {},
   "outputs": [],
   "source": [
    "import numpy as np\n",
    "import matplotlib.pyplot as plt\n",
    "from scipy.stats import norm"
   ]
  },
  {
   "cell_type": "markdown",
   "metadata": {},
   "source": [
    "## Le dataset\n",
    "#### On a pesé tous les poissons d'un lac. Il y a 10000 poissons dans le lac : 60% de perches et 40% de brochets."
   ]
  },
  {
   "cell_type": "code",
   "execution_count": null,
   "metadata": {},
   "outputs": [],
   "source": [
    "# Générer un dataset aléatoire de mesures de longueurs de poissons\n",
    "\n",
    "data1 = np.random.normal(30, 7, 6000)  # perches\n",
    "data2 = np.random.normal(75, 15, 4000) # brochets\n",
    "data = np.concatenate((data1,data2))\n",
    "plt.figure(figsize=(15,8))\n",
    "plt.hist(data, bins=100, density=True, alpha=0.7, color='b')\n",
    "plt.show()"
   ]
  },
  {
   "cell_type": "markdown",
   "metadata": {},
   "source": [
    "## Les grandeurs statistiques de la population totale"
   ]
  },
  {
   "cell_type": "code",
   "execution_count": null,
   "metadata": {},
   "outputs": [],
   "source": [
    "N = len(data)            # N la taille de la population totale\n",
    "mean_tot = data.mean()   # mean_pop la moyenne de la population totale\n",
    "std_tot = data.std()     # std_pop l'écart-type de la population totale\n",
    "\n",
    "print(f'Taille de la population : N = {N}\\nMoyenne de la population : mean_tot = {round(mean_tot,2)}cm\\nEcart-type de la population : std_tot = {round(std_tot,2)}cm')"
   ]
  },
  {
   "cell_type": "markdown",
   "metadata": {},
   "source": [
    "## On mesure la taille d'un échantillon aléatoire de taille n = 500"
   ]
  },
  {
   "cell_type": "code",
   "execution_count": null,
   "metadata": {},
   "outputs": [],
   "source": [
    "n = 500\n",
    "sample = np.random.choice(data, n, replace=True)\n",
    "plt.figure(figsize=(15,8))\n",
    "plt.hist(sample, bins=50, density=True, alpha=0.7, color='b')\n",
    "plt.show()"
   ]
  },
  {
   "cell_type": "code",
   "execution_count": null,
   "metadata": {},
   "outputs": [],
   "source": [
    "mean_sample_500 = sample.mean()  # mean_sample_500 la moyenne de l'échantillon\n",
    "std_sample_500 = sample.std()    # std_sample_500 l'écart-type de l'échantillon\n",
    "\n",
    "print(f'Taille de la population : n = {n}\\nMoyenne de la population : mean_sample_500 = {round(mean_sample_500,2)}cm\\nEcart-type de la population : std_sample_500 = {round(std_sample_500,2)}cm')"
   ]
  },
  {
   "cell_type": "markdown",
   "metadata": {},
   "source": [
    "#### Si on n'avait pas les données de la population totale, on pourrait donner la valeur moyenne des poissons estimée à partir de l'échantillon précédent en donnant une incertitude à l'aide de l'erreur standard : $ste = \\frac{std}{\\sqrt N}$."
   ]
  },
  {
   "cell_type": "code",
   "execution_count": null,
   "metadata": {},
   "outputs": [],
   "source": [
    "ste_sample_500 = std_sample_500/N**.5\n",
    "\n",
    "print(f'La longueur moyenne des poissons pour la population totale est de {round(mean_sample_500, 2)}cm +- {round(ste_sample_500, 2)}cm avec un intervalle de confiance de 68%')\n",
    "print(f'La longueur moyenne des poissons pour la population totale est de {round(mean_sample_500, 2)}cm +- {round(ste_sample_500*2, 2)}cm avec un intervalle de confiance de 95%')\n",
    "print(f'La longueur moyenne des poissons pour la population totale est de {round(mean_sample_500, 2)}cm +- {round(ste_sample_500*3, 2)}cm avec un intervalle de confiance de 99,7%')\n",
    "print(f'La moyenne réelle est de {round(mean_tot,2)}cm')"
   ]
  },
  {
   "cell_type": "markdown",
   "metadata": {},
   "source": [
    "## On refait la même chose pour un échantillon de taille 50"
   ]
  },
  {
   "cell_type": "code",
   "execution_count": null,
   "metadata": {},
   "outputs": [],
   "source": [
    "n = 50\n",
    "sample = np.random.choice(data, n, replace=True)\n",
    "plt.figure(figsize=(15,8))\n",
    "plt.hist(sample, bins=15, density=True, alpha=0.7, color='b')\n",
    "plt.show()"
   ]
  },
  {
   "cell_type": "code",
   "execution_count": null,
   "metadata": {},
   "outputs": [],
   "source": [
    "n = 50\n",
    "mean_sample_50 = sample.mean()\n",
    "std_sample_50 = sample.std()\n",
    "ste_sample_50 = std_sample_50/n**.5\n",
    "\n",
    "print(f'La longueur moyenne des poissons pour la population totale est de {round(mean_sample_50,2)}cm +- {round(ste_sample_50,2)}cm avec un intervalle de confiance de 68%')\n",
    "print(f'La longueur moyenne des poissons pour la population totale est de {round(mean_sample_50,2)}cm +- {round(ste_sample_50*2,2)}cm avec un intervalle de confiance de 95%')\n",
    "print(f'La longueur moyenne des poissons pour la population totale est de {round(mean_sample_50,2)}cm +- {round(ste_sample_50*3,2)}cm avec un intervalle de confiance de 99,7%')\n",
    "print(f'La moyenne réelle est de {round(mean_tot,2)}cm')"
   ]
  },
  {
   "cell_type": "markdown",
   "metadata": {},
   "source": [
    "## Evolution de l'erreur standard en fonction de la taille de l'échantillon"
   ]
  },
  {
   "cell_type": "code",
   "execution_count": null,
   "metadata": {},
   "outputs": [],
   "source": [
    "sample_lens = np.arange(50, 500, 1)\n",
    "ste_est, ste_sample = [], []\n",
    "for i in sample_lens:\n",
    "    sample = np.random.choice(data, i, replace=True)\n",
    "    ste_sample.append(sample.std()/i**.5)\n",
    "    means = []\n",
    "    for y in range(1000):\n",
    "        sample = np.random.choice(data, i, replace=True)\n",
    "        means.append(sample.mean())\n",
    "    ste_est.append(np.array(means).std())"
   ]
  },
  {
   "cell_type": "code",
   "execution_count": null,
   "metadata": {},
   "outputs": [],
   "source": [
    "plt.figure(figsize=(15,8), dpi=300)\n",
    "plt.plot(sample_lens, ste_est, label='Est', linewidth=2)\n",
    "plt.plot(sample_lens, ste_sample, label='Sample', linewidth=2)\n",
    "plt.plot(sample_lens, std_tot/sample_lens**.5, label='fit', linewidth=2)\n",
    "plt.xticks(np.arange(50, 500, 50))\n",
    "plt.yticks(np.arange(1, 3.5, 0.25))\n",
    "plt.xlabel('n')\n",
    "plt.ylabel('ste (cm)')\n",
    "plt.legend()\n",
    "plt.grid()\n",
    "plt.show()"
   ]
  },
  {
   "cell_type": "code",
   "execution_count": null,
   "metadata": {},
   "outputs": [],
   "source": [
    "std_Xplier = np.arange(0.01, 3, 0.01)\n",
    "\n",
    "def Xplier_effect(a):\n",
    "    list_s_mean, list_s_std, prob_distrib = [], [], []\n",
    "    for i in range(5000):\n",
    "        sample = np.random.choice(data, a, replace=True)\n",
    "        list_s_mean.append(sample.mean())\n",
    "        list_s_std.append(sample.std())\n",
    "    list_s_ste = list(map(lambda x: x/np.sqrt(a), list_s_std))\n",
    "    for i in std_Xplier:\n",
    "        count = 0\n",
    "        for j in range(len(list_s_mean)):\n",
    "            if mean_tot <= (list_s_mean[j]+list_s_ste[j]*i) and mean_tot >= (list_s_mean[j]-list_s_ste[j]*i): count += 1\n",
    "        prob_distrib.append((count/len(list_s_mean))*100)\n",
    "    return prob_distrib\n",
    "\n",
    "prob_distrib_n200 = Xplier_effect(200)\n",
    "prob_distrib_n50 = Xplier_effect(50)\n",
    "prob_distrib_n30 = Xplier_effect(30)\n",
    "prob_distrib_n20 = Xplier_effect(20)\n",
    "prob_distrib_n10 = Xplier_effect(10)\n",
    "prob_distrib_n5 = Xplier_effect(5)\n",
    "prob_distrib_n3 = Xplier_effect(3)"
   ]
  },
  {
   "cell_type": "code",
   "execution_count": null,
   "metadata": {},
   "outputs": [],
   "source": [
    "plt.figure(figsize = (15,8))\n",
    "plt.plot(np.array(std_Xplier), np.array(prob_distrib_n200), label = 'n200')\n",
    "plt.plot(np.array(std_Xplier), np.array(prob_distrib_n50), label = 'n50')\n",
    "plt.plot(np.array(std_Xplier), np.array(prob_distrib_n30), label = 'n30')\n",
    "plt.plot(np.array(std_Xplier), np.array(prob_distrib_n20), label = 'n20')\n",
    "plt.plot(np.array(std_Xplier), np.array(prob_distrib_n10), label = 'n10')\n",
    "plt.plot(np.array(std_Xplier), np.array(prob_distrib_n5), label = 'n5')\n",
    "plt.plot(np.array(std_Xplier), np.array(prob_distrib_n3), label = 'n3')\n",
    "plt.plot([0,3], [95,95], label = 'alpha = 0.95', c = 'black', linestyle = 'dotted')\n",
    "plt.plot([0,3], [66,66], label = 'alpha = 0.66', c = 'black', linestyle = 'dotted')\n",
    "plt.title('\\nEstimated confidence intervals using different STD multipliers (10000 simulations)\\n', fontsize=15)\n",
    "plt.xlabel('STD * Xplier', fontsize=12)\n",
    "plt.ylabel('%age of values found in the interval', fontsize=12)\n",
    "plt.legend(fontsize=12)\n",
    "plt.show()"
   ]
  },
  {
   "cell_type": "code",
   "execution_count": null,
   "metadata": {},
   "outputs": [],
   "source": [
    "f\"Taille moyenne d'une perche : {data1.mean()}cm, L'écart type : {data1.std()}cm, L'erreur standard : {data1.std() / np.sqrt(len(data1))}cm\""
   ]
  },
  {
   "cell_type": "markdown",
   "metadata": {},
   "source": [
    "# La p-value\n",
    "\n",
    "La P-value (valeur P, en français) permet de connaitre la densité de probabilité en fonction de la population.\n",
    "\n",
    "**Process**: Validant ou invalidant l'hypothèse nulle. \n",
    "\n",
    "Nous allons maintenant pêcher 100 perches dans le lac de tchernobyl pour prouver que les perches qui vivent dans un lac irradié n'ont pas la même taille que les perches pechés dans de l'eau non irradiée.\n",
    "\n",
    "**Hypothèse nulle**: Les radiations dans l'eau n'influent pas sur la taille des perches.\n",
    "\n",
    "**H0 est vérifié si :**\n",
    "- La moyenne doit être de **30,14cm**\n",
    "- L'écart type doit être de **7cm**\n",
    "- L'erreur standard doit être de **0.09cm**"
   ]
  },
  {
   "cell_type": "markdown",
   "metadata": {},
   "source": [
    "On génère aléatoirement 100 perches pêchés dans le lac de tchernobyl"
   ]
  },
  {
   "cell_type": "code",
   "execution_count": null,
   "metadata": {},
   "outputs": [],
   "source": [
    "data_tche = np.random.normal(45, 25, 1000)\n",
    "plt.hist(data_tche)\n",
    "tche_mean = data_tche.mean()\n",
    "tche_mean"
   ]
  },
  {
   "cell_type": "code",
   "execution_count": null,
   "metadata": {},
   "outputs": [],
   "source": [
    "ste_tche = data_tche.std() / np.sqrt(len(data_tche))\n",
    "\n",
    "f\"Erreur standart : {ste_tche}\""
   ]
  },
  {
   "cell_type": "code",
   "execution_count": null,
   "metadata": {},
   "outputs": [],
   "source": [
    "N = len(data_tche)\n",
    "moy = data_tche.mean()\n",
    "num_bins = 100\n",
    "plt.figure(figsize=(15,10))\n",
    "x = np.linspace((data1.min() + 1), (data1.max() + 1), 100)\n",
    "\n",
    "b = np.sin(x)\n",
    "bin_width = (data1.max() - data1.min()) / num_bins\n",
    "p = norm.cdf(x, data1.mean(), data1.std())#* N * bin_width\n",
    "p2 = norm.cdf(x, data_tche.mean(), data_tche.std() / np.sqrt(100))\n",
    "\n",
    "\n",
    "plt.plot(x, p, 'k', linewidth=3, label='Population total', color=\"red\")\n",
    "plt.plot(x, p2, 'k', linewidth=3, label='Population tchernobyl', color=\"blue\")\n",
    "plt.axvline(x=tche_mean, label=\"Moyenne tchernobyl\", linestyle='dashed', color=\"blue\")\n",
    "plt.legend(fontsize=15)\n",
    "plt.show()"
   ]
  },
  {
   "cell_type": "code",
   "execution_count": null,
   "metadata": {},
   "outputs": [],
   "source": [
    "p = norm.cdf(tche_mean, data1.mean(), data1.std())"
   ]
  },
  {
   "cell_type": "code",
   "execution_count": null,
   "metadata": {},
   "outputs": [],
   "source": [
    "f'p-value = {round(((1 - p)*2)*100,2)}%'"
   ]
  },
  {
   "cell_type": "markdown",
   "metadata": {},
   "source": [
    "# Probabilité cumulée"
   ]
  },
  {
   "cell_type": "markdown",
   "metadata": {},
   "source": [
    "Permet de connaitre la probabilité que des perches soient comprises entre des valeurs définies.\n",
    "\n",
    "- On connait la valeur d'un écart type\n",
    "- On connait la règle des 68 - 95 - 99,7\n",
    "- Donc on sait définir la probabilité sur la population choisie\n",
    "\n",
    "<img src=\"https://upload.wikimedia.org/wikipedia/commons/thumb/8/8c/Standard_deviation_diagram.svg/1920px-Standard_deviation_diagram.svg.png\" width=\"50%\" height=\"auto\" />"
   ]
  },
  {
   "cell_type": "markdown",
   "metadata": {},
   "source": [
    "1. Nous récupérons le dataset des perche (data1) puis on l'affiche sous forme de graphique pour vérifier que nous sommes sur une représentation de la courbe de Gauss\n",
    "\n",
    "2. Nous visualisons également la ligne des 40 cm. Notre réponse est l'aire sous la courbe à droite de cette ligne."
   ]
  },
  {
   "cell_type": "code",
   "execution_count": null,
   "metadata": {},
   "outputs": [],
   "source": [
    "N = len(data1)\n",
    "moy = data1.mean()\n",
    "num_bins = 100\n",
    "plt.figure(figsize=(15,10))\n",
    "x = np.linspace((data1.min() + 1), (data1.max() + 1), 100)\n",
    "\n",
    "b = np.sin(x)\n",
    "bin_width = (data1.max() - data1.min()) / num_bins\n",
    "p = norm.pdf(x, data1.mean(), data1.std())#* N * bin_width\n",
    "plt.plot(x, p, 'k', linewidth=3)\n",
    "plt.axvline(x=40, linewidth=7, color=\"blue\")\n",
    "plt.axvline(x=moy, linewidth=1, color=\"black\", label=f\"µ: {np.round(moy, 2)} \", linestyle=\"dashed\")\n",
    "plt.fill_between(x, p, 0, where = (x >= 40), color='blue', label=\"Nombre de poissons > 40cm\", alpha=.5)\n",
    "plt.legend(fontsize=15)\n",
    "plt.show()"
   ]
  },
  {
   "cell_type": "markdown",
   "metadata": {},
   "source": [
    "Dans l'objectif d'avoir quelque chose de plus lisible et pouvoir faire une première estimation (non précise), nous allons réaliser un graph de probabilité cumulée."
   ]
  },
  {
   "cell_type": "code",
   "execution_count": null,
   "metadata": {},
   "outputs": [],
   "source": [
    "plt.figure(figsize=(15,10))\n",
    "bin_width = (data1.max() - data1.min()) / num_bins\n",
    "p = norm.cdf(x, data1.mean(), data1.std()) #* N * bin_width\n",
    "plt.plot(x, p, 'k')\n",
    "plt.axvline(x=40, linewidth=7, color='blue')\n",
    "plt.axvline(x=moy, linewidth=1, color=\"black\", label=f\"µ: {np.round(moy, 2)} \", linestyle=\"dashed\")\n",
    "plt.fill_between(x, p, 1, where = (x >= 40), color='blue', label=\"% Poissons > 40cm (p)\", alpha=.5)\n",
    "plt.legend(fontsize=15)\n",
    "plt.show()"
   ]
  },
  {
   "cell_type": "code",
   "execution_count": null,
   "metadata": {},
   "outputs": [],
   "source": [
    "np.round((40-data1.mean())/data1.std(), 2)"
   ]
  },
  {
   "cell_type": "markdown",
   "metadata": {},
   "source": [
    "On récupère la moyenne et les écarts types pour savoir à combien d'écart type se trouve la valeur 40 par rapport à la moyenne."
   ]
  },
  {
   "cell_type": "code",
   "execution_count": null,
   "metadata": {},
   "outputs": [],
   "source": [
    "pmin = norm(data1.mean(), data1.std()).cdf(40)\n",
    "f'{np.round(pmin*100, 2)}% des poissons font moins de 40cm de long'"
   ]
  },
  {
   "cell_type": "code",
   "execution_count": null,
   "metadata": {},
   "outputs": [],
   "source": [
    "f'{np.round((1-pmin)*100, 2)}% des poisson ont une taille > 40cm'"
   ]
  }
 ],
 "metadata": {
  "kernelspec": {
   "display_name": "Python 3.8.12 64-bit ('shims')",
   "language": "python",
   "name": "python3"
  },
  "language_info": {
   "codemirror_mode": {
    "name": "ipython",
    "version": 3
   },
   "file_extension": ".py",
   "mimetype": "text/x-python",
   "name": "python",
   "nbconvert_exporter": "python",
   "pygments_lexer": "ipython3",
   "version": "3.8.12"
  },
  "orig_nbformat": 4,
  "vscode": {
   "interpreter": {
    "hash": "e588d92b224e11b16adbbadd39936dea13a6488171770263a646fc57f44563d8"
   }
  }
 },
 "nbformat": 4,
 "nbformat_minor": 2
}
