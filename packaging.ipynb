{
 "cells": [
  {
   "cell_type": "markdown",
   "id": "satellite-calculator",
   "metadata": {},
   "source": [
    "# Définir un module Akinator"
   ]
  },
  {
   "cell_type": "markdown",
   "id": "purple-warning",
   "metadata": {},
   "source": [
    "Définir un dossier akinator qui contient :\n",
    "- un fichier data.py\n",
    "- le csv akinator.csv\n",
    "- un fichier __init__.py\n",
    "Celui-ci doit permettre d'executer les lignes des cellules suivantes dupuis n'importe quel notebooks."
   ]
  },
  {
   "cell_type": "code",
   "execution_count": null,
   "id": "antique-morocco",
   "metadata": {},
   "outputs": [],
   "source": [
    "from akinator.data import Data\n",
    "\n",
    "akinator = Data()\n",
    "df = akinator.get_data()\n",
    "df"
   ]
  }
 ],
 "metadata": {
  "kernelspec": {
   "display_name": "Python 3.8.12 64-bit ('shims')",
   "language": "python",
   "name": "python3"
  },
  "language_info": {
   "codemirror_mode": {
    "name": "ipython",
    "version": 3
   },
   "file_extension": ".py",
   "mimetype": "text/x-python",
   "name": "python",
   "nbconvert_exporter": "python",
   "pygments_lexer": "ipython3",
   "version": "3.8.12"
  },
  "toc": {
   "base_numbering": 1,
   "nav_menu": {},
   "number_sections": true,
   "sideBar": true,
   "skip_h1_title": false,
   "title_cell": "Table of Contents",
   "title_sidebar": "Contents",
   "toc_cell": false,
   "toc_position": {},
   "toc_section_display": true,
   "toc_window_display": false
  },
  "vscode": {
   "interpreter": {
    "hash": "e588d92b224e11b16adbbadd39936dea13a6488171770263a646fc57f44563d8"
   }
  }
 },
 "nbformat": 4,
 "nbformat_minor": 5
}
