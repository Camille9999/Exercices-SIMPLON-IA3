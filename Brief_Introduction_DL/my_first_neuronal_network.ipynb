{
 "cells": [
  {
   "cell_type": "markdown",
   "id": "clean-blogger",
   "metadata": {},
   "source": [
    "# Mon 1er Réseau Neuronal"
   ]
  },
  {
   "cell_type": "markdown",
   "id": "sonic-screen",
   "metadata": {},
   "source": [
    "<img src=\"https://www.tibco.com/sites/tibco/files/media_entity/2021-05/neutral-network-diagram.svg\">"
   ]
  },
  {
   "cell_type": "markdown",
   "id": "ambient-dispatch",
   "metadata": {},
   "source": [
    "## Description: \n",
    "- Choisir un Dataset simple et clean. \n",
    "- Choisir de faire une régression ou classification. \n",
    "- Construire le réseau neuronal avec l'exemple suivant. \n",
    "- Les hidden layers pourrons avoir des fonctions d'activation \"relu\"."
   ]
  },
  {
   "cell_type": "markdown",
   "id": "involved-latin",
   "metadata": {},
   "source": [
    "## Rendu: \n",
    "- Présentation schematique du réseau neuronal\n",
    "- Présentation du notebook\n",
    "    - La construction du réseau\n",
    "    - Les résultats obtenus\n",
    "    - Le scoring"
   ]
  },
  {
   "cell_type": "code",
   "execution_count": null,
   "id": "bored-wagon",
   "metadata": {},
   "outputs": [],
   "source": [
    "# !pip install tensorflow"
   ]
  },
  {
   "cell_type": "code",
   "execution_count": null,
   "id": "clear-iceland",
   "metadata": {},
   "outputs": [],
   "source": [
    "from tensorflow.keras import *"
   ]
  },
  {
   "cell_type": "code",
   "execution_count": null,
   "id": "convinced-briefing",
   "metadata": {},
   "outputs": [],
   "source": [
    "from tensorflow.keras import Sequential, layers"
   ]
  },
  {
   "cell_type": "code",
   "execution_count": null,
   "id": "popular-appearance",
   "metadata": {},
   "outputs": [],
   "source": [
    "# Ex:\n",
    "# X de 15 features\n",
    "# y target de 3 dim"
   ]
  },
  {
   "cell_type": "code",
   "execution_count": null,
   "id": "fuzzy-exemption",
   "metadata": {
    "scrolled": true
   },
   "outputs": [],
   "source": [
    "### Regression of size 4\n",
    "model = Sequential()\n",
    "model.add(layers.Dense(10, activation='relu', input_dim=15))\n",
    "#model.add(...)\n",
    "model.add(layers.Dense(3, activation='linear'))\n",
    "\n",
    "\n",
    "### Classification with 8 classes\n",
    "model = Sequential()\n",
    "model.add(layers.Dense(10, activation='relu', input_dim=15))\n",
    "#model.add(...)\n",
    "model.add(layers.Dense(3, activation='softmax'))"
   ]
  },
  {
   "cell_type": "code",
   "execution_count": null,
   "id": "medieval-train",
   "metadata": {},
   "outputs": [],
   "source": [
    "# Ex:\n",
    "# X de 9 features\n",
    "# y target de 1 dim"
   ]
  },
  {
   "cell_type": "code",
   "execution_count": null,
   "id": "stable-toilet",
   "metadata": {},
   "outputs": [],
   "source": [
    "### Regression of size 4\n",
    "model = Sequential()\n",
    "model.add(layers.Dense(10, activation='relu', input_dim=9))\n",
    "#model.add(...)\n",
    "model.add(layers.Dense(1, activation='linear'))\n",
    "\n",
    "\n",
    "### Classification with 8 classes\n",
    "model = Sequential()\n",
    "model.add(layers.Dense(10, activation='relu', input_dim=9))\n",
    "#model.add(...)\n",
    "model.add(layers.Dense(1, activation='softmax'))"
   ]
  },
  {
   "cell_type": "code",
   "execution_count": null,
   "id": "proved-negative",
   "metadata": {},
   "outputs": [],
   "source": [
    "model.summary()"
   ]
  },
  {
   "cell_type": "code",
   "execution_count": null,
   "id": "patent-cause",
   "metadata": {},
   "outputs": [],
   "source": [
    "model.compile(\n",
    "    optimizer='adam',\n",
    "    loss='binary_crossentropy', \n",
    "    metrics = 'accuracy')"
   ]
  },
  {
   "cell_type": "code",
   "execution_count": null,
   "id": "connected-jamaica",
   "metadata": {},
   "outputs": [],
   "source": [
    "model.fit(X, y, batch_size=16, epochs=10)"
   ]
  },
  {
   "cell_type": "code",
   "execution_count": null,
   "id": "white-works",
   "metadata": {},
   "outputs": [],
   "source": [
    "model.evaluate(scaler.transform(X), y)"
   ]
  },
  {
   "cell_type": "code",
   "execution_count": null,
   "id": "chinese-following",
   "metadata": {},
   "outputs": [],
   "source": [
    "model.predict(scaler.transform(X))"
   ]
  }
 ],
 "metadata": {
  "kernelspec": {
   "display_name": "Python 3",
   "language": "python",
   "name": "python3"
  },
  "language_info": {
   "codemirror_mode": {
    "name": "ipython",
    "version": 3
   },
   "file_extension": ".py",
   "mimetype": "text/x-python",
   "name": "python",
   "nbconvert_exporter": "python",
   "pygments_lexer": "ipython3",
   "version": "3.8.6"
  },
  "toc": {
   "base_numbering": 1,
   "nav_menu": {},
   "number_sections": true,
   "sideBar": true,
   "skip_h1_title": false,
   "title_cell": "Table of Contents",
   "title_sidebar": "Contents",
   "toc_cell": false,
   "toc_position": {},
   "toc_section_display": true,
   "toc_window_display": false
  }
 },
 "nbformat": 4,
 "nbformat_minor": 5
}
