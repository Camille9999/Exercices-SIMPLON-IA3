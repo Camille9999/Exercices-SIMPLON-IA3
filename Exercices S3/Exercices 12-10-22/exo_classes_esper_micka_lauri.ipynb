{
 "cells": [
  {
   "cell_type": "code",
   "execution_count": 42,
   "id": "7b967b64",
   "metadata": {
    "scrolled": false
   },
   "outputs": [
    {
     "name": "stdout",
     "output_type": "stream",
     "text": [
      "Your cake : vanilla round\n"
     ]
    }
   ],
   "source": [
    "class Cake:\n",
    "    def __init__(self, flavour = \"vanilla\", form = \"round\"):\n",
    "        self.flavour = flavour\n",
    "        self.form = form\n",
    "        \n",
    "    def __str__(self):\n",
    "        return f'Your cake : {self.flavour} {self.form}'\n",
    "    \n",
    "    def __repr__(self):\n",
    "        return f'{self.flavour}, {self.form}'\n",
    "\n",
    "print(Cake())"
   ]
  },
  {
   "cell_type": "markdown",
   "id": "2b6eb2bb",
   "metadata": {},
   "source": [
    "# 1) Faire fonctionner la méthode pour print une instance de la classe Cake"
   ]
  },
  {
   "cell_type": "markdown",
   "id": "6229e73b",
   "metadata": {},
   "source": [
    "# 2) Créer un gateau au chocolat en forme de château (castle), sans modifier la méthode init !"
   ]
  },
  {
   "cell_type": "code",
   "execution_count": 43,
   "id": "4d6cd315",
   "metadata": {},
   "outputs": [],
   "source": [
    "gateau_au_chocolat = Cake('chocolate', 'castle')"
   ]
  },
  {
   "cell_type": "markdown",
   "id": "5c523a74",
   "metadata": {},
   "source": [
    "# 3) Coder une méthode __repr__ telle que repr(cake) affiche les attributs du gateau"
   ]
  },
  {
   "cell_type": "code",
   "execution_count": 44,
   "id": "3ea6b578",
   "metadata": {},
   "outputs": [
    {
     "data": {
      "text/plain": [
       "'chocolate, castle'"
      ]
     },
     "execution_count": 44,
     "metadata": {},
     "output_type": "execute_result"
    }
   ],
   "source": [
    "repr(gateau_au_chocolat)"
   ]
  }
 ],
 "metadata": {
  "kernelspec": {
   "display_name": "Python 3.8.12 64-bit ('shims')",
   "language": "python",
   "name": "python3"
  },
  "language_info": {
   "codemirror_mode": {
    "name": "ipython",
    "version": 3
   },
   "file_extension": ".py",
   "mimetype": "text/x-python",
   "name": "python",
   "nbconvert_exporter": "python",
   "pygments_lexer": "ipython3",
   "version": "3.8.12"
  },
  "toc": {
   "base_numbering": 1,
   "nav_menu": {},
   "number_sections": true,
   "sideBar": true,
   "skip_h1_title": false,
   "title_cell": "Table of Contents",
   "title_sidebar": "Contents",
   "toc_cell": false,
   "toc_position": {},
   "toc_section_display": true,
   "toc_window_display": false
  },
  "vscode": {
   "interpreter": {
    "hash": "e588d92b224e11b16adbbadd39936dea13a6488171770263a646fc57f44563d8"
   }
  }
 },
 "nbformat": 4,
 "nbformat_minor": 5
}
