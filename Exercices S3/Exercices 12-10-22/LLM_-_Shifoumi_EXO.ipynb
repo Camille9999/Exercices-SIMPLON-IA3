{
 "cells": [
  {
   "cell_type": "markdown",
   "id": "683de058",
   "metadata": {},
   "source": [
    "# EXERCISE 1:\n",
    "\tMettre les functions dans le bon ordre.\n",
    "\n",
    "# EXERCISE 2:\n",
    "\tDebugger les functions create_groups et wildcard.\n",
    "  \n",
    "# EXERCISE 3: \n",
    "\tCréer un function pour afficher le numéro du round, les joueurs, leurs choix et le gagnant de chaque round.\n",
    "\n",
    "# BONUS\n",
    "  Améliorer l'affichage en utilisant des emojis.\n",
    "  Afficher un tableau de resultats."
   ]
  },
  {
   "cell_type": "code",
   "execution_count": 61,
   "id": "8c61e9f0",
   "metadata": {},
   "outputs": [],
   "source": [
    "import random"
   ]
  },
  {
   "cell_type": "code",
   "execution_count": 62,
   "id": "4bf353f4",
   "metadata": {},
   "outputs": [],
   "source": [
    "def get_data():\n",
    "    lst_students = [\"Thomas\",\"Nariné\",\"Esperance\",\"Mathieu\",\"Louise\",\"Hémon\",\"Quentin\",\"Chouki\",\"Camille\",\"Django\",\"Marie\",\"Matthieu\",\"Laurendi\",\"Lauriane\",\"Rémy\",\"Hugues\",\"Jérôme\",\"Constance\",\"Leona\",\"Hadi\",\"Michaël\",\"Flo\"]\n",
    "    rock_paper_scissors = [\"rock\", \"paper\", \"scissors\"]\n",
    "    students = random.sample(lst_students, len(lst_students))\n",
    "    \n",
    "    return students, rock_paper_scissors, lst_students"
   ]
  },
  {
   "cell_type": "code",
   "execution_count": 63,
   "id": "92368053",
   "metadata": {},
   "outputs": [],
   "source": [
    "def wildcard(winners, losers):\n",
    "    if len(winners)%2 == 1  and len(winners) > 1:\n",
    "        wildcard = (random.choice(losers))\n",
    "        winners.append(wildcard)   \n",
    "        \n",
    "    return winners"
   ]
  },
  {
   "cell_type": "code",
   "execution_count": 64,
   "id": "b1c0b5ad",
   "metadata": {},
   "outputs": [],
   "source": [
    "def create_groups(people):\n",
    "    pairs =[]\n",
    "    while (len(people)) > 1:\n",
    "        removed_pair = [people.pop(0), people.pop(0)] \n",
    "        pairs.append(removed_pair)\n",
    "        \n",
    "    return pairs"
   ]
  },
  {
   "cell_type": "code",
   "execution_count": 65,
   "id": "51a9b492",
   "metadata": {},
   "outputs": [],
   "source": [
    "def rps_by_pair(p1, p2, winners = [], losers = []):\n",
    "    \n",
    "    rock_paper_scissors = [\"rock\", \"paper\", \"scissors\"]            \n",
    "    \n",
    "    rps_p1 = random.choice(rock_paper_scissors) \n",
    "    rps_p2 = random.choice(rock_paper_scissors) \n",
    "    \n",
    "    beats = {'rock': 'scissors', 'scissors': 'paper', 'paper': 'rock'}  \n",
    "    \n",
    "    build_winners = winners\n",
    "    build_losers = losers\n",
    "        \n",
    "    while rps_p1 == rps_p2:\n",
    "        rps_p1 = random.choice(rock_paper_scissors) \n",
    "        rps_p2 = random.choice(rock_paper_scissors)\n",
    "\n",
    "                \n",
    "    if beats[rps_p1] == rps_p2:\n",
    "        build_winners.append(p1)\n",
    "        build_losers.append(p2)\n",
    "        return {\"winner\" : p1, \"loser\" : p2} \n",
    "\n",
    "\n",
    "    else:\n",
    "        build_winners.append(p2)\n",
    "        build_losers.append(p1)\n",
    "        return {\"winner\" : p2, \"loser\" : p1} \n",
    "    "
   ]
  },
  {
   "cell_type": "code",
   "execution_count": 66,
   "id": "04cc06aa",
   "metadata": {},
   "outputs": [],
   "source": [
    "def play_match(students):\n",
    "    pairs = create_groups(students)\n",
    "    rps_matchs = []\n",
    "    \n",
    "    for pair in pairs:\n",
    "        p1 = pair[0]\n",
    "        p2 = pair[1]\n",
    "        #print(rps(p1, p2))\n",
    "        rps_matchs.append(rps_by_pair(p1, p2))\n",
    "        \n",
    "    return rps_matchs\n"
   ]
  },
  {
   "cell_type": "code",
   "execution_count": 67,
   "id": "fb6dbb4a",
   "metadata": {},
   "outputs": [],
   "source": [
    "def return_match_result(round_winners, round_losers):    \n",
    "    match_pairs = create_groups(round_winners)\n",
    "    match_results = []\n",
    "    \n",
    "    for pair in match_pairs:\n",
    "        p1 = pair[0]\n",
    "        p2 = pair[1]\n",
    "        match_results.append(rps_by_pair(p1, p2, round_winners, round_losers))\n",
    "        \n",
    "    return match_results"
   ]
  },
  {
   "cell_type": "code",
   "execution_count": 68,
   "id": "399c3ce4",
   "metadata": {},
   "outputs": [],
   "source": [
    "def get_winners_or_losers(result_matchs, loser_or_winner):\n",
    "    winners_or_losers = []\n",
    "    \n",
    "    for result in result_matchs:\n",
    "        winners_or_losers.append(result[loser_or_winner])\n",
    "        \n",
    "    return winners_or_losers"
   ]
  },
  {
   "cell_type": "code",
   "execution_count": 69,
   "id": "c81c5c30",
   "metadata": {},
   "outputs": [],
   "source": [
    "def launch_shifoumi():\n",
    "    students, rock_paper_scissors, lst_students = get_data()\n",
    "  \n",
    "    while(len(students) > 1):\n",
    "        result_matchs = play_match(students)\n",
    "        round_losers = get_winners_or_losers(result_matchs, 'loser')\n",
    "        round_winners = get_winners_or_losers(result_matchs, 'winner')\n",
    "        students = wildcard(round_winners, round_losers)\n",
    "\n",
    "    return students"
   ]
  },
  {
   "cell_type": "code",
   "execution_count": 84,
   "id": "9c345da5",
   "metadata": {},
   "outputs": [
    {
     "data": {
      "text/plain": [
       "['Flo']"
      ]
     },
     "execution_count": 84,
     "metadata": {},
     "output_type": "execute_result"
    }
   ],
   "source": [
    "launch_shifoumi()"
   ]
  }
 ],
 "metadata": {
  "kernelspec": {
   "display_name": "Python 3.8.12 64-bit ('shims')",
   "language": "python",
   "name": "python3"
  },
  "language_info": {
   "codemirror_mode": {
    "name": "ipython",
    "version": 3
   },
   "file_extension": ".py",
   "mimetype": "text/x-python",
   "name": "python",
   "nbconvert_exporter": "python",
   "pygments_lexer": "ipython3",
   "version": "3.8.12"
  },
  "toc": {
   "base_numbering": 1,
   "nav_menu": {},
   "number_sections": true,
   "sideBar": true,
   "skip_h1_title": false,
   "title_cell": "Table of Contents",
   "title_sidebar": "Contents",
   "toc_cell": false,
   "toc_position": {},
   "toc_section_display": true,
   "toc_window_display": false
  },
  "vscode": {
   "interpreter": {
    "hash": "e588d92b224e11b16adbbadd39936dea13a6488171770263a646fc57f44563d8"
   }
  }
 },
 "nbformat": 4,
 "nbformat_minor": 5
}
