{
 "cells": [
  {
   "cell_type": "markdown",
   "metadata": {},
   "source": [
    "## Exo 1"
   ]
  },
  {
   "cell_type": "code",
   "execution_count": 18,
   "metadata": {},
   "outputs": [
    {
     "name": "stdout",
     "output_type": "stream",
     "text": [
      "question 0 - yes\n",
      "question 1 - yes\n",
      "question 2 - no\n",
      "question 3 - yes\n"
     ]
    }
   ],
   "source": [
    "game_answers = [ \"yes\",  \"yes\", \"no\", \"yes\" ]\n",
    "\n",
    "for i in range(4) : print(f'question {i} - {game_answers[i]}')"
   ]
  },
  {
   "cell_type": "markdown",
   "metadata": {},
   "source": []
  },
  {
   "cell_type": "markdown",
   "metadata": {},
   "source": [
    "## Exo 2"
   ]
  },
  {
   "cell_type": "code",
   "execution_count": 19,
   "metadata": {},
   "outputs": [
    {
     "name": "stdout",
     "output_type": "stream",
     "text": [
      "question 0 - yes\n",
      "question 1 - yes\n",
      "question 3 - yes\n"
     ]
    }
   ],
   "source": [
    "for i in range(4):\n",
    "    if game_answers[i] == 'yes': print(f'question {i} - {game_answers[i]}')"
   ]
  },
  {
   "cell_type": "markdown",
   "metadata": {},
   "source": [
    "## Exo 3"
   ]
  },
  {
   "cell_type": "code",
   "execution_count": 20,
   "metadata": {},
   "outputs": [
    {
     "name": "stdout",
     "output_type": "stream",
     "text": [
      "3\n"
     ]
    }
   ],
   "source": [
    "nb = 0\n",
    "for answer in game_answers: \n",
    "    if answer == 'yes': nb += 1\n",
    "\n",
    "print(nb)"
   ]
  },
  {
   "cell_type": "markdown",
   "metadata": {},
   "source": [
    "## Exo 4 Annexe"
   ]
  },
  {
   "cell_type": "code",
   "execution_count": 21,
   "metadata": {},
   "outputs": [
    {
     "name": "stdout",
     "output_type": "stream",
     "text": [
      "Le légume nommé Carotte est de couleur Orange\n",
      "Le légume nommé Poireau est de couleur Blanche\n",
      "Le légume nommé Courgette est de couleur Verte\n"
     ]
    }
   ],
   "source": [
    "vegetables = [\"Carotte\", \"Poireau\", \"Courgette\"]\n",
    "colors = [\"Orange\", \"Blanche\", \"Verte\"]\n",
    "\n",
    "for i in range(3): print(f'Le légume nommé {vegetables[i]} est de couleur {colors[i]}')"
   ]
  },
  {
   "cell_type": "markdown",
   "metadata": {},
   "source": [
    "## Exo 4"
   ]
  },
  {
   "cell_type": "code",
   "execution_count": 22,
   "metadata": {},
   "outputs": [
    {
     "name": "stdout",
     "output_type": "stream",
     "text": [
      "Game | Pauline\n",
      "yes | yes\n",
      "yes | yes\n",
      "no | no\n",
      "yes | no\n"
     ]
    }
   ],
   "source": [
    "game_answers = [ \"yes\",  \"yes\", \"no\", \"yes\" ]\n",
    "pauline_answers = [ \"yes\",  \"yes\", \"no\", \"no\" ]\n",
    "\n",
    "print('Game | Pauline')\n",
    "for i in range(4): print(game_answers[i], '|', pauline_answers[i])"
   ]
  },
  {
   "cell_type": "markdown",
   "metadata": {},
   "source": [
    "## Exo 5"
   ]
  },
  {
   "cell_type": "code",
   "execution_count": 23,
   "metadata": {},
   "outputs": [
    {
     "name": "stdout",
     "output_type": "stream",
     "text": [
      "Game | Pauline\n",
      "yes | yes\n",
      "yes | yes\n",
      "no | no\n"
     ]
    }
   ],
   "source": [
    "print('Game | Pauline')\n",
    "for i in range(4): \n",
    "    if game_answers[i] == pauline_answers[i]: print(game_answers[i], '|', pauline_answers[i])"
   ]
  },
  {
   "cell_type": "markdown",
   "metadata": {},
   "source": [
    "## Exo 6"
   ]
  },
  {
   "cell_type": "code",
   "execution_count": 24,
   "metadata": {},
   "outputs": [
    {
     "name": "stdout",
     "output_type": "stream",
     "text": [
      "3\n"
     ]
    }
   ],
   "source": [
    "nb = 0\n",
    "for i in range(4): \n",
    "    if game_answers[i] == pauline_answers[i]: nb += 1\n",
    "\n",
    "print(nb)"
   ]
  },
  {
   "cell_type": "markdown",
   "metadata": {},
   "source": [
    "## Exo 7"
   ]
  },
  {
   "cell_type": "code",
   "execution_count": 25,
   "metadata": {},
   "outputs": [
    {
     "name": "stdout",
     "output_type": "stream",
     "text": [
      "3\n"
     ]
    }
   ],
   "source": [
    "def evaluate_matching_between(game_answers, student_answers):\n",
    "    nb = 0\n",
    "    for i in range(4): \n",
    "        if game_answers[i] == pauline_answers[i]: nb += 1\n",
    "    return nb\n",
    "\n",
    "print(evaluate_matching_between(game_answers, pauline_answers))"
   ]
  }
 ],
 "metadata": {
  "kernelspec": {
   "display_name": "Python 3.8.12 64-bit ('shims')",
   "language": "python",
   "name": "python3"
  },
  "language_info": {
   "codemirror_mode": {
    "name": "ipython",
    "version": 3
   },
   "file_extension": ".py",
   "mimetype": "text/x-python",
   "name": "python",
   "nbconvert_exporter": "python",
   "pygments_lexer": "ipython3",
   "version": "3.8.12"
  },
  "orig_nbformat": 4,
  "vscode": {
   "interpreter": {
    "hash": "e588d92b224e11b16adbbadd39936dea13a6488171770263a646fc57f44563d8"
   }
  }
 },
 "nbformat": 4,
 "nbformat_minor": 2
}
