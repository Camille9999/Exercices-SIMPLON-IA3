{
 "cells": [
  {
   "cell_type": "markdown",
   "id": "271f13a1",
   "metadata": {},
   "source": [
    "<h1 style=\"text-align: center\">\n",
    "    Concevoir un logiciel de distributeur de cannette. \n",
    "</h1>\n",
    "\n",
    "\n",
    "**Le distributeur**\n",
    "* Le distributeur contient 100 cannettes.\n",
    "* Le distributeur contient 11,50 €.\n",
    "* Une cannette vaut 1,50 €.\n",
    "\n",
    "<hr>\n",
    "\n",
    "**Le consommateur**\n",
    "* Un consommateur peut acheter une cannette. Le stock diminue de 1. La trésorerie est également modifiée.\n",
    "* Le distributeur peut rendre la monnaie.\n",
    "\n",
    "<hr>\n",
    "\n",
    "**Le technicien**\n",
    "* Le technicien doit s’authentifier.\n",
    "* Le technicien peut afficher l’état du stock et de la trésorerie.\n",
    "* Le technicien peut ajouter des cannettes.\n",
    "* Le technicien peut vider la caisse.\n",
    "\n",
    "==> Persister la donnée dans un `csv` par exemple, et remodifier le code déjà effectué pour gérer la mécanique de sérialisation et de deserialisation :\n",
    "\n",
    "<img src=\"images/serialisation.png\" alt=\"schema sur la sérialisation et déserialisation\">"
   ]
  },
  {
   "cell_type": "code",
   "execution_count": 97,
   "id": "24d2e429",
   "metadata": {},
   "outputs": [],
   "source": [
    "class Machine:\n",
    "    def __init__(self, stock, wallet, price, password='admin'):\n",
    "        self.stock = stock\n",
    "        self.wallet = wallet\n",
    "        self.price = price\n",
    "        self.password = password\n",
    "    \n",
    "    def process_order(self, balance):\n",
    "        self.wallet += 1.5\n",
    "        self.stock -= 1\n",
    "        if balance - 1.5: print(f'Voici votre monnaie : {balance-1.5:,.2f}€')\n",
    "        print('Profitez de votre boisson !')\n",
    "        \n",
    "    def authentication(self):\n",
    "        for i in range(2, -1, -1):\n",
    "            attempt = input('Veuillez entrer le mot-de-passe :')\n",
    "            if attempt == self.password:\n",
    "                print('Authentication réussie')\n",
    "                return True\n",
    "            if i == 0:\n",
    "                print('Trop de tentatives, le mode technicien a été temporairement bloqué.')\n",
    "                return False\n",
    "            print(f'Mauvais mot-de-passe, il vous reste {i} essais')\n",
    "    \n",
    "    def display(self):\n",
    "        print(f'Stock : {self.stock} cannettes\\nTrésorerie : {self.wallet:,.2f}€')\n",
    "    \n",
    "    def add_cans(self):\n",
    "        amount = int(input('Combien de cannettes souhaitez-vous ajouter ?'))\n",
    "        self.stock += amount\n",
    "        \n",
    "    def withdraw(self):\n",
    "        print(f'Vous avez retiré {self.wallet:,.2f}€')\n",
    "        self.wallet = 0"
   ]
  },
  {
   "cell_type": "code",
   "execution_count": 98,
   "id": "d396b258",
   "metadata": {},
   "outputs": [],
   "source": [
    "class User:\n",
    "    \n",
    "    def consumer_mode(dist):\n",
    "        if dist.stock == 0: return 'Cet article est en rupture de stock, nous vous présentons nos excuse pour toute gène occasionnée.'\n",
    "        balance = float(input('Quel montant souhaitez-vous insérer ?'))\n",
    "        if balance < 1.5:\n",
    "            balance += float(input(f'Une cannette coute 1,50€, veuillez insérez {1.5-balance:,.2f}€ de plus'))\n",
    "            if balance < 1.5: return f'Montant insufisant, voici votre monnaie : {balance:,.2f}€'\n",
    "        return Machine.process_order(dist, balance)\n",
    "    \n",
    "    def technician_mode(dist):\n",
    "        if Machine.authentication(dist):\n",
    "            while True:\n",
    "                action = int(input(\"Pour affichez l'état du stock et de la trésorerie tapez 1\\nPour réapprovisionner le distributeur tapez 2\\nPour vider la caisse tapez 3\"))\n",
    "                if action == 1: Machine.display(dist)\n",
    "                elif action == 2: Machine.add_cans(dist)\n",
    "                elif action == 3: Machine.withdraw(dist)\n",
    "                else: print('Entrée inconnue')\n",
    "                status = input('Avez-vous terminé ? (Y/n)')\n",
    "                if status == 'n': continue\n",
    "                break"
   ]
  },
  {
   "cell_type": "code",
   "execution_count": 99,
   "id": "41244329",
   "metadata": {},
   "outputs": [],
   "source": [
    "dist = Machine(100, 11.5, 1.5)"
   ]
  },
  {
   "cell_type": "code",
   "execution_count": 100,
   "id": "c43508c9",
   "metadata": {},
   "outputs": [],
   "source": [
    "#User.consumer_mode(dist)\n",
    "#User.technician_mode(dist)"
   ]
  }
 ],
 "metadata": {
  "hide_input": false,
  "kernelspec": {
   "display_name": "Python 3.8.12 64-bit ('shims')",
   "language": "python",
   "name": "python3"
  },
  "language_info": {
   "codemirror_mode": {
    "name": "ipython",
    "version": 3
   },
   "file_extension": ".py",
   "mimetype": "text/x-python",
   "name": "python",
   "nbconvert_exporter": "python",
   "pygments_lexer": "ipython3",
   "version": "3.8.12"
  },
  "vscode": {
   "interpreter": {
    "hash": "e588d92b224e11b16adbbadd39936dea13a6488171770263a646fc57f44563d8"
   }
  }
 },
 "nbformat": 4,
 "nbformat_minor": 5
}
