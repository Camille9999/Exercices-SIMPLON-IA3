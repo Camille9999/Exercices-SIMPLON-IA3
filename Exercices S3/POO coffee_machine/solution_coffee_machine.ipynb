{
 "cells": [
  {
   "cell_type": "markdown",
   "id": "86fa86dc",
   "metadata": {},
   "source": [
    "<h1 style=\"text-align: center\">\n",
    "    Concevoir un logiciel de distributeur de cannette. \n",
    "</h1>\n",
    "\n",
    "\n",
    "**Le distributeur**\n",
    "* Le distributeur contient 100 cannettes.\n",
    "* Le distributeur contient 11,50 €.\n",
    "* Une cannette vaut 1,50 €.\n",
    "\n",
    "<hr>\n",
    "\n",
    "**Le consommateur**\n",
    "* Un consommateur peut acheter une cannette. Le stock diminue de 1. La trésorerie est également modifiée.\n",
    "* Le distributeur peut rendre la monnaie.\n",
    "\n",
    "<hr>\n",
    "\n",
    "**Le technicien**\n",
    "* Le technicien doit s’authentifier.\n",
    "* Le technicien peut afficher l’état du stock et de la trésorerie.\n",
    "* Le technicien peut ajouter des cannettes.\n",
    "* Le technicien peut vider la caisse.\n",
    "\n",
    "==> Persister la donnée dans un `csv` par exemple, et remodifier le code déjà effectué pour gérer la mécanique de sérialisation et de deserialisation :\n",
    "\n",
    "\n",
    "\n",
    "<hr>\n",
    "\n",
    "**Ajouter les fonctionnalités suivantes** : \n",
    "\n",
    "\n",
    "* Le distributeur contient des cannettes et des cacahuettes.\n",
    "* En tant que consommateur je peux acheter des cannettes `ou` des cacahuettes.\n",
    "* En tant que consommateur, je peux ajouter plusieurs pièces pour acheter une cannette. Exemple Une pièce de 1 € + une pièce de 0.5€ pour avoir le compte.\n",
    "\n"
   ]
  },
  {
   "cell_type": "code",
   "execution_count": null,
   "id": "c04eef97",
   "metadata": {
    "ExecuteTime": {
     "end_time": "2022-10-13T14:17:38.036308Z",
     "start_time": "2022-10-13T14:17:38.010011Z"
    }
   },
   "outputs": [],
   "source": [
    "import os\n",
    "from termcolor import colored, cprint\n",
    "\n",
    "# https://pypi.org/project/termcolor/ \n",
    "\n",
    "class Machine():\n",
    "    \n",
    "    def __init__(self, password = 'azerty'):\n",
    "        self.stock = 100\n",
    "        self.cash = 11.5\n",
    "        self.item_1 = 1.5\n",
    "        self.password = password\n",
    "        \n",
    "    def stock_down(self,qantity):\n",
    "        self.stock = self.stock - qantity\n",
    "        return self.stock\n",
    "    \n",
    "    def stock_up(self,qantity):\n",
    "        self.stock = self.stock + qantity\n",
    "        return self.stock\n",
    "    \n",
    "    def cash_down(self, coin, technicien = False):\n",
    "        if technicien:\n",
    "            self.cash_down_technicien(coin)\n",
    "        else:\n",
    "            self.cash = self.cash - coin\n",
    "        return self.cash\n",
    "\n",
    "    def cash_up(self,coin):\n",
    "        self.cash = self.cash + coin\n",
    "        return self.cash\n",
    "\n",
    "    def cash_back(self,coin):\n",
    "        self.cash_down(coin - self.item_1)\n",
    "        return coin - self.item_1\n",
    "    \n",
    "    def bad_amount(self,coin):\n",
    "        return coin < self.item_1\n",
    "    \n",
    "    def bad_stock(self,qantity):\n",
    "        return qantity > self.stock\n",
    "    \n",
    "            \n",
    "    \n",
    "    def buy(self,qantity,coin):\n",
    "        if (self.bad_amount(coin) or self.bad_stock(qantity)):\n",
    "            return f\"{self.build_sentence(qantity)}\"\n",
    "        else: \n",
    "            self.stock_down(qantity)\n",
    "            self.cash_up(coin)\n",
    "            \n",
    "            return Machine.error_or_valid_message(sentence=f\"Rendu monnaie 💰: {self.cash_back(coin)} €\", error=False)\n",
    "        \n",
    "    def display_menu(self):\n",
    "        coin = input(\"Mets ta pièce\\n\")\n",
    "        coin = float(coin)\n",
    "        #quantity = float(input(\"Combien de cannette ?  > \"))\n",
    "        self.buy(1,coin)\n",
    "        return None\n",
    "            \n",
    "\n",
    "    def check(self):\n",
    "        if self.verify_password():\n",
    "            for variable_instance, value in machine.__dict__.items():\n",
    "                    print(f\"{variable_instance} : {value}\")\n",
    "        else:\n",
    "            return Machine.error_or_valid_message(sentence='Mot de passe invalide')\n",
    "        \n",
    "    def cash_down_technicien(self,coin):\n",
    "        \n",
    "        if self.verify_password():\n",
    "            if self.cash > coin:\n",
    "                self.cash = self.cash - coin\n",
    "                return self.cash\n",
    "            else:\n",
    "                return Machine.error_or_valid_message(sentence=f\"Erreur : Vous demandez {coin} € alors qu'il y a {self.cash} € en trésorie ! \")\n",
    "        else:\n",
    "            return Machine.error_or_valid_message(sentence='Mot de passe invalide')\n",
    "        \n",
    "    def verify_password(self):\n",
    "        input_password = input(\"Entrez un mot de passe > \")\n",
    "        return self.password == input_password\n",
    "    \n",
    "    \n",
    "    def build_sentence(self,qantity):\n",
    "        if self.bad_stock(qantity):\n",
    "            Machine.error_or_valid_message(sentence=f\"Arsouille ! Tu as trop picolé ! Il n'y a plus de stock !\")\n",
    "            return None\n",
    "        else:\n",
    "            #Pour mac : \n",
    "            #return f\"Rentre chez toi, voyou {os.system('say VOYOU !')}\"\n",
    "            Machine.error_or_valid_message(sentence=f\"Pas assez d'argent. Rentre chez toi, VOYOU !\")\n",
    "            return None\n",
    "        \n",
    "    @classmethod\n",
    "    def error_or_valid_message(cls,sentence='', error=True):\n",
    "        if error:\n",
    "            color = 'red'\n",
    "        else:\n",
    "            color = 'green'\n",
    "        cprint(sentence, color, attrs=[\"reverse\", \"blink\"])\n",
    "        "
   ]
  },
  {
   "cell_type": "code",
   "execution_count": null,
   "id": "77189934",
   "metadata": {
    "ExecuteTime": {
     "end_time": "2022-10-12T13:45:52.716372Z",
     "start_time": "2022-10-12T13:45:52.709495Z"
    }
   },
   "outputs": [],
   "source": []
  },
  {
   "cell_type": "code",
   "execution_count": null,
   "id": "0d0957e5",
   "metadata": {
    "ExecuteTime": {
     "end_time": "2022-10-12T13:46:31.195560Z",
     "start_time": "2022-10-12T13:46:31.184942Z"
    }
   },
   "outputs": [],
   "source": []
  },
  {
   "cell_type": "code",
   "execution_count": null,
   "id": "1d8050d5",
   "metadata": {
    "ExecuteTime": {
     "end_time": "2022-10-13T14:17:41.540896Z",
     "start_time": "2022-10-13T14:17:38.039066Z"
    }
   },
   "outputs": [],
   "source": [
    "machine = Machine()\n",
    "machine.display_menu()"
   ]
  },
  {
   "cell_type": "code",
   "execution_count": null,
   "id": "e3c694d5",
   "metadata": {
    "ExecuteTime": {
     "end_time": "2022-10-13T14:17:41.581410Z",
     "start_time": "2022-10-13T14:17:41.549348Z"
    }
   },
   "outputs": [],
   "source": [
    "display(machine.stock)\n",
    "\n",
    "display(machine.cash)\n",
    "\n",
    "display(machine.password)"
   ]
  },
  {
   "cell_type": "code",
   "execution_count": null,
   "id": "e2d2b28b",
   "metadata": {
    "ExecuteTime": {
     "start_time": "2022-10-13T14:17:37.990Z"
    }
   },
   "outputs": [],
   "source": [
    "machine.display_menu()"
   ]
  },
  {
   "cell_type": "code",
   "execution_count": null,
   "id": "53b5ace7",
   "metadata": {
    "ExecuteTime": {
     "start_time": "2022-10-13T14:17:37.991Z"
    }
   },
   "outputs": [],
   "source": [
    "machine.stock"
   ]
  },
  {
   "cell_type": "code",
   "execution_count": null,
   "id": "56da0670",
   "metadata": {
    "ExecuteTime": {
     "start_time": "2022-10-13T14:17:37.993Z"
    }
   },
   "outputs": [],
   "source": [
    "machine.cash"
   ]
  },
  {
   "cell_type": "code",
   "execution_count": null,
   "id": "2411fa35",
   "metadata": {
    "ExecuteTime": {
     "start_time": "2022-10-13T14:17:37.994Z"
    }
   },
   "outputs": [],
   "source": [
    "machine.stock_up(1)"
   ]
  },
  {
   "cell_type": "code",
   "execution_count": null,
   "id": "9edcbfdd",
   "metadata": {
    "ExecuteTime": {
     "start_time": "2022-10-13T14:17:37.996Z"
    }
   },
   "outputs": [],
   "source": [
    "machine.stock"
   ]
  },
  {
   "cell_type": "code",
   "execution_count": null,
   "id": "1511f41e",
   "metadata": {
    "ExecuteTime": {
     "start_time": "2022-10-13T14:17:37.997Z"
    }
   },
   "outputs": [],
   "source": [
    "machine.check()"
   ]
  },
  {
   "cell_type": "code",
   "execution_count": null,
   "id": "0db5166d",
   "metadata": {
    "ExecuteTime": {
     "start_time": "2022-10-13T14:17:37.998Z"
    }
   },
   "outputs": [],
   "source": [
    "machine.cash_down(10, technicien = True)"
   ]
  },
  {
   "cell_type": "code",
   "execution_count": null,
   "id": "d0c46b39",
   "metadata": {},
   "outputs": [],
   "source": []
  },
  {
   "cell_type": "code",
   "execution_count": null,
   "id": "66b2572f",
   "metadata": {
    "ExecuteTime": {
     "start_time": "2022-10-13T14:17:38.000Z"
    }
   },
   "outputs": [],
   "source": [
    "machine.check()"
   ]
  },
  {
   "cell_type": "code",
   "execution_count": null,
   "id": "55d77645",
   "metadata": {},
   "outputs": [],
   "source": []
  },
  {
   "cell_type": "code",
   "execution_count": null,
   "id": "e8e693d9",
   "metadata": {},
   "outputs": [],
   "source": []
  }
 ],
 "metadata": {
  "hide_input": false,
  "kernelspec": {
   "display_name": "Python 3.8.12 64-bit ('shims')",
   "language": "python",
   "name": "python3"
  },
  "language_info": {
   "codemirror_mode": {
    "name": "ipython",
    "version": 3
   },
   "file_extension": ".py",
   "mimetype": "text/x-python",
   "name": "python",
   "nbconvert_exporter": "python",
   "pygments_lexer": "ipython3",
   "version": "3.8.12"
  },
  "toc": {
   "base_numbering": 1,
   "nav_menu": {},
   "number_sections": true,
   "sideBar": true,
   "skip_h1_title": false,
   "title_cell": "Table of Contents",
   "title_sidebar": "Contents",
   "toc_cell": false,
   "toc_position": {},
   "toc_section_display": true,
   "toc_window_display": false
  },
  "vscode": {
   "interpreter": {
    "hash": "e588d92b224e11b16adbbadd39936dea13a6488171770263a646fc57f44563d8"
   }
  }
 },
 "nbformat": 4,
 "nbformat_minor": 5
}
