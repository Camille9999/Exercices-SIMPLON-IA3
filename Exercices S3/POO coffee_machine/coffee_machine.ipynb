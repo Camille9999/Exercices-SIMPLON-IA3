{
 "cells": [
  {
   "cell_type": "markdown",
   "metadata": {},
   "source": [
    "<h1 style=\"text-align: center\">\n",
    "    Concevoir un logiciel de distributeur de cannette. \n",
    "</h1>\n",
    "\n",
    "\n",
    "**Le distributeur**\n",
    "* Le distributeur contient 100 cannettes.\n",
    "* Le distributeur contient 11,50 €.\n",
    "* Une cannette vaut 1,50 €.\n",
    "\n",
    "<hr>\n",
    "\n",
    "**Le consommateur**\n",
    "* Un consommateur peut acheter une cannette. Le stock diminue de 1. La trésorerie est également modifiée.\n",
    "* Le distributeur peut rendre la monnaie.\n",
    "\n",
    "<hr>\n",
    "\n",
    "**Le technicien**\n",
    "* Le technicien doit s’authentifier.\n",
    "* Le technicien peut afficher l’état du stock et de la trésorerie.\n",
    "* Le technicien peut ajouter des cannettes.\n",
    "* Le technicien peut vider la caisse."
   ]
  },
  {
   "cell_type": "code",
   "execution_count": 2,
   "metadata": {},
   "outputs": [],
   "source": [
    "import pandas as pd"
   ]
  },
  {
   "cell_type": "code",
   "execution_count": 7,
   "metadata": {},
   "outputs": [],
   "source": [
    "class Distributeur():\n",
    "    \n",
    "    def __init__(self, stock=100, wallet=11.5, price=1.5, password='admin'):\n",
    "        self.stock = stock\n",
    "        self.wallet = wallet\n",
    "        self.price = price\n",
    "        self.password = password\n",
    "        pd.DataFrame({'stock' : [stock], 'wallet' : [wallet], 'price' : [price], 'password' : [password]}).to_csv(f'{self}.csv')\n",
    "    \n",
    "    def update_csv(self): pd.DataFrame({'stock' : [self.stock], 'wallet' : [self.wallet], 'price' : [self.price], 'password' : [self.password]}).to_csv(f'{self}.csv')\n",
    "    \n",
    "    # Consommateur\n",
    "    \n",
    "    def pay(self, amount):\n",
    "        self.wallet += 1.5\n",
    "        if amount > 1.5: \n",
    "            print(f'Voici votre monnaie : {amount-1.5} €')\n",
    "            self.update_csv()\n",
    "            return amount-1.5\n",
    "    \n",
    "    def distribute(self):\n",
    "        self.stock -= 1\n",
    "        print(f'Voici votre boisson')\n",
    "        self.update_csv()\n",
    "        return 1\n",
    "    \n",
    "    def buy(self):\n",
    "        if self.stock < 1:\n",
    "            print('Désolé, ce distributeur est en rupture de stock.')\n",
    "            return None\n",
    "        amount = float(input('Insérez votre monnaie :'))\n",
    "        if amount < 1.5:\n",
    "            print(f'Montant insuffisent, voici votre monnaie : {amount} €')\n",
    "            return amount\n",
    "        self.update_csv()\n",
    "        return self.distribute(), self.pay(amount)\n",
    "    \n",
    "    \n",
    "    # Technicien\n",
    "    \n",
    "    def authenticate(self):\n",
    "        attempt = input('Entrez le mot de passe :')\n",
    "        if attempt == self.password: return True\n",
    "        print('Mot de passe incorrect')\n",
    "        return False\n",
    "    \n",
    "    def display(self):\n",
    "        if self.authenticate():\n",
    "            print(f'Stock : {self.stock} cannette(s)')\n",
    "            print(f'Trésorerie : {self.wallet} €')\n",
    "    \n",
    "    def restock(self):\n",
    "        if self.authenticate():\n",
    "            amount = float(input('Combien de cannettes souhaitez-vous ajouter ?'))\n",
    "            self.stock += amount\n",
    "            self.update_csv()\n",
    "    \n",
    "    def cash_out(self):\n",
    "        if self.authenticate():\n",
    "            amount = float(input('Combien souhaitez-vous retirer ?'))\n",
    "            self.wallet -= min(amount, self.wallet)\n",
    "            self.update_csv()\n",
    "            return amount"
   ]
  },
  {
   "cell_type": "code",
   "execution_count": 8,
   "metadata": {},
   "outputs": [],
   "source": [
    "dist = Distributeur()"
   ]
  },
  {
   "cell_type": "code",
   "execution_count": null,
   "metadata": {},
   "outputs": [],
   "source": [
    "dist.buy()"
   ]
  },
  {
   "cell_type": "code",
   "execution_count": null,
   "metadata": {},
   "outputs": [],
   "source": [
    "dist.display()"
   ]
  },
  {
   "cell_type": "code",
   "execution_count": null,
   "metadata": {},
   "outputs": [],
   "source": [
    "dist.restock()"
   ]
  },
  {
   "cell_type": "code",
   "execution_count": null,
   "metadata": {},
   "outputs": [],
   "source": [
    "dist.cash_out()"
   ]
  }
 ],
 "metadata": {
  "kernelspec": {
   "display_name": "Python 3.8.12 64-bit ('shims')",
   "language": "python",
   "name": "python3"
  },
  "language_info": {
   "codemirror_mode": {
    "name": "ipython",
    "version": 3
   },
   "file_extension": ".py",
   "mimetype": "text/x-python",
   "name": "python",
   "nbconvert_exporter": "python",
   "pygments_lexer": "ipython3",
   "version": "3.8.12"
  },
  "orig_nbformat": 4,
  "vscode": {
   "interpreter": {
    "hash": "e588d92b224e11b16adbbadd39936dea13a6488171770263a646fc57f44563d8"
   }
  }
 },
 "nbformat": 4,
 "nbformat_minor": 2
}
