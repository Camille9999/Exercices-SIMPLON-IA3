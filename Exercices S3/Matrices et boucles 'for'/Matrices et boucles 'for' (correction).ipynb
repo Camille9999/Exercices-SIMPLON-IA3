{
 "cells": [
  {
   "cell_type": "markdown",
   "metadata": {},
   "source": [
    "# Matrices et boucles 'for'"
   ]
  },
  {
   "cell_type": "markdown",
   "metadata": {},
   "source": [
    "## *Qu'est-ce qu'une matrice ?*\n",
    "### Une matrice est un arrangement ordonné d'un ensemble d'éléments sous forme d'un tableau à double entrée comportant dans le cas général n ligne et m colonnes (où n et m sont des entiers naturels)."
   ]
  },
  {
   "cell_type": "markdown",
   "metadata": {},
   "source": [
    "## *Voici une matrice de taille m * n :*"
   ]
  },
  {
   "cell_type": "markdown",
   "metadata": {},
   "source": [
    "# [a(1,1) ; a(1,2) ; ... ; a(1,m-1) ; a(1,m)]\n",
    "# [&ensp;...&emsp;...&emsp;...&emsp;...&emsp;...&emsp;...&emsp;...&emsp;...&emsp;...&ensp;]\n",
    "# [a(n,1) ; a(n,2) ; ... ; a(n,m-1) ; a(n,m)]"
   ]
  },
  {
   "cell_type": "code",
   "execution_count": 11,
   "metadata": {},
   "outputs": [],
   "source": [
    "dictionnaire = {\n",
    "    0 : ' ',\n",
    "    1 : 'une',\n",
    "    2 : 'matrice',\n",
    "    3 : 'Ceci',\n",
    "    4 : '!',\n",
    "    5 : 'est'}"
   ]
  },
  {
   "cell_type": "markdown",
   "metadata": {},
   "source": [
    "### Voici une matrice carrée 3*3 :"
   ]
  },
  {
   "cell_type": "code",
   "execution_count": 12,
   "metadata": {},
   "outputs": [],
   "source": [
    "matrice_3x3 =  [[3, 0, 5],\n",
    "                [0, 1, 0],\n",
    "                [2, 0, 4]]"
   ]
  },
  {
   "cell_type": "markdown",
   "metadata": {},
   "source": [
    "### A l'aide du dictionnaire et en utilisant des boucles 'for' imbriquées, remplacez les valeurs de la matrice par la chaîne de caractères correspondante."
   ]
  },
  {
   "cell_type": "code",
   "execution_count": 13,
   "metadata": {},
   "outputs": [
    {
     "name": "stdout",
     "output_type": "stream",
     "text": [
      "[['Ceci', ' ', 'est'], [' ', 'une', ' '], ['matrice', ' ', '!']]\n"
     ]
    }
   ],
   "source": [
    "for row in range(3):\n",
    "    for column in range(3):\n",
    "        matrice_3x3[row][column] = dictionnaire[matrice_3x3[row][column]]\n",
    "\n",
    "print(matrice_3x3)"
   ]
  },
  {
   "cell_type": "markdown",
   "metadata": {},
   "source": [
    "### A partir de la matrice modifiée affichez la phrase en une ligne."
   ]
  },
  {
   "cell_type": "code",
   "execution_count": 14,
   "metadata": {},
   "outputs": [
    {
     "name": "stdout",
     "output_type": "stream",
     "text": [
      "Ceci est une matrice !\n"
     ]
    }
   ],
   "source": [
    "phrase = ''\n",
    "for row in matrice_3x3:\n",
    "    for string in row:\n",
    "        phrase += string\n",
    "\n",
    "print(phrase)"
   ]
  },
  {
   "cell_type": "markdown",
   "metadata": {},
   "source": [
    "### Cette fois, la matrice est sous forme de chaîne de caractères (string en anglais). Transformez la pour qu'elle prenne la forme de la matrice initiale."
   ]
  },
  {
   "cell_type": "code",
   "execution_count": 15,
   "metadata": {},
   "outputs": [],
   "source": [
    "matrice_str = '''123\n",
    "456\n",
    "789'''"
   ]
  },
  {
   "cell_type": "markdown",
   "metadata": {},
   "source": [
    "*Indice 1 : vous pouvez essayer de convertir la matrice en liste avec la fonction* list() *afin de voir de quoi elle est constituée*\n",
    "\n",
    "##### *Points bonus : Utilisez l'incrémentation* (voir Quentin pour votre récompense)"
   ]
  },
  {
   "cell_type": "code",
   "execution_count": 16,
   "metadata": {},
   "outputs": [
    {
     "name": "stdout",
     "output_type": "stream",
     "text": [
      "[1, 2, 3]\n",
      "[4, 5, 6]\n",
      "[7, 8, 9]\n"
     ]
    }
   ],
   "source": [
    "matrice = [[]]\n",
    "row = 0\n",
    "for char in matrice_str:\n",
    "    if char != '\\n':\n",
    "        matrice[row].append(int(char))\n",
    "    else:\n",
    "        matrice.append([])\n",
    "        row += 1\n",
    "\n",
    "for row in matrice:\n",
    "    print(row)"
   ]
  }
 ],
 "metadata": {
  "kernelspec": {
   "display_name": "Python 3.10.5 64-bit",
   "language": "python",
   "name": "python3"
  },
  "language_info": {
   "codemirror_mode": {
    "name": "ipython",
    "version": 3
   },
   "file_extension": ".py",
   "mimetype": "text/x-python",
   "name": "python",
   "nbconvert_exporter": "python",
   "pygments_lexer": "ipython3",
   "version": "3.10.5"
  },
  "orig_nbformat": 4,
  "vscode": {
   "interpreter": {
    "hash": "680909a85cd0f96ba1c50ae49c7276dc4874e63b5fd1d1624a0b59680dc2cd74"
   }
  }
 },
 "nbformat": 4,
 "nbformat_minor": 2
}
