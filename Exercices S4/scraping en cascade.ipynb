{
 "cells": [
  {
   "cell_type": "markdown",
   "metadata": {},
   "source": [
    "# Scraping en cascade\n",
    "- Scraper la page suivante: https://www.charlesbordet.com/fr/blog/\n",
    "- Récupérer la liste des articles\n",
    "- Pour chaque articles retrouver l'url vers la page dédiée à cet article (par exemple pour le 1er article l'adresse est : https://www.charlesbordet.com/fr/reactive-shiny/)\n",
    "- Une fois arrivé sur cette page récupérer le sommaire\n",
    "- Produire une liste d'articles comprenant \n",
    "    - Le titre\n",
    "    - La description\n",
    "    - Le tps de lecture\n",
    "    - (Et surtout) le sommaire"
   ]
  },
  {
   "cell_type": "code",
   "execution_count": 27,
   "metadata": {},
   "outputs": [],
   "source": [
    "from bs4 import BeautifulSoup\n",
    "import requests"
   ]
  },
  {
   "cell_type": "code",
   "execution_count": 23,
   "metadata": {},
   "outputs": [],
   "source": [
    "# Récupération de la liste des articles sous forme d'une liste de liens\n",
    "\n",
    "page = requests.get('https://www.charlesbordet.com/fr/blog/')\n",
    "soup = BeautifulSoup(page.content, 'html.parser')\n",
    "urls = soup.find_all(class_='archive__item-title')\n",
    "for i in range(len(urls)): urls[i] = 'https://www.charlesbordet.com/fr/' + str(urls[i])[66:].split('\"')[0]"
   ]
  },
  {
   "cell_type": "code",
   "execution_count": 24,
   "metadata": {},
   "outputs": [],
   "source": [
    "# Fonction pour transformer les sommaires en dictionnaires\n",
    "# Pompé de Stack Overflow, à adapter\n",
    "\n",
    "def ul_to_dict(ul):\n",
    "    result = {}\n",
    "    for li in ul.find_all(\"li\", recursive=False):\n",
    "        key = next(li.stripped_strings)\n",
    "        ul = li.find(\"ul\")\n",
    "        if ul: result[key] = ul_to_dict(ul)\n",
    "        else: result[key] = None\n",
    "    return result"
   ]
  },
  {
   "cell_type": "code",
   "execution_count": 25,
   "metadata": {},
   "outputs": [],
   "source": [
    "# Production d'une liste d'articles sous forme de dictionnaires\n",
    "\n",
    "articles = []\n",
    "\n",
    "descriptions = soup.find_all(class_='archive__item-excerpt')\n",
    "for i in range(len(descriptions)): descriptions[i] = descriptions[i].get_text()[:-1]\n",
    "\n",
    "for url in urls:\n",
    "    articles.append(dict())\n",
    "    page = requests.get(url)\n",
    "    soup = BeautifulSoup(page.content, 'html.parser')\n",
    "    articles[-1]['Titre'] = soup.find(class_='titre-article').get_text()\n",
    "    articles[-1]['Description'] = descriptions.pop(0)\n",
    "    articles[-1]['Temps de lecture (minutes)'] = int(soup.find(class_='page__meta').get_text()[8:-20])\n",
    "    articles[-1]['Sommaire'] = ul_to_dict(soup.find(class_='toc__menu'))"
   ]
  },
  {
   "cell_type": "code",
   "execution_count": 26,
   "metadata": {},
   "outputs": [
    {
     "name": "stdout",
     "output_type": "stream",
     "text": [
      "{'C’est quoi la réactivité\\xa0?': None, 'Les fonctions de réactivité\\xa0: req, isolate, etc.': {'La fonction reactive()': None, 'La fonction eventReactive()': None, 'La fonction observe()': None, 'La fonction observeEvent()': None, 'La fonction reactiveValues()': None, 'La fonction isolate()': None, 'La fonction req()': None}, 'Mes petites astuces autour de la réactivité': {'Comment forcer la réactivité avec Sys.time()': None, 'Comment accélérer un calcul avec bindCache': None, 'Comment avoir plusieurs inputs dans un observeEvent': None}, \"Cas d'usage: Dans un shinydashboard\": None, \"Cas d'usage: Les filtres interdépendants\": {'Solution 1\\xa0: Supprimer l’interdépendance': None, 'Solution 2\\xa0: Ajouter un bouton': None, 'Solution 3\\xa0: Filtres emboîtés avec garantie de changement': None, 'Solution 4 : Filtres emboîtés sans garantie de changement': None, 'Solution 5 : Si les filtres sont rapides à calculer': None}} \n",
      "\n",
      "{'Le point de départ': None, 'La solution naïve': None, 'La solution qui marche': None} \n",
      "\n",
      "{'Intro': {'La méthode « galère »': None, 'La méthode « qui marche »': None, \"À quoi s'attendre dans ce guide\\xa0?\": None}, '1. Créer une application Shiny': None, '2. Créer un serveur sur AWS': {'Créer votre compte gratuitement sur AWS': None, 'Créer votre premier serveur sur EC2': None, 'Étape 1\\xa0: Choisir votre AMI': None, \"Étape 2\\xa0: Choisir votre type d'instance\": None, 'Étape 3\\xa0: Choisir votre taille de disque dur': None, 'Étape 4\\xa0: Créez une clé de sécurité': None}, '3. Installer R et R Shiny sur votre nouveau serveur': {'Comment accéder à votre nouveau serveur\\xa0?': None, 'Comment installer Shiny Server\\xa0?': None}, '4. Déployer l’application sur le serveur': {\"1. Comment accéder à l'application Shiny installée par défaut\\xa0?\": None, \"2. Télécharger l'application sur le serveur à partir de Git\": None, '3. Créer un raccourci dans /srv/shiny-server/': None, '4. Comment débugger une appli Shiny à partir des logs': None}, '5. Extra\\xa0: Créer un nom de domaine cool': {'1. Trouver un nom de domaine': None, '2. Paramétrer les DNS': None, '3. Mettre en place un reverse proxy': None}, '6. Extra\\xa0: Sécuriser votre application en HTTPS': {'Le HTTPS, c’est quoi\\xa0?': None, \"Créer un certificat SSL/TLS avec Let's Encrypt\": None, 'Comment installer un certificat SSL/TLS avec nginx': None, 'Comment forcer l’utilisation de HTTPS': None}, '7. Extra\\xa0: Protéger votre application avec un mot de passe.': {'Les choix possibles': None, 'Utiliser nginx comme serveur d’authentification': None, 'Utiliser auth0 comme serveur d’authentification': None, \"Comment créer votre portail d'authentification avec Shiny\": None, 'Comparatif final': None}} \n",
      "\n",
      "{'Tutoriels': {'Le Machine Learning automatique et transparent avec H20 dans R.': None, 'Docker pour la Data Science : R, ShinyProxy et bien plus.': None}, 'Qui était présent ?': {'Cynkra, une société zurichoise de consulting spécialisée dans la gestion des données, avec une forte orientation sur R': None, 'MiraiSolutions, une autre société de consulting basée à Zurich': None, 'Appsilon, une solution complète de consulting en Data Science': None, 'Jumping Rivers, Formation et consulting en Data Science': None, 'ThinkR, Expertise et Formation sur l’environnement R': None}, 'Packages à essayer': {'`shinyEventLogger` : Le Logging dans les applications Shiny': None, '`promises` : Abstractions pour la programmation asynchrone basée sur les promesses': None, \"`future` : L'Unified Parallel et le Distributed Processing dans R pour tous\": None, \"`shinymeta` : Enregistrer et exposer la logique d'une application Shiny en utilisant la métaprogrammation\": None, '`polite` : Soyez sympa sur le web': None, '`SuperLearner` : Prédiction Super Learner': None, '`auth0` : Authentification sécurisée dans Shiny avec Auth0': None}, 'Au final': None} \n",
      "\n",
      "{'1. Tutorials : Apprendre': None, '2. Conférences: Découvrir': None, '3. Les enthousiastes de R : Rencontrer': None} \n",
      "\n",
      "{'De quoi R est capable ?': None, 'Le package bbplot': {'Essayons le package': None, 'Que peut-on apprendre de leur package ?': None}, 'Comment faire un beau graphique avec ggplot2 et bbplot ?': {'Itération 0 - Le point de départ': None, 'Itération 1 - Ajouter un titre': None, 'Itération 2 - Améliorer les libellés des axes': None, 'Itération 3 - Ajouter une ligne de régression': None, 'Itération 4 - Ajouter des couleurs pour chaque groupe': None, 'Iteration 5 - Améliorer la légende de couleur': None, 'Iteration 6 - Faire les choix difficiles': None, 'Iteration 7 - Ajouter des annotations': None}} \n",
      "\n",
      "{'C’est quoi la descente de gradient ?': {'Comment ça marche ?': None, 'Et les maths, dans tout ça ?': None}, 'Les pièges à éviter': {'Comment fixer le taux d’apprentissage ?': None, 'Comment régler le problème du *vanishing gradient* ?': None, 'Comment lutter contre les minima locaux ?': None}, 'Ensuite…': None} \n",
      "\n",
      "{'Pourquoi des fichiers PDF ?': None, 'Deux techniques pour extraire le texte des fichiers PDF': {'Première technique : `pdftools::pdf_text`': None, 'Deuxième technique : Le package `tm`': None}, 'Extraire l’information utile': {'1. Nettoyer les en-têtes et pieds de page': None, '2. Concaténer les deux colonnes ensemble.': None, '3. Trouver les lignes avec les noms des orateurs': None}} \n",
      "\n",
      "{'Présentation de la start-up SaaS': None, 'Étude de la rétention client': {\"L'approche biaisée\": None, \"L'approche que c'est une mauvaise idée\": None, 'La bonne approche avec Messieurs Kaplan et Meier': None, \"D'autres résultats intéressants :\": None, 'Suite ?': None}} \n",
      "\n",
      "{\"À quoi ça sert l'Algèbre Linéaire ?\": None, \"Pourquoi s'y intéresser ?\": None, \"C'est quoi l'algèbre linéaire en fait ?\": None} \n",
      "\n"
     ]
    }
   ],
   "source": [
    "for i in range(len(articles)): print(articles[i]['Sommaire'], '\\n')"
   ]
  }
 ],
 "metadata": {
  "kernelspec": {
   "display_name": "Python 3.8.12 64-bit ('shims')",
   "language": "python",
   "name": "python3"
  },
  "language_info": {
   "codemirror_mode": {
    "name": "ipython",
    "version": 3
   },
   "file_extension": ".py",
   "mimetype": "text/x-python",
   "name": "python",
   "nbconvert_exporter": "python",
   "pygments_lexer": "ipython3",
   "version": "3.8.12"
  },
  "orig_nbformat": 4,
  "vscode": {
   "interpreter": {
    "hash": "e588d92b224e11b16adbbadd39936dea13a6488171770263a646fc57f44563d8"
   }
  }
 },
 "nbformat": 4,
 "nbformat_minor": 2
}
