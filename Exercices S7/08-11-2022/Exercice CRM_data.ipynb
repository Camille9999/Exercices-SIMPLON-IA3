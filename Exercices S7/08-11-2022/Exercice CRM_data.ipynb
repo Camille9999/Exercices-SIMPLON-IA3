{
 "cells": [
  {
   "cell_type": "markdown",
   "metadata": {},
   "source": [
    "CRM_data.csv est un fichier csv qui contient de vraies données CRM d'une entreprise.\n",
    "L'idée de ce sujet est de vérifier si les données sont clean et de produire dans un second temps une analyse des\n",
    "données présents dans le dataset.\n",
    "\n",
    "Contexte:\n",
    "Il s'agit d'un extrait des leads gagnés et perdus sur une période de 3 mois environ.\n",
    "\n",
    "Définitions:\n",
    "- Lead: Un utilisateur qui s'inscrit sur le site de l'entreprise\n",
    "- Taux de conversion: Nombre de Leads gagnés sur nombre de leads inscrits\n",
    "\n",
    "Description des données:\n",
    "- Subscribe date: date d'inscription du lead sur notre site\n",
    "- Stagename: Etape actuelle du dossier client dans la base (Ici on ne garde uniquement les dossiers gagnés ou perdus)\n",
    "- Project type: type de projet d'achat: achat d'une résidence principale, d'une résidence secondaire\n",
    "\t\t    ou bien d'un investissement locatif\n",
    "- Property kind: Type de bien: ancien, nouveau, VEFA, terrain\n",
    "- Source of lead: Canal Marketing source du lead (par exemple pub Google, pub Facebook, partenariat ...)\n",
    "- Amount: Montant du projet (gain si le projet est gagné)\n",
    "- Lost reason: Raison pour laquelle le dossier a été perdu (si perdu)\n",
    "- Lost date: Date de perte du dossier (si perdu)\n",
    "- Won (indicateurs des dossiers gagnés)\n",
    "- Coût du lead: Coût du lead. (si pas de coût, il s'agit d'un lead gratuit: une personne qui vient directement sur le site)\n",
    "\n",
    "\n",
    "Questions Préliminaires:\n",
    "1. Décrire les colonnes du dataset\n",
    "2. Donner la proportions de valeurs manquantes pour chaque colonne\n",
    "3. Compter le nombre de valeurs uniques pour chaque colonne\n",
    "4. Donner ces valeurs\n",
    "5. Convertir les 2 colonnes associées à une date au format date de Python\n",
    "6. Créer une nouvelle colonne 'Stagename_bin' qui sera formée de valeurs égales à 0 si Perdu, 1 si gagné\n",
    "6bis. Créer une 3ème colonne en appliquant la méthode 'get_dummies()' \n",
    "7. Combien y-a-t-il de leads gagnés dans ce dataset ?\n",
    "8. Faire la même chose que les 2 colonnes précédentes pour la colonne Project type\n",
    "9. Renommer les colonnes 'Lost reason' et 'Source of lead' en 'Lost_reason' et 'Source_of_lead'\n",
    "10. Grouper toutes les lignes en fonction 'Source_of_lead'. Lors du groupement, ne conserver que la somme de amount\n",
    "11. Créer une colonne intitulée 'total' qui correspond à la somme de 'Gagné' et 'Perdu'. A quoi est égale cette colonne\n",
    "12. Supprimer la dernière colonne créée vu qu'elle est inutile\n",
    "13. Pour la colonne 'Lost_reason', lorsque c'est le cas, remplacer '/' par '-'\n",
    "14. Remplacer les élément NaN de la colonne 'Property kind' par 'other'\n",
    "\n",
    "\n",
    "Questions:\n",
    "1. Quel est le montant moyen des inscriptions par mois ?\n",
    "2. Calculer l'évolution du taux de conversion par jour. On s'attend à avoir un groupement par mois et par jour et un taux de conversion\n",
    "2bis. Tracer la courbe du taux de conversion en fonction du temps \n",
    "3. Quelles sont les principales raisons de pertes des dossiers (Colonne: \"Lost Reason\"). A vous de définir comment faire... (Il y a plusieurs façons d'y parvenir)\n",
    "4. Le directeur marketing souhaite retravailler la répartition de sonbudget par canal. Quelles recommandations feriez-vous\n",
    "sur les canaux à prioriser\n",
    "5. Pensez-vous à des indicateurs ou graphes non réalisés plus hauts qui seraient utiles à réaliser pour mieux\n",
    "comprendre le sujet ? (les réaliser)\n",
    "6. Au vu des questions posées dans la rubrique question, aurait-il été intéressant de supprimer les lignes pour lesquelles 'Cout du lead' = np.nan ?\n",
    "7. Est-il pertinent de remplacer les éléments NaN de la colonne 'Won' par 0 ? Si oui, le faire sinon laisser tel quel"
   ]
  },
  {
   "cell_type": "code",
   "execution_count": 114,
   "metadata": {},
   "outputs": [
    {
     "data": {
      "text/html": [
       "<div><div id=30e3001a-ee89-4147-b56a-189150f5714f style=\"display:none; background-color:#9D6CFF; color:white; width:200px; height:30px; padding-left:5px; border-radius:4px; flex-direction:row; justify-content:space-around; align-items:center;\" onmouseover=\"this.style.backgroundColor='#BA9BF8'\" onmouseout=\"this.style.backgroundColor='#9D6CFF'\" onclick=\"window.commands?.execute('create-mitosheet-from-dataframe-output');\">See Full Dataframe in Mito</div> <script> if (window.commands?.hasCommand('create-mitosheet-from-dataframe-output')) document.getElementById('30e3001a-ee89-4147-b56a-189150f5714f').style.display = 'flex' </script> <table border=\"1\" class=\"dataframe\">\n",
       "  <thead>\n",
       "    <tr style=\"text-align: right;\">\n",
       "      <th></th>\n",
       "      <th>Subscribe date</th>\n",
       "      <th>Stagename</th>\n",
       "      <th>Project type</th>\n",
       "      <th>Property kind</th>\n",
       "      <th>Source of lead</th>\n",
       "      <th>Amount</th>\n",
       "      <th>Lost reason</th>\n",
       "      <th>Lost date</th>\n",
       "      <th>Won</th>\n",
       "      <th>Cout du lead</th>\n",
       "    </tr>\n",
       "  </thead>\n",
       "  <tbody>\n",
       "    <tr>\n",
       "      <th>0</th>\n",
       "      <td>2019-02-25</td>\n",
       "      <td>Gagné</td>\n",
       "      <td>primary_residence</td>\n",
       "      <td>old</td>\n",
       "      <td>partner1</td>\n",
       "      <td>118</td>\n",
       "      <td>NaN</td>\n",
       "      <td>NaN</td>\n",
       "      <td>1.0</td>\n",
       "      <td>NaN</td>\n",
       "    </tr>\n",
       "    <tr>\n",
       "      <th>1</th>\n",
       "      <td>2019-02-26</td>\n",
       "      <td>Perdu</td>\n",
       "      <td>primary_residence</td>\n",
       "      <td>new</td>\n",
       "      <td>partner1</td>\n",
       "      <td>184</td>\n",
       "      <td>N'a jamais répondu (+5 appels)</td>\n",
       "      <td>2019-03-13</td>\n",
       "      <td>NaN</td>\n",
       "      <td>NaN</td>\n",
       "    </tr>\n",
       "    <tr>\n",
       "      <th>2</th>\n",
       "      <td>2019-01-09</td>\n",
       "      <td>Perdu</td>\n",
       "      <td>primary_residence</td>\n",
       "      <td>NaN</td>\n",
       "      <td>partner1</td>\n",
       "      <td>243</td>\n",
       "      <td>N'a jamais répondu (+5 appels)</td>\n",
       "      <td>NaN</td>\n",
       "      <td>NaN</td>\n",
       "      <td>NaN</td>\n",
       "    </tr>\n",
       "    <tr>\n",
       "      <th>3</th>\n",
       "      <td>2019-03-22</td>\n",
       "      <td>Perdu</td>\n",
       "      <td>primary_residence</td>\n",
       "      <td>new</td>\n",
       "      <td>partner1</td>\n",
       "      <td>215</td>\n",
       "      <td>Projet en recherche / Projet lointain</td>\n",
       "      <td>2019-03-28</td>\n",
       "      <td>NaN</td>\n",
       "      <td>NaN</td>\n",
       "    </tr>\n",
       "    <tr>\n",
       "      <th>4</th>\n",
       "      <td>2019-03-03</td>\n",
       "      <td>Gagné</td>\n",
       "      <td>rental_investment</td>\n",
       "      <td>old</td>\n",
       "      <td>partner1</td>\n",
       "      <td>142</td>\n",
       "      <td>NaN</td>\n",
       "      <td>NaN</td>\n",
       "      <td>1.0</td>\n",
       "      <td>NaN</td>\n",
       "    </tr>\n",
       "  </tbody>\n",
       "</table></div>"
      ],
      "text/plain": [
       "  Subscribe date Stagename       Project type Property kind Source of lead  \\\n",
       "0     2019-02-25     Gagné  primary_residence           old       partner1   \n",
       "1     2019-02-26     Perdu  primary_residence           new       partner1   \n",
       "2     2019-01-09     Perdu  primary_residence           NaN       partner1   \n",
       "3     2019-03-22     Perdu  primary_residence           new       partner1   \n",
       "4     2019-03-03     Gagné  rental_investment           old       partner1   \n",
       "\n",
       "   Amount                            Lost reason   Lost date  Won  \\\n",
       "0     118                                    NaN         NaN  1.0   \n",
       "1     184         N'a jamais répondu (+5 appels)  2019-03-13  NaN   \n",
       "2     243         N'a jamais répondu (+5 appels)         NaN  NaN   \n",
       "3     215  Projet en recherche / Projet lointain  2019-03-28  NaN   \n",
       "4     142                                    NaN         NaN  1.0   \n",
       "\n",
       "   Cout du lead  \n",
       "0           NaN  \n",
       "1           NaN  \n",
       "2           NaN  \n",
       "3           NaN  \n",
       "4           NaN  "
      ]
     },
     "execution_count": 114,
     "metadata": {},
     "output_type": "execute_result"
    }
   ],
   "source": [
    "import pandas as pd\n",
    "\n",
    "df = pd.read_csv('CRM_data.csv')\n",
    "header = df.columns.tolist()\n",
    "df.head(5)"
   ]
  },
  {
   "attachments": {},
   "cell_type": "markdown",
   "metadata": {},
   "source": [
    "# Questions préliminaires"
   ]
  },
  {
   "cell_type": "code",
   "execution_count": 56,
   "metadata": {},
   "outputs": [
    {
     "data": {
      "text/html": [
       "<div><div id=f2981130-190e-4440-a194-4e151370d919 style=\"display:none; background-color:#9D6CFF; color:white; width:200px; height:30px; padding-left:5px; border-radius:4px; flex-direction:row; justify-content:space-around; align-items:center;\" onmouseover=\"this.style.backgroundColor='#BA9BF8'\" onmouseout=\"this.style.backgroundColor='#9D6CFF'\" onclick=\"window.commands?.execute('create-mitosheet-from-dataframe-output');\">See Full Dataframe in Mito</div> <script> if (window.commands?.hasCommand('create-mitosheet-from-dataframe-output')) document.getElementById('f2981130-190e-4440-a194-4e151370d919').style.display = 'flex' </script> <table border=\"1\" class=\"dataframe\">\n",
       "  <thead>\n",
       "    <tr style=\"text-align: right;\">\n",
       "      <th></th>\n",
       "      <th>Colonne</th>\n",
       "      <th>Pourcentage de valeurs manquantes</th>\n",
       "    </tr>\n",
       "  </thead>\n",
       "  <tbody>\n",
       "    <tr>\n",
       "      <th>0</th>\n",
       "      <td>Subscribe date</td>\n",
       "      <td>0.0</td>\n",
       "    </tr>\n",
       "    <tr>\n",
       "      <th>1</th>\n",
       "      <td>Stagename</td>\n",
       "      <td>0.0</td>\n",
       "    </tr>\n",
       "    <tr>\n",
       "      <th>2</th>\n",
       "      <td>Project type</td>\n",
       "      <td>0.2</td>\n",
       "    </tr>\n",
       "    <tr>\n",
       "      <th>3</th>\n",
       "      <td>Property kind</td>\n",
       "      <td>48.8</td>\n",
       "    </tr>\n",
       "    <tr>\n",
       "      <th>4</th>\n",
       "      <td>Source of lead</td>\n",
       "      <td>56.7</td>\n",
       "    </tr>\n",
       "    <tr>\n",
       "      <th>5</th>\n",
       "      <td>Amount</td>\n",
       "      <td>0.0</td>\n",
       "    </tr>\n",
       "    <tr>\n",
       "      <th>6</th>\n",
       "      <td>Lost reason</td>\n",
       "      <td>11.1</td>\n",
       "    </tr>\n",
       "    <tr>\n",
       "      <th>7</th>\n",
       "      <td>Lost date</td>\n",
       "      <td>48.9</td>\n",
       "    </tr>\n",
       "    <tr>\n",
       "      <th>8</th>\n",
       "      <td>Won</td>\n",
       "      <td>89.8</td>\n",
       "    </tr>\n",
       "    <tr>\n",
       "      <th>9</th>\n",
       "      <td>Cout du lead</td>\n",
       "      <td>76.9</td>\n",
       "    </tr>\n",
       "  </tbody>\n",
       "</table></div>"
      ],
      "text/plain": [
       "          Colonne  Pourcentage de valeurs manquantes\n",
       "0  Subscribe date                                0.0\n",
       "1       Stagename                                0.0\n",
       "2    Project type                                0.2\n",
       "3   Property kind                               48.8\n",
       "4  Source of lead                               56.7\n",
       "5          Amount                                0.0\n",
       "6     Lost reason                               11.1\n",
       "7       Lost date                               48.9\n",
       "8             Won                               89.8\n",
       "9    Cout du lead                               76.9"
      ]
     },
     "execution_count": 56,
     "metadata": {},
     "output_type": "execute_result"
    }
   ],
   "source": [
    "# Donner la proportions de valeurs manquantes pour chaque colonne\n",
    "\n",
    "pd.DataFrame({'Colonne' : header, 'Pourcentage de valeurs manquantes' : round(100-df.count()/df.shape[0]*100,1).tolist()})"
   ]
  },
  {
   "cell_type": "code",
   "execution_count": 57,
   "metadata": {},
   "outputs": [
    {
     "data": {
      "text/html": [
       "<div><div id=53ee0b84-837b-4e95-80d2-92813b168456 style=\"display:none; background-color:#9D6CFF; color:white; width:200px; height:30px; padding-left:5px; border-radius:4px; flex-direction:row; justify-content:space-around; align-items:center;\" onmouseover=\"this.style.backgroundColor='#BA9BF8'\" onmouseout=\"this.style.backgroundColor='#9D6CFF'\" onclick=\"window.commands?.execute('create-mitosheet-from-dataframe-output');\">See Full Dataframe in Mito</div> <script> if (window.commands?.hasCommand('create-mitosheet-from-dataframe-output')) document.getElementById('53ee0b84-837b-4e95-80d2-92813b168456').style.display = 'flex' </script> <table border=\"1\" class=\"dataframe\">\n",
       "  <thead>\n",
       "    <tr style=\"text-align: right;\">\n",
       "      <th></th>\n",
       "      <th>Colonne</th>\n",
       "      <th>Nombre de valeurs uniques</th>\n",
       "    </tr>\n",
       "  </thead>\n",
       "  <tbody>\n",
       "    <tr>\n",
       "      <th>0</th>\n",
       "      <td>Subscribe date</td>\n",
       "      <td>88</td>\n",
       "    </tr>\n",
       "    <tr>\n",
       "      <th>1</th>\n",
       "      <td>Stagename</td>\n",
       "      <td>2</td>\n",
       "    </tr>\n",
       "    <tr>\n",
       "      <th>2</th>\n",
       "      <td>Project type</td>\n",
       "      <td>3</td>\n",
       "    </tr>\n",
       "    <tr>\n",
       "      <th>3</th>\n",
       "      <td>Property kind</td>\n",
       "      <td>5</td>\n",
       "    </tr>\n",
       "    <tr>\n",
       "      <th>4</th>\n",
       "      <td>Source of lead</td>\n",
       "      <td>10</td>\n",
       "    </tr>\n",
       "    <tr>\n",
       "      <th>5</th>\n",
       "      <td>Amount</td>\n",
       "      <td>207</td>\n",
       "    </tr>\n",
       "    <tr>\n",
       "      <th>6</th>\n",
       "      <td>Lost reason</td>\n",
       "      <td>12</td>\n",
       "    </tr>\n",
       "    <tr>\n",
       "      <th>7</th>\n",
       "      <td>Lost date</td>\n",
       "      <td>157</td>\n",
       "    </tr>\n",
       "    <tr>\n",
       "      <th>8</th>\n",
       "      <td>Won</td>\n",
       "      <td>1</td>\n",
       "    </tr>\n",
       "    <tr>\n",
       "      <th>9</th>\n",
       "      <td>Cout du lead</td>\n",
       "      <td>27</td>\n",
       "    </tr>\n",
       "  </tbody>\n",
       "</table></div>"
      ],
      "text/plain": [
       "          Colonne  Nombre de valeurs uniques\n",
       "0  Subscribe date                         88\n",
       "1       Stagename                          2\n",
       "2    Project type                          3\n",
       "3   Property kind                          5\n",
       "4  Source of lead                         10\n",
       "5          Amount                        207\n",
       "6     Lost reason                         12\n",
       "7       Lost date                        157\n",
       "8             Won                          1\n",
       "9    Cout du lead                         27"
      ]
     },
     "execution_count": 57,
     "metadata": {},
     "output_type": "execute_result"
    }
   ],
   "source": [
    "# Compter le nombre de valeurs uniques pour chaque colonne\n",
    "  \n",
    "pd.DataFrame({'Colonne' : header, 'Nombre de valeurs uniques' : [df[column].nunique() for column in header]})"
   ]
  },
  {
   "cell_type": "code",
   "execution_count": 58,
   "metadata": {},
   "outputs": [
    {
     "name": "stdout",
     "output_type": "stream",
     "text": [
      "Subscribe date :\n",
      " ['2019-02-25', '2019-02-26', '2019-01-09', '2019-03-22', '2019-03-03', '2019-03-09', '2019-03-21', '2019-03-27', '2019-02-07', '2019-01-05', '2019-01-17', '2019-02-11', '2019-01-08', '2019-01-12', '2019-01-20', '2019-01-02', '2019-01-04', '2019-02-16', '2019-01-19', '2019-02-22', '2019-02-09', '2019-02-21', '2019-02-28', '2019-03-28', '2019-03-23', '2019-02-27', '2019-01-16', '2019-02-08', '2019-02-20', '2019-02-13', '2019-02-17', '2019-02-03', '2019-02-01', '2019-01-06', '2019-01-27', '2019-01-26', '2019-01-07', '2019-01-23', '2019-01-14', '2019-02-10', '2019-03-26', '2019-03-05', '2019-01-03', '2019-01-13', '2019-02-18', '2019-01-01', '2019-03-25', '2019-03-14', '2019-03-07', '2019-03-01', '2019-03-04', '2019-03-13', '2019-03-20', '2019-03-19', '2019-03-29', '2019-01-30', '2019-01-15', '2019-03-18', '2019-01-11', '2019-01-29', '2019-03-06', '2019-01-10', '2019-02-06', '2019-02-15', '2019-02-02', '2019-03-11', '2019-03-08', '2019-03-15', '2019-03-02', '2019-03-16', '2019-03-10', '2019-03-17', '2019-03-12', '2019-02-05', '2019-01-31', '2019-02-14', '2019-01-25', '2019-03-24', '2019-01-18', '2019-01-24', '2019-02-23', '2019-02-24', '2019-02-19', '2019-01-28', '2019-02-04', '2019-01-21', '2019-02-12', '2019-01-22'] \n",
      "\n",
      "Stagename :\n",
      " ['Gagné', 'Perdu'] \n",
      "\n",
      "Project type :\n",
      " ['primary_residence', 'rental_investment', 'secondary_residence', nan] \n",
      "\n",
      "Property kind :\n",
      " ['old', 'new', nan, 'VEFA', 'land_construction', 'construction'] \n",
      "\n",
      "Source of lead :\n",
      " ['partner1', 'partner10', 'partner2', 'partner3', 'partner4', 'partner5', 'partner6', 'partner7', 'partner8', 'partner9', nan] \n",
      "\n",
      "Amount :\n",
      " [118, 184, 243, 215, 142, 246, 77, 162, 60, 108, 123, 205, 127, 111, 153, 226, 141, 62, 69, 200, 100, 89, 241, 55, 231, 211, 207, 181, 112, 107, 124, 242, 183, 125, 240, 103, 76, 157, 137, 175, 212, 84, 189, 199, 53, 185, 75, 208, 190, 159, 131, 166, 139, 169, 197, 163, 144, 121, 87, 220, 122, 85, 244, 224, 80, 249, 102, 235, 164, 209, 237, 104, 120, 61, 233, 276, 204, 188, 245, 272, 278, 174, 259, 285, 277, 228, 173, 81, 192, 58, 150, 152, 206, 147, 172, 67, 132, 213, 225, 171, 248, 221, 136, 135, 250, 219, 198, 54, 196, 179, 96, 138, 99, 129, 115, 52, 72, 229, 133, 74, 110, 178, 105, 66, 161, 155, 109, 146, 148, 232, 222, 97, 202, 151, 128, 216, 126, 247, 195, 88, 158, 90, 101, 201, 70, 64, 156, 140, 78, 193, 177, 236, 57, 217, 167, 63, 214, 149, 187, 68, 194, 93, 134, 176, 83, 65, 98, 230, 143, 218, 210, 180, 154, 117, 234, 182, 114, 51, 203, 168, 92, 91, 94, 160, 56, 71, 186, 227, 191, 95, 145, 50, 223, 59, 79, 73, 113, 119, 239, 170, 165, 116, 238, 130, 106, 82, 86] \n",
      "\n",
      "Lost reason :\n",
      " [nan, \"N'a jamais répondu (+5 appels)\", 'Projet en recherche / Projet lointain', 'Ne souhaite pas faire ce dossier', 'Perdu contre autre banque', 'A répondu mais ne répond plus (+5 appels)', 'Test', 'Dossier non finançable', 'Projet arrêté', 'Faux email & numéro', 'Doublon', 'Perdu contre autre courtier', 'Client extrêmement difficile'] \n",
      "\n",
      "Lost date :\n",
      " [nan, '2019-03-13', '2019-03-28', '2019-05-06', '2019-04-24', '2019-05-02', '2019-06-12', '2019-03-20', '2019-03-29', '2019-08-01', '2019-05-18', '2019-03-22', '2019-04-04', '2019-03-06', '2019-03-05', '2019-03-26', '2019-04-23', '2019-08-28', '2019-04-29', '2019-08-30', '2019-09-09', '2019-04-17', '2019-05-20', '2019-09-19', '2019-06-18', '2019-09-05', '2019-06-25', '2019-04-05', '2019-04-02', '2019-06-27', '2019-06-04', '2019-06-24', '2019-07-24', '2019-06-13', '2019-05-31', '2019-05-15', '2019-05-28', '2019-04-13', '2019-05-10', '2019-07-23', '2019-04-09', '2019-06-06', '2019-05-03', '2019-05-09', '2019-09-17', '2019-07-12', '2019-10-03', '2019-04-01', '2019-05-16', '2019-07-03', '2019-05-22', '2019-03-16', '2019-09-12', '2019-03-08', '2019-04-03', '2019-04-16', '2019-03-15', '2019-03-14', '2019-03-27', '2019-05-17', '2019-04-26', '2019-04-20', '2019-03-25', '2019-09-23', '2019-04-12', '2019-06-22', '2019-03-18', '2019-03-19', '2019-05-29', '2019-03-09', '2019-06-21', '2019-03-07', '2019-04-11', '2019-03-11', '2019-03-12', '2019-06-26', '2019-05-13', '2019-04-08', '2019-04-18', '2019-04-15', '2019-09-18', '2019-09-24', '2019-06-19', '2019-09-06', '2019-03-30', '2019-03-21', '2019-05-24', '2019-04-19', '2019-04-10', '2019-05-14', '2019-07-22', '2019-07-05', '2019-08-05', '2019-09-11', '2019-07-15', '2019-09-25', '2019-10-02', '2019-06-03', '2019-07-17', '2019-07-09', '2019-07-10', '2019-03-04', '2019-09-26', '2019-05-21', '2019-08-27', '2019-02-11', '2019-04-30', '2019-07-19', '2019-09-04', '2019-08-06', '2019-06-11', '2019-09-02', '2019-07-08', '2019-05-23', '2019-08-12', '2019-07-16', '2019-05-27', '2019-05-25', '2019-09-10', '2019-04-25', '2019-09-03', '2019-06-20', '2019-06-17', '2019-10-04', '2019-07-01', '2019-09-16', '2019-06-05', '2019-07-31', '2019-08-13', '2019-07-04', '2019-07-11', '2019-08-19', '2019-06-15', '2019-07-18', '2019-10-01', '2019-06-14', '2019-07-02', '2019-09-13', '2019-05-07', '2019-08-23', '2019-06-08', '2019-08-21', '2019-03-23', '2019-08-02', '2019-08-22', '2019-08-26', '2019-08-08', '2019-06-07', '2019-08-07', '2019-08-24', '2019-08-09', '2019-06-10', '2019-04-14', '2019-04-06', '2019-09-30', '2019-06-01', '2019-05-04', '2019-08-14'] \n",
      "\n",
      "Won :\n",
      " [1.0, nan] \n",
      "\n",
      "Cout du lead :\n",
      " [nan, 10.0, 33.0, 25.0, 28.0, 32.0, 34.0, 27.0, 30.0, 29.0, 31.0, 26.0, 35.0, 11.0, 16.0, 12.0, 20.0, 19.0, 17.0, 13.0, 14.0, 15.0, 18.0, 37.0, 23.0, 24.0, 5.0, 100.0] \n",
      "\n"
     ]
    }
   ],
   "source": [
    "# Donner ces valeurs\n",
    "\n",
    "for column in header: print(column, ':\\n', df[column].unique().tolist(), '\\n')"
   ]
  },
  {
   "cell_type": "code",
   "execution_count": 59,
   "metadata": {},
   "outputs": [],
   "source": [
    "# Convertir les 2 colonnes associées à une date au format date de Python\n",
    "\n",
    "df['Subscribe date'] = pd.to_datetime(df['Subscribe date'])\n",
    "df['Lost date'] = pd.to_datetime(df['Lost date'])"
   ]
  },
  {
   "cell_type": "code",
   "execution_count": 60,
   "metadata": {},
   "outputs": [],
   "source": [
    "# Créer une nouvelle colonne 'Stagename_bin' qui sera formée de valeurs égales à 0 si Perdu, 1 si gagné\n",
    "\n",
    "df['Stagename_bin'] = df['Stagename'].apply(lambda str: 1 if str=='Gagné' else 0)"
   ]
  },
  {
   "cell_type": "code",
   "execution_count": 61,
   "metadata": {},
   "outputs": [],
   "source": [
    "# Créer une 3ème colonne en appliquant la méthode 'get_dummies()'\n",
    "\n",
    "tdf = pd.get_dummies(df['Stagename'])\n",
    "df['Gagné'], df['Perdu'] = tdf['Gagné'], tdf['Perdu']"
   ]
  },
  {
   "cell_type": "code",
   "execution_count": 62,
   "metadata": {},
   "outputs": [
    {
     "name": "stdout",
     "output_type": "stream",
     "text": [
      "Nombre de leads gagnés : 368\n"
     ]
    }
   ],
   "source": [
    "# Combien y-a-t-il de leads gagnés dans ce dataset ?\n",
    "\n",
    "print('Nombre de leads gagnés :', sum(df['Stagename_bin']))"
   ]
  },
  {
   "cell_type": "code",
   "execution_count": 63,
   "metadata": {},
   "outputs": [],
   "source": [
    "# Faire la même chose que les 2 colonnes précédentes pour la colonne Project type\n",
    "\n",
    "tdf = pd.get_dummies(df['Project type'])\n",
    "df['primary_residence'], df['rental_investment'], df['secondary_residence'] = tdf['primary_residence'], tdf['rental_investment'], tdf['secondary_residence']"
   ]
  },
  {
   "cell_type": "code",
   "execution_count": 64,
   "metadata": {},
   "outputs": [],
   "source": [
    "# Renommer les colonnes 'Lost reason' et 'Source of lead' en 'Lost_reason' et 'Source_of_lead'\n",
    "\n",
    "df = df.rename({'Lost reason': 'Lost_reason', 'Source of lead': 'Source_of_lead'}, axis=1)"
   ]
  },
  {
   "cell_type": "code",
   "execution_count": 65,
   "metadata": {},
   "outputs": [
    {
     "data": {
      "text/html": [
       "<div><div id=5e0172a7-e792-4968-8849-bf05f0b07e41 style=\"display:none; background-color:#9D6CFF; color:white; width:200px; height:30px; padding-left:5px; border-radius:4px; flex-direction:row; justify-content:space-around; align-items:center;\" onmouseover=\"this.style.backgroundColor='#BA9BF8'\" onmouseout=\"this.style.backgroundColor='#9D6CFF'\" onclick=\"window.commands?.execute('create-mitosheet-from-dataframe-output');\">See Full Dataframe in Mito</div> <script> if (window.commands?.hasCommand('create-mitosheet-from-dataframe-output')) document.getElementById('5e0172a7-e792-4968-8849-bf05f0b07e41').style.display = 'flex' </script> <table border=\"1\" class=\"dataframe\">\n",
       "  <thead>\n",
       "    <tr style=\"text-align: right;\">\n",
       "      <th></th>\n",
       "      <th>Amount</th>\n",
       "    </tr>\n",
       "    <tr>\n",
       "      <th>Source_of_lead</th>\n",
       "      <th></th>\n",
       "    </tr>\n",
       "  </thead>\n",
       "  <tbody>\n",
       "    <tr>\n",
       "      <th>partner1</th>\n",
       "      <td>13996</td>\n",
       "    </tr>\n",
       "    <tr>\n",
       "      <th>partner10</th>\n",
       "      <td>4153</td>\n",
       "    </tr>\n",
       "    <tr>\n",
       "      <th>partner2</th>\n",
       "      <td>34871</td>\n",
       "    </tr>\n",
       "    <tr>\n",
       "      <th>partner3</th>\n",
       "      <td>7301</td>\n",
       "    </tr>\n",
       "    <tr>\n",
       "      <th>partner4</th>\n",
       "      <td>65485</td>\n",
       "    </tr>\n",
       "    <tr>\n",
       "      <th>partner5</th>\n",
       "      <td>3940</td>\n",
       "    </tr>\n",
       "    <tr>\n",
       "      <th>partner6</th>\n",
       "      <td>23800</td>\n",
       "    </tr>\n",
       "    <tr>\n",
       "      <th>partner7</th>\n",
       "      <td>690</td>\n",
       "    </tr>\n",
       "    <tr>\n",
       "      <th>partner8</th>\n",
       "      <td>1935</td>\n",
       "    </tr>\n",
       "    <tr>\n",
       "      <th>partner9</th>\n",
       "      <td>99044</td>\n",
       "    </tr>\n",
       "  </tbody>\n",
       "</table></div>"
      ],
      "text/plain": [
       "                Amount\n",
       "Source_of_lead        \n",
       "partner1         13996\n",
       "partner10         4153\n",
       "partner2         34871\n",
       "partner3          7301\n",
       "partner4         65485\n",
       "partner5          3940\n",
       "partner6         23800\n",
       "partner7           690\n",
       "partner8          1935\n",
       "partner9         99044"
      ]
     },
     "execution_count": 65,
     "metadata": {},
     "output_type": "execute_result"
    }
   ],
   "source": [
    "# Grouper toutes les lignes en fonction 'Source_of_lead'. Lors du groupement, ne conserver que la somme de amount\n",
    "\n",
    "df.groupby(by='Source_of_lead')['Amount'].sum().to_frame()"
   ]
  },
  {
   "cell_type": "code",
   "execution_count": 66,
   "metadata": {},
   "outputs": [],
   "source": [
    "# Créer une colonne intitulée 'total' qui correspond à la somme de 'Gagné' et 'Perdu'. A quoi est égale cette colonne\n",
    "\n",
    "df['Total'] = df['Gagné'] + df['Perdu']"
   ]
  },
  {
   "cell_type": "code",
   "execution_count": 67,
   "metadata": {},
   "outputs": [],
   "source": [
    "# Supprimer la dernière colonne créée vu qu'elle est inutile\n",
    "\n",
    "df = df.drop('Total', axis=1)"
   ]
  },
  {
   "cell_type": "code",
   "execution_count": 68,
   "metadata": {},
   "outputs": [],
   "source": [
    "# Pour la colonne 'Lost_reason', lorsque c'est le cas, remplacer '/' par '-'\n",
    "\n",
    "df['Lost_reason'] = df['Lost_reason'].str.replace('/','-')"
   ]
  },
  {
   "cell_type": "code",
   "execution_count": 69,
   "metadata": {},
   "outputs": [],
   "source": [
    "# Remplacer les élément NaN de la colonne 'Property kind' par 'other'\n",
    "\n",
    "df['Property kind'] = df['Property kind'].fillna('other')"
   ]
  },
  {
   "cell_type": "markdown",
   "metadata": {},
   "source": [
    "# Questions"
   ]
  },
  {
   "cell_type": "code",
   "execution_count": 70,
   "metadata": {},
   "outputs": [
    {
     "data": {
      "text/html": [
       "<div><div id=95721493-9a5f-41b1-a102-162d67fa839b style=\"display:none; background-color:#9D6CFF; color:white; width:200px; height:30px; padding-left:5px; border-radius:4px; flex-direction:row; justify-content:space-around; align-items:center;\" onmouseover=\"this.style.backgroundColor='#BA9BF8'\" onmouseout=\"this.style.backgroundColor='#9D6CFF'\" onclick=\"window.commands?.execute('create-mitosheet-from-dataframe-output');\">See Full Dataframe in Mito</div> <script> if (window.commands?.hasCommand('create-mitosheet-from-dataframe-output')) document.getElementById('95721493-9a5f-41b1-a102-162d67fa839b').style.display = 'flex' </script> <table border=\"1\" class=\"dataframe\">\n",
       "  <thead>\n",
       "    <tr style=\"text-align: right;\">\n",
       "      <th></th>\n",
       "      <th>Amount</th>\n",
       "    </tr>\n",
       "    <tr>\n",
       "      <th>Subscribe date</th>\n",
       "      <th></th>\n",
       "    </tr>\n",
       "  </thead>\n",
       "  <tbody>\n",
       "    <tr>\n",
       "      <th>2019-01</th>\n",
       "      <td>156.864039</td>\n",
       "    </tr>\n",
       "    <tr>\n",
       "      <th>2019-02</th>\n",
       "      <td>153.686844</td>\n",
       "    </tr>\n",
       "    <tr>\n",
       "      <th>2019-03</th>\n",
       "      <td>157.293594</td>\n",
       "    </tr>\n",
       "  </tbody>\n",
       "</table></div>"
      ],
      "text/plain": [
       "                    Amount\n",
       "Subscribe date            \n",
       "2019-01         156.864039\n",
       "2019-02         153.686844\n",
       "2019-03         157.293594"
      ]
     },
     "execution_count": 70,
     "metadata": {},
     "output_type": "execute_result"
    }
   ],
   "source": [
    "# Quel est le montant moyen des inscriptions par mois ?\n",
    "\n",
    "tdf = df[['Subscribe date', 'Amount']].copy()\n",
    "tdf['Subscribe date'] = tdf['Subscribe date'].dt.strftime('%Y-%m')\n",
    "tdf.groupby(by='Subscribe date')['Amount'].mean().to_frame()"
   ]
  },
  {
   "cell_type": "code",
   "execution_count": 71,
   "metadata": {},
   "outputs": [
    {
     "data": {
      "text/html": [
       "<div><div id=556c9fa2-e460-48bf-8698-71535f1dc866 style=\"display:none; background-color:#9D6CFF; color:white; width:200px; height:30px; padding-left:5px; border-radius:4px; flex-direction:row; justify-content:space-around; align-items:center;\" onmouseover=\"this.style.backgroundColor='#BA9BF8'\" onmouseout=\"this.style.backgroundColor='#9D6CFF'\" onclick=\"window.commands?.execute('create-mitosheet-from-dataframe-output');\">See Full Dataframe in Mito</div> <script> if (window.commands?.hasCommand('create-mitosheet-from-dataframe-output')) document.getElementById('556c9fa2-e460-48bf-8698-71535f1dc866').style.display = 'flex' </script> <table border=\"1\" class=\"dataframe\">\n",
       "  <thead>\n",
       "    <tr style=\"text-align: right;\">\n",
       "      <th></th>\n",
       "      <th></th>\n",
       "      <th>Stagename_bin</th>\n",
       "    </tr>\n",
       "    <tr>\n",
       "      <th>month</th>\n",
       "      <th>day</th>\n",
       "      <th></th>\n",
       "    </tr>\n",
       "  </thead>\n",
       "  <tbody>\n",
       "    <tr>\n",
       "      <th rowspan=\"5\" valign=\"top\">1</th>\n",
       "      <th>1</th>\n",
       "      <td>5.000000</td>\n",
       "    </tr>\n",
       "    <tr>\n",
       "      <th>2</th>\n",
       "      <td>9.433962</td>\n",
       "    </tr>\n",
       "    <tr>\n",
       "      <th>3</th>\n",
       "      <td>5.660377</td>\n",
       "    </tr>\n",
       "    <tr>\n",
       "      <th>4</th>\n",
       "      <td>6.250000</td>\n",
       "    </tr>\n",
       "    <tr>\n",
       "      <th>5</th>\n",
       "      <td>8.000000</td>\n",
       "    </tr>\n",
       "    <tr>\n",
       "      <th>...</th>\n",
       "      <th>...</th>\n",
       "      <td>...</td>\n",
       "    </tr>\n",
       "    <tr>\n",
       "      <th rowspan=\"5\" valign=\"top\">3</th>\n",
       "      <th>25</th>\n",
       "      <td>13.333333</td>\n",
       "    </tr>\n",
       "    <tr>\n",
       "      <th>26</th>\n",
       "      <td>10.810811</td>\n",
       "    </tr>\n",
       "    <tr>\n",
       "      <th>27</th>\n",
       "      <td>15.625000</td>\n",
       "    </tr>\n",
       "    <tr>\n",
       "      <th>28</th>\n",
       "      <td>7.500000</td>\n",
       "    </tr>\n",
       "    <tr>\n",
       "      <th>29</th>\n",
       "      <td>15.151515</td>\n",
       "    </tr>\n",
       "  </tbody>\n",
       "</table></div>"
      ],
      "text/plain": [
       "           Stagename_bin\n",
       "month day               \n",
       "1     1         5.000000\n",
       "      2         9.433962\n",
       "      3         5.660377\n",
       "      4         6.250000\n",
       "      5         8.000000\n",
       "...                  ...\n",
       "3     25       13.333333\n",
       "      26       10.810811\n",
       "      27       15.625000\n",
       "      28        7.500000\n",
       "      29       15.151515\n",
       "\n",
       "[88 rows x 1 columns]"
      ]
     },
     "execution_count": 71,
     "metadata": {},
     "output_type": "execute_result"
    }
   ],
   "source": [
    "# Calculer l'évolution du taux de conversion par jour. On s'attend à avoir un groupement par mois et par jour et un taux de conversion\n",
    "\n",
    "tdf = pd.DataFrame()\n",
    "tdf['month'] = df['Subscribe date'].dt.month\n",
    "tdf['day'] = df['Subscribe date'].dt.day\n",
    "tdf['Stagename_bin'] = df['Stagename_bin']\n",
    "tdf = tdf.sort_values(['month', 'day'])\n",
    "tdf = tdf.groupby(['month', 'day'])['Stagename_bin'].mean().to_frame()\n",
    "tdf['Stagename_bin'] = tdf['Stagename_bin']*100\n",
    "tdf"
   ]
  },
  {
   "cell_type": "code",
   "execution_count": 72,
   "metadata": {},
   "outputs": [
    {
     "data": {
      "image/png": "[encoded data removed]",
      "text/plain": [
       "<Figure size 432x288 with 1 Axes>"
      ]
     },
     "metadata": {
      "needs_background": "light"
     },
     "output_type": "display_data"
    }
   ],
   "source": [
    "# Tracer la courbe du taux de conversion en fonction du temps\n",
    "\n",
    "tdf.plot();"
   ]
  },
  {
   "cell_type": "code",
   "execution_count": 73,
   "metadata": {},
   "outputs": [
    {
     "data": {
      "text/html": [
       "<div><div id=931c247f-11f4-44fc-96df-70cfe89c273c style=\"display:none; background-color:#9D6CFF; color:white; width:200px; height:30px; padding-left:5px; border-radius:4px; flex-direction:row; justify-content:space-around; align-items:center;\" onmouseover=\"this.style.backgroundColor='#BA9BF8'\" onmouseout=\"this.style.backgroundColor='#9D6CFF'\" onclick=\"window.commands?.execute('create-mitosheet-from-dataframe-output');\">See Full Dataframe in Mito</div> <script> if (window.commands?.hasCommand('create-mitosheet-from-dataframe-output')) document.getElementById('931c247f-11f4-44fc-96df-70cfe89c273c').style.display = 'flex' </script> <table border=\"1\" class=\"dataframe\">\n",
       "  <thead>\n",
       "    <tr style=\"text-align: right;\">\n",
       "      <th></th>\n",
       "      <th>Amount</th>\n",
       "    </tr>\n",
       "    <tr>\n",
       "      <th>Lost_reason</th>\n",
       "      <th></th>\n",
       "    </tr>\n",
       "  </thead>\n",
       "  <tbody>\n",
       "    <tr>\n",
       "      <th>N'a jamais répondu (+5 appels)</th>\n",
       "      <td>620</td>\n",
       "    </tr>\n",
       "    <tr>\n",
       "      <th>Perdu contre autre banque</th>\n",
       "      <td>507</td>\n",
       "    </tr>\n",
       "    <tr>\n",
       "      <th>A répondu mais ne répond plus (+5 appels)</th>\n",
       "      <td>396</td>\n",
       "    </tr>\n",
       "    <tr>\n",
       "      <th>Projet en recherche - Projet lointain</th>\n",
       "      <td>393</td>\n",
       "    </tr>\n",
       "    <tr>\n",
       "      <th>Dossier non finançable</th>\n",
       "      <td>371</td>\n",
       "    </tr>\n",
       "  </tbody>\n",
       "</table></div>"
      ],
      "text/plain": [
       "                                           Amount\n",
       "Lost_reason                                      \n",
       "N'a jamais répondu (+5 appels)                620\n",
       "Perdu contre autre banque                     507\n",
       "A répondu mais ne répond plus (+5 appels)     396\n",
       "Projet en recherche - Projet lointain         393\n",
       "Dossier non finançable                        371"
      ]
     },
     "execution_count": 73,
     "metadata": {},
     "output_type": "execute_result"
    }
   ],
   "source": [
    "# Quelles sont les principales raisons de pertes des dossiers (Colonne: \"Lost Reason\"). A vous de définir comment faire... (Il y a plusieurs façons d'y parvenir)\n",
    "\n",
    "tdf = df['Lost_reason'].to_frame()\n",
    "tdf = tdf.groupby('Lost_reason')['Lost_reason'].count().sort_values(ascending=False)\n",
    "tdf = tdf.to_frame().rename(columns={'Lost_reason' : 'Amount'})\n",
    "tdf.head(5)"
   ]
  },
  {
   "cell_type": "code",
   "execution_count": 113,
   "metadata": {},
   "outputs": [
    {
     "data": {
      "text/html": [
       "<div><div id=62d738d8-6bb6-4f8c-882c-4de71cac58f7 style=\"display:none; background-color:#9D6CFF; color:white; width:200px; height:30px; padding-left:5px; border-radius:4px; flex-direction:row; justify-content:space-around; align-items:center;\" onmouseover=\"this.style.backgroundColor='#BA9BF8'\" onmouseout=\"this.style.backgroundColor='#9D6CFF'\" onclick=\"window.commands?.execute('create-mitosheet-from-dataframe-output');\">See Full Dataframe in Mito</div> <script> if (window.commands?.hasCommand('create-mitosheet-from-dataframe-output')) document.getElementById('62d738d8-6bb6-4f8c-882c-4de71cac58f7').style.display = 'flex' </script> <table border=\"1\" class=\"dataframe\">\n",
       "  <thead>\n",
       "    <tr style=\"text-align: right;\">\n",
       "      <th></th>\n",
       "      <th>number_of_leads</th>\n",
       "      <th>won_leads</th>\n",
       "      <th>total_gain</th>\n",
       "      <th>winrate</th>\n",
       "      <th>average_gain</th>\n",
       "      <th>sort</th>\n",
       "    </tr>\n",
       "    <tr>\n",
       "      <th>Source_of_lead</th>\n",
       "      <th></th>\n",
       "      <th></th>\n",
       "      <th></th>\n",
       "      <th></th>\n",
       "      <th></th>\n",
       "      <th></th>\n",
       "    </tr>\n",
       "  </thead>\n",
       "  <tbody>\n",
       "    <tr>\n",
       "      <th>partner10</th>\n",
       "      <td>18</td>\n",
       "      <td>6</td>\n",
       "      <td>1173.0</td>\n",
       "      <td>0.333333</td>\n",
       "      <td>65.166667</td>\n",
       "      <td>21.722222</td>\n",
       "    </tr>\n",
       "    <tr>\n",
       "      <th>partner2</th>\n",
       "      <td>234</td>\n",
       "      <td>36</td>\n",
       "      <td>5245.0</td>\n",
       "      <td>0.153846</td>\n",
       "      <td>22.414530</td>\n",
       "      <td>3.448389</td>\n",
       "    </tr>\n",
       "    <tr>\n",
       "      <th>partner7</th>\n",
       "      <td>5</td>\n",
       "      <td>1</td>\n",
       "      <td>85.0</td>\n",
       "      <td>0.200000</td>\n",
       "      <td>17.000000</td>\n",
       "      <td>3.400000</td>\n",
       "    </tr>\n",
       "    <tr>\n",
       "      <th>partner9</th>\n",
       "      <td>553</td>\n",
       "      <td>65</td>\n",
       "      <td>7880.0</td>\n",
       "      <td>0.117541</td>\n",
       "      <td>14.249548</td>\n",
       "      <td>1.674902</td>\n",
       "    </tr>\n",
       "    <tr>\n",
       "      <th>partner6</th>\n",
       "      <td>154</td>\n",
       "      <td>26</td>\n",
       "      <td>1330.0</td>\n",
       "      <td>0.168831</td>\n",
       "      <td>8.636364</td>\n",
       "      <td>1.458087</td>\n",
       "    </tr>\n",
       "    <tr>\n",
       "      <th>partner4</th>\n",
       "      <td>426</td>\n",
       "      <td>58</td>\n",
       "      <td>3059.0</td>\n",
       "      <td>0.136150</td>\n",
       "      <td>7.180751</td>\n",
       "      <td>0.977661</td>\n",
       "    </tr>\n",
       "    <tr>\n",
       "      <th>partner3</th>\n",
       "      <td>45</td>\n",
       "      <td>2</td>\n",
       "      <td>355.0</td>\n",
       "      <td>0.044444</td>\n",
       "      <td>7.888889</td>\n",
       "      <td>0.350617</td>\n",
       "    </tr>\n",
       "    <tr>\n",
       "      <th>partner1</th>\n",
       "      <td>90</td>\n",
       "      <td>4</td>\n",
       "      <td>634.0</td>\n",
       "      <td>0.044444</td>\n",
       "      <td>7.044444</td>\n",
       "      <td>0.313086</td>\n",
       "    </tr>\n",
       "    <tr>\n",
       "      <th>partner5</th>\n",
       "      <td>24</td>\n",
       "      <td>1</td>\n",
       "      <td>-176.0</td>\n",
       "      <td>0.041667</td>\n",
       "      <td>-7.333333</td>\n",
       "      <td>-0.305556</td>\n",
       "    </tr>\n",
       "    <tr>\n",
       "      <th>partner8</th>\n",
       "      <td>13</td>\n",
       "      <td>1</td>\n",
       "      <td>-284.0</td>\n",
       "      <td>0.076923</td>\n",
       "      <td>-21.846154</td>\n",
       "      <td>-1.680473</td>\n",
       "    </tr>\n",
       "  </tbody>\n",
       "</table></div>"
      ],
      "text/plain": [
       "                number_of_leads  won_leads  total_gain   winrate  \\\n",
       "Source_of_lead                                                     \n",
       "partner10                    18          6      1173.0  0.333333   \n",
       "partner2                    234         36      5245.0  0.153846   \n",
       "partner7                      5          1        85.0  0.200000   \n",
       "partner9                    553         65      7880.0  0.117541   \n",
       "partner6                    154         26      1330.0  0.168831   \n",
       "partner4                    426         58      3059.0  0.136150   \n",
       "partner3                     45          2       355.0  0.044444   \n",
       "partner1                     90          4       634.0  0.044444   \n",
       "partner5                     24          1      -176.0  0.041667   \n",
       "partner8                     13          1      -284.0  0.076923   \n",
       "\n",
       "                average_gain       sort  \n",
       "Source_of_lead                           \n",
       "partner10          65.166667  21.722222  \n",
       "partner2           22.414530   3.448389  \n",
       "partner7           17.000000   3.400000  \n",
       "partner9           14.249548   1.674902  \n",
       "partner6            8.636364   1.458087  \n",
       "partner4            7.180751   0.977661  \n",
       "partner3            7.888889   0.350617  \n",
       "partner1            7.044444   0.313086  \n",
       "partner5           -7.333333  -0.305556  \n",
       "partner8          -21.846154  -1.680473  "
      ]
     },
     "execution_count": 113,
     "metadata": {},
     "output_type": "execute_result"
    }
   ],
   "source": [
    "# Le directeur marketing souhaite retravailler la répartition de son budget par canal. Quelles recommandations feriez-vous sur les canaux à prioriser\n",
    "\n",
    "df['Gain'] = df['Amount']*df['Gagné']-df['Cout du lead'].apply(lambda x: x if x > 0 else 0)\n",
    "df2 = df.groupby('Source_of_lead')['Source_of_lead'].count().to_frame().rename(columns={'Source_of_lead' : 'number_of_leads'})\n",
    "df2['won_leads'] = df.groupby('Source_of_lead')['Gagné'].sum()\n",
    "df2['total_gain'] =  df.groupby('Source_of_lead')['Gain'].sum()\n",
    "df2['winrate'] = df2['won_leads']/df2['number_of_leads']\n",
    "df2['average_gain'] = df.groupby('Source_of_lead')['Gain'].mean()\n",
    "df2['sort'] = df2['winrate']*df2['average_gain']\n",
    "df2.sort_values(by=['sort'], ascending=False, inplace=True)\n",
    "df2"
   ]
  },
  {
   "cell_type": "code",
   "execution_count": 112,
   "metadata": {},
   "outputs": [
    {
     "data": {
      "text/plain": [
       "['partner10',\n",
       " 'partner2',\n",
       " 'partner7',\n",
       " 'partner9',\n",
       " 'partner6',\n",
       " 'partner4',\n",
       " 'partner3',\n",
       " 'partner1',\n",
       " 'partner5',\n",
       " 'partner8']"
      ]
     },
     "execution_count": 112,
     "metadata": {},
     "output_type": "execute_result"
    }
   ],
   "source": [
    "df2.index.values.tolist() # Ordre de priorité"
   ]
  },
  {
   "cell_type": "code",
   "execution_count": 120,
   "metadata": {},
   "outputs": [
    {
     "name": "stdout",
     "output_type": "stream",
     "text": [
      "'Cout du lead' contient 2772 NaN, supprimer ces lignes correspondrait à supprimer 77% du dataset\n"
     ]
    }
   ],
   "source": [
    "# Au vu des questions posées dans la rubrique question, aurait-il été intéressant de supprimer les lignes pour lesquelles 'Cout du lead' = np.nan ?\n",
    "\n",
    "cdl = df['Cout du lead'].isna().value_counts()\n",
    "print(f\"'Cout du lead' contient {cdl[True]} NaN, supprimer ces lignes correspondrait à supprimer {round(cdl[True]/(cdl[False]+cdl[True])*100)}% du dataset\")"
   ]
  },
  {
   "cell_type": "code",
   "execution_count": 121,
   "metadata": {},
   "outputs": [
    {
     "data": {
      "text/plain": [
       "\"On a fait un get_dummies sur la colonne 'Stagename', remplacer les NaN de la colonne 'Won' par des 0 reviendrait à dédoubler la colonne 'Gagné' résultant du get_dummies.\""
      ]
     },
     "execution_count": 121,
     "metadata": {},
     "output_type": "execute_result"
    }
   ],
   "source": [
    "# Est-il pertinent de remplacer les éléments NaN de la colonne 'Won' par 0 ? Si oui, le faire sinon laisser tel quel\n",
    "\n",
    "\"On a fait un get_dummies sur la colonne 'Stagename', remplacer les NaN de la colonne 'Won' par des 0 reviendrait à dédoubler la colonne 'Gagné' résultant du get_dummies.\""
   ]
  }
 ],
 "metadata": {
  "kernelspec": {
   "display_name": "simplon",
   "language": "python",
   "name": "python3"
  },
  "language_info": {
   "codemirror_mode": {
    "name": "ipython",
    "version": 3
   },
   "file_extension": ".py",
   "mimetype": "text/x-python",
   "name": "python",
   "nbconvert_exporter": "python",
   "pygments_lexer": "ipython3",
   "version": "3.8.12 (default, Sep 28 2022, 10:43:30) \n[GCC 11.2.0]"
  },
  "orig_nbformat": 4,
  "vscode": {
   "interpreter": {
    "hash": "503123401f496096e0f028585efad06d42166f80d999c13f687c901dac905c09"
   }
  }
 },
 "nbformat": 4,
 "nbformat_minor": 2
}
